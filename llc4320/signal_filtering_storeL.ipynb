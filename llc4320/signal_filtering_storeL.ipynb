{
 "cells": [
  {
   "cell_type": "markdown",
   "id": "3e891aca-cff2-45dd-a2ba-91832f1e6536",
   "metadata": {},
   "source": [
    "### Compute and store filtered and demodulated velocity field along simulated drifters trajectories"
   ]
  },
  {
   "cell_type": "code",
   "execution_count": 1,
   "id": "79d5c4dd-814e-4aa7-8590-40bdcf7c12c0",
   "metadata": {},
   "outputs": [],
   "source": [
    "import numpy as np\n",
    "import geopandas as gpd\n",
    "\n",
    "\n",
    "import xarray as xr\n",
    "from matplotlib import pyplot as plt\n",
    "%matplotlib inline\n",
    "\n",
    "from xhistogram.xarray import histogram\n",
    "import dask.dataframe as dd\n",
    "\n",
    "import mitequinox.utils as ut\n",
    "from mitequinox.plot import *\n",
    "import mitequinox.parcels as pa\n",
    "from xmitgcm import llcreader\n",
    "\n",
    "from scipy import signal\n",
    "import scipy.ndimage as im\n",
    "\n",
    "from sympy import Symbol, pi, atan, factor, lambdify\n",
    "\n",
    "import mitequinox.plot as pl\n",
    "import mitequinox.sigp as sp\n",
    "import pyinterp\n",
    "\n",
    "from fsspec.implementations.local import LocalFileSystem"
   ]
  },
  {
   "cell_type": "code",
   "execution_count": 2,
   "id": "8d296720-e55e-4796-a1c3-9832ef394fed",
   "metadata": {},
   "outputs": [],
   "source": [
    "from dask.distributed import Client, LocalCluster\n",
    "#\n",
    "#cluster = LocalCluster()\n",
    "#\n",
    "from dask_jobqueue import PBSCluster\n",
    "cluster = PBSCluster() #processes=7, cores=7\n",
    "w = cluster.scale(jobs=7\n",
    "                 )\n",
    "#\n",
    "client = Client(cluster)"
   ]
  },
  {
   "cell_type": "code",
   "execution_count": 3,
   "id": "a5fc979f-60e9-40e7-9248-314a60f6c8b6",
   "metadata": {},
   "outputs": [],
   "source": [
    "def convolve(x, h=None, hilbert=False):\n",
    "    \"\"\" Convolve an input signal with a kernel\n",
    "    Optionaly compute the Hilbert transform of the resulting time series\n",
    "    \n",
    "    Parameters\n",
    "    x : input signal\n",
    "    h : filter \n",
    "    hilbert : True for Hilbert transform to be applied to the filtered signal\n",
    "    \n",
    "    Returns\n",
    "    x_f : filtered signal or hilbert transform of the filtered signal\n",
    "    \"\"\"\n",
    "    x_f = signal.filtfilt(h, [1], x, axis=-1,padlen=0)#\n",
    "    if hilbert:\n",
    "        return signal.hilbert(x_f)\n",
    "    else:\n",
    "        return x_f\n",
    "    \n",
    "def filt_L(v, h,columns,om, hilbert=False):\n",
    "    \"\"\"Call convolve function and returns new dataframe with filtered and demodulated signal\n",
    "    \n",
    "    Parameters\n",
    "    v : input dataframe\n",
    "    h : filter to use as input in convolve\n",
    "    columns : columns to filter and demodulate in v\n",
    "    om : central frequency of h\n",
    "    hilbert : True for Hilbert transform to be applied to the filtered signal\n",
    "    \n",
    "    Returns\n",
    "    vc : dataframe with new columns with filtered and demodulated signal\n",
    "    \"\"\"\n",
    "    vc = v.copy()\n",
    "    \n",
    "    for V in columns:\n",
    "        vc[V+'_hat'] = convolve(vc[V],h=h,hilbert=hilbert)\n",
    "    time = np.arange(0,vc.index.size*dt,dt)#.compute()\n",
    "    exp = np.exp(-1j*om*2*np.pi*time)\n",
    "    for V in columns:\n",
    "        vc[V+'_demodulated'] = vc[V+'_hat']*exp\n",
    "    return vc"
   ]
  },
  {
   "cell_type": "markdown",
   "id": "75c46aac-794b-42d1-a92e-cf9dda32ad3f",
   "metadata": {},
   "source": [
    "#### Load variables along simulated  drifters trajectories (with time as index)"
   ]
  },
  {
   "cell_type": "code",
   "execution_count": 4,
   "id": "d46d2a04-0324-4cc7-a86c-8e13559ae575",
   "metadata": {},
   "outputs": [],
   "source": [
    "root_dir = '/home/datawork-lops-osi/equinox/mit4320/parcels/'\n",
    "run_name = 'global_T365j_dt1j_dij50'\n",
    "parcels_index = 'time'\n",
    "\n",
    "# choose to select time indexed data for now\n",
    "p = pa.parcels_output(root_dir+run_name, parquets=[parcels_index])\n",
    "df = p[parcels_index]\n",
    "df = pa.degs2ms(df) # convert velocities to m/s\n",
    "df.head()\n",
    "\n",
    "df = df.persist()"
   ]
  },
  {
   "cell_type": "markdown",
   "id": "0b42609f-e321-46d6-ae3c-facdd9002876",
   "metadata": {},
   "source": [
    "#### Definition of the filter used along each trajectories to keep only the tidal signal"
   ]
  },
  {
   "cell_type": "code",
   "execution_count": 6,
   "id": "06e9092a-a255-47f8-8348-8fb1fe5f5bf0",
   "metadata": {},
   "outputs": [],
   "source": [
    "dt = 1/24 # time step in days\n",
    "\n",
    "tidal_omega = sp.get_tidal_frequencies(\"M2\", \"K2\",\"S2\",\"N2\",\"K1\",\"O1\",\"M4\",\"S4\")\n",
    "omega_M2,omega_S2,omega_N2,omega_K2, domega, name = tidal_omega[\"M2\"],tidal_omega[\"S2\"],tidal_omega[\"N2\"],tidal_omega[\"K2\"], .2, \"semidiurnal\"\n",
    "omega = (omega_M2+omega_S2)/2 #central frequency\n",
    "\n",
    "V = ['zonal_velocity','meridional_velocity']\n",
    "Tw = 30 #filter length\n",
    "dband=0.2 #half bandwidth\n",
    "\n",
    "# Generate filter for given parameters : Tw, dband, omega (maximize gain for those choices)\n",
    "h = sp.generate_filter(omega, T=Tw, dt=dt, bandwidth=dband, normalized_bandwidth=None)"
   ]
  },
  {
   "cell_type": "markdown",
   "id": "91077489-0049-48ce-b128-b076c4e44c4e",
   "metadata": {},
   "source": [
    "#### Some cleaning before filtering"
   ]
  },
  {
   "cell_type": "code",
   "execution_count": 1,
   "id": "6a7bb857-07a3-4964-a45c-40863446e593",
   "metadata": {},
   "outputs": [],
   "source": [
    "def remove_duplicates(df):\n",
    "    \"\"\"Find duplicates in dataframe and remove them.\n",
    "    Create a column 'dt_flag', False if the dt is not different from 1/24\n",
    "    \n",
    "    ----------------\n",
    "    Parameters\n",
    "    df : dataframe from which duplicates must be removed, dataframe\n",
    "    \n",
    "    ----------------\n",
    "    Returns\n",
    "    df : input dataframe without duplicates and with new column 'dt_flag', dataframe\n",
    "    \"\"\"\n",
    "    df = df.reset_index().drop_duplicates('time').sort_values('time').set_index('time')\n",
    "    dt_df = df.index[1:]-df.index[:-1]\n",
    "    df['dt_flag'] = np.insert(dt_df!=np.timedelta64(1,'h'),0,False)\n",
    "    return df\n",
    "\n"
   ]
  },
  {
   "cell_type": "code",
   "execution_count": 2,
   "id": "determined-lafayette",
   "metadata": {},
   "outputs": [],
   "source": [
    "remove_duplicates?\n"
   ]
  },
  {
   "cell_type": "code",
   "execution_count": 7,
   "id": "d188490b-a44d-43e2-b163-2fb69911d5ab",
   "metadata": {},
   "outputs": [],
   "source": [
    "# Remove trajectories filled with NaN for some partiotions (partition 0 for example), unknown cause\n",
    "_df = df.dropna().persist()"
   ]
  },
  {
   "cell_type": "code",
   "execution_count": 8,
   "id": "b60b644c-309b-4505-95cf-00a26a7b4226",
   "metadata": {
    "tags": []
   },
   "outputs": [
    {
     "name": "stderr",
     "output_type": "stream",
     "text": [
      "<ipython-input-8-d07afee968a9>:2: UserWarning: `meta` is not specified, inferred from partial data. Please provide `meta` if the result is unexpected.\n",
      "  Before: .apply(func)\n",
      "  After:  .apply(func, meta={'x': 'f8', 'y': 'f8'}) for dataframe result\n",
      "  or:     .apply(func, meta=('x', 'f8'))            for series result\n",
      "  df_drop = _df.groupby('trajectory').apply(remove_duplicates\n"
     ]
    }
   ],
   "source": [
    "# Remove duplicates found in dataframe and create flag column to check that dt is always 1/24\n",
    "df_drop = _df.groupby('trajectory').apply(remove_duplicates\n",
    "                                   ).drop(columns='trajectory').reset_index().set_index('time').persist()"
   ]
  },
  {
   "cell_type": "markdown",
   "id": "12016a6b-0d3b-4e50-ba41-4e179b5581a0",
   "metadata": {},
   "source": [
    "#### Filter and demodulation (cf doc overleaf for formula) : \n",
    "Along each trajectory:\n",
    "\n",
    "1) Apply the filter, h, near the semi-diurnal tidal frequency, $\\omega$\n",
    "\n",
    "2) Demodulation of the filtered signal (*$e^{i\\omega t}$)"
   ]
  },
  {
   "cell_type": "code",
   "execution_count": 9,
   "id": "8739801d-52f9-4878-9bbe-7778e3c02468",
   "metadata": {},
   "outputs": [
    {
     "name": "stderr",
     "output_type": "stream",
     "text": [
      "<ipython-input-9-cde957a09447>:1: UserWarning: `meta` is not specified, inferred from partial data. Please provide `meta` if the result is unexpected.\n",
      "  Before: .apply(func)\n",
      "  After:  .apply(func, meta={'x': 'f8', 'y': 'f8'}) for dataframe result\n",
      "  or:     .apply(func, meta=('x', 'f8'))            for series result\n",
      "  df_filtered = df_drop.groupby('trajectory').apply(filt_L,h,['zonal_velocity','meridional_velocity']\n"
     ]
    }
   ],
   "source": [
    "df_filtered = df_drop.groupby('trajectory').apply(filt_L,h,['zonal_velocity','meridional_velocity']\n",
    "                                                  ,omega,hilbert=True).persist()"
   ]
  },
  {
   "cell_type": "code",
   "execution_count": 10,
   "id": "4f83626f-228f-4ec1-b5c7-0241e302405c",
   "metadata": {
    "tags": []
   },
   "outputs": [],
   "source": [
    "# Reset index\n",
    "df_filtered = df_filtered.drop(columns='trajectory').reset_index().sort_values('time').set_index('time').persist()"
   ]
  },
  {
   "cell_type": "markdown",
   "id": "raising-passage",
   "metadata": {},
   "source": [
    "#### Create and store dask dataframe with real and imaginary part of the analytic signal and demodulated signal for velocity fields"
   ]
  },
  {
   "cell_type": "code",
   "execution_count": 11,
   "id": "13aaae25-58f5-4ca0-ac31-d5ab42af51a0",
   "metadata": {},
   "outputs": [],
   "source": [
    "for v in [\"zonal_velocity\",\"meridional_velocity\"]:\n",
    "    df_filtered[v+\"_hat_real\"] = df_filtered[v+\"_hat\"].map_partitions(lambda x : np.real(x)).persist()\n",
    "\n",
    "    df_filtered[v+\"_hat_imag\"] = df_filtered[v+\"_hat\"].map_partitions(lambda x : np.imag(x)).persist()\n",
    "    df_filtered[v+\"_demodulated_real\"] = df_filtered[v+\"_demodulated\"].map_partitions(lambda x : np.real(x)).persist()\n",
    "    df_filtered[v+\"_demodulated_imag\"] = df_filtered[v+\"_demodulated\"].map_partitions(lambda x : np.imag(x)).persist()"
   ]
  },
  {
   "cell_type": "code",
   "execution_count": 12,
   "id": "93b4a629-3942-4519-9fbe-75b7a330c883",
   "metadata": {},
   "outputs": [],
   "source": [
    "for v in [\"zonal_velocity\",\"meridional_velocity\"]:\n",
    "    df_filtered = df_filtered.drop(columns=[v+\"_hat\",v+\"_demodulated\"]).persist()"
   ]
  },
  {
   "cell_type": "code",
   "execution_count": 13,
   "id": "bc6e5950-8a87-479e-bd07-ec96dd499cf5",
   "metadata": {},
   "outputs": [
    {
     "name": "stdout",
     "output_type": "stream",
     "text": [
      "No reindexing\n",
      "create new archive: /home/datawork-lops-osi/equinox/mit4320/parcels/global_T365j_dt1j_dij50/parquets/filtered_itide_Tw30_sd_band04\n"
     ]
    },
    {
     "data": {
      "text/plain": [
       "'/home/datawork-lops-osi/equinox/mit4320/parcels/global_T365j_dt1j_dij50/parquets/filtered_itide_Tw30_sd_band04'"
      ]
     },
     "execution_count": 13,
     "metadata": {},
     "output_type": "execute_result"
    }
   ],
   "source": [
    "# Store filtered demodulated dataframe\n",
    "# Title is defined as follow : filtered_itide_Tw{filter length}_sd_band{bandwidth}\n",
    "ds, dirs = pa.load_logs(root_dir, run_name)\n",
    "pa.store_parquet(dirs[\"parquets\"], df_filtered, overwrite=True, name=\"filtered_itide_Tw30_sd_band04\")"
   ]
  },
  {
   "cell_type": "code",
   "execution_count": 3,
   "id": "40712260-c305-4e20-921b-c85a83b5ac2f",
   "metadata": {},
   "outputs": [
    {
     "data": {
      "text/html": [
       "<div>\n",
       "<style scoped>\n",
       "    .dataframe tbody tr th:only-of-type {\n",
       "        vertical-align: middle;\n",
       "    }\n",
       "\n",
       "    .dataframe tbody tr th {\n",
       "        vertical-align: top;\n",
       "    }\n",
       "\n",
       "    .dataframe thead th {\n",
       "        text-align: right;\n",
       "    }\n",
       "</style>\n",
       "<table border=\"1\" class=\"dataframe\">\n",
       "  <thead>\n",
       "    <tr style=\"text-align: right;\">\n",
       "      <th></th>\n",
       "      <th>trajectory</th>\n",
       "      <th>lat</th>\n",
       "      <th>lon</th>\n",
       "      <th>z</th>\n",
       "      <th>zonal_velocity</th>\n",
       "      <th>meridional_velocity</th>\n",
       "      <th>sea_level</th>\n",
       "      <th>dt_flag</th>\n",
       "      <th>zonal_velocity_hat_real</th>\n",
       "      <th>zonal_velocity_hat_imag</th>\n",
       "      <th>zonal_velocity_demodulated_real</th>\n",
       "      <th>zonal_velocity_demodulated_imag</th>\n",
       "      <th>meridional_velocity_hat_real</th>\n",
       "      <th>meridional_velocity_hat_imag</th>\n",
       "      <th>meridional_velocity_demodulated_real</th>\n",
       "      <th>meridional_velocity_demodulated_imag</th>\n",
       "    </tr>\n",
       "    <tr>\n",
       "      <th>time</th>\n",
       "      <th></th>\n",
       "      <th></th>\n",
       "      <th></th>\n",
       "      <th></th>\n",
       "      <th></th>\n",
       "      <th></th>\n",
       "      <th></th>\n",
       "      <th></th>\n",
       "      <th></th>\n",
       "      <th></th>\n",
       "      <th></th>\n",
       "      <th></th>\n",
       "      <th></th>\n",
       "      <th></th>\n",
       "      <th></th>\n",
       "      <th></th>\n",
       "    </tr>\n",
       "  </thead>\n",
       "  <tbody>\n",
       "    <tr>\n",
       "      <th>2011-11-15</th>\n",
       "      <td>2000384</td>\n",
       "      <td>-68.021919</td>\n",
       "      <td>-19.239584</td>\n",
       "      <td>0.0</td>\n",
       "      <td>0.0</td>\n",
       "      <td>0.0</td>\n",
       "      <td>0.0</td>\n",
       "      <td>False</td>\n",
       "      <td>0.004085</td>\n",
       "      <td>0.000697</td>\n",
       "      <td>0.004085</td>\n",
       "      <td>0.000697</td>\n",
       "      <td>0.002623</td>\n",
       "      <td>0.004498</td>\n",
       "      <td>0.002623</td>\n",
       "      <td>0.004498</td>\n",
       "    </tr>\n",
       "    <tr>\n",
       "      <th>2011-11-15</th>\n",
       "      <td>48000573</td>\n",
       "      <td>55.309990</td>\n",
       "      <td>-40.197918</td>\n",
       "      <td>0.0</td>\n",
       "      <td>0.0</td>\n",
       "      <td>0.0</td>\n",
       "      <td>0.0</td>\n",
       "      <td>False</td>\n",
       "      <td>0.017263</td>\n",
       "      <td>-0.016716</td>\n",
       "      <td>0.017263</td>\n",
       "      <td>-0.016716</td>\n",
       "      <td>-0.005707</td>\n",
       "      <td>0.016081</td>\n",
       "      <td>-0.005707</td>\n",
       "      <td>0.016081</td>\n",
       "    </tr>\n",
       "    <tr>\n",
       "      <th>2011-11-15</th>\n",
       "      <td>48000631</td>\n",
       "      <td>44.620720</td>\n",
       "      <td>-37.072918</td>\n",
       "      <td>0.0</td>\n",
       "      <td>0.0</td>\n",
       "      <td>0.0</td>\n",
       "      <td>0.0</td>\n",
       "      <td>False</td>\n",
       "      <td>0.006110</td>\n",
       "      <td>-0.020936</td>\n",
       "      <td>0.006110</td>\n",
       "      <td>-0.020936</td>\n",
       "      <td>0.027630</td>\n",
       "      <td>-0.014982</td>\n",
       "      <td>0.027630</td>\n",
       "      <td>-0.014982</td>\n",
       "    </tr>\n",
       "    <tr>\n",
       "      <th>2011-11-15</th>\n",
       "      <td>49000118</td>\n",
       "      <td>64.051880</td>\n",
       "      <td>-88.307640</td>\n",
       "      <td>0.0</td>\n",
       "      <td>0.0</td>\n",
       "      <td>0.0</td>\n",
       "      <td>0.0</td>\n",
       "      <td>False</td>\n",
       "      <td>-0.180781</td>\n",
       "      <td>-0.079333</td>\n",
       "      <td>-0.180781</td>\n",
       "      <td>-0.079333</td>\n",
       "      <td>-0.485498</td>\n",
       "      <td>0.112855</td>\n",
       "      <td>-0.485498</td>\n",
       "      <td>0.112855</td>\n",
       "    </tr>\n",
       "    <tr>\n",
       "      <th>2011-11-15</th>\n",
       "      <td>49000872</td>\n",
       "      <td>64.252319</td>\n",
       "      <td>-36.253830</td>\n",
       "      <td>0.0</td>\n",
       "      <td>0.0</td>\n",
       "      <td>0.0</td>\n",
       "      <td>0.0</td>\n",
       "      <td>False</td>\n",
       "      <td>0.034166</td>\n",
       "      <td>0.012898</td>\n",
       "      <td>0.034166</td>\n",
       "      <td>0.012898</td>\n",
       "      <td>-0.028217</td>\n",
       "      <td>0.020949</td>\n",
       "      <td>-0.028217</td>\n",
       "      <td>0.020949</td>\n",
       "    </tr>\n",
       "  </tbody>\n",
       "</table>\n",
       "</div>"
      ],
      "text/plain": [
       "            trajectory        lat        lon    z  zonal_velocity  \\\n",
       "time                                                                \n",
       "2011-11-15     2000384 -68.021919 -19.239584  0.0             0.0   \n",
       "2011-11-15    48000573  55.309990 -40.197918  0.0             0.0   \n",
       "2011-11-15    48000631  44.620720 -37.072918  0.0             0.0   \n",
       "2011-11-15    49000118  64.051880 -88.307640  0.0             0.0   \n",
       "2011-11-15    49000872  64.252319 -36.253830  0.0             0.0   \n",
       "\n",
       "            meridional_velocity  sea_level  dt_flag  zonal_velocity_hat_real  \\\n",
       "time                                                                           \n",
       "2011-11-15                  0.0        0.0    False                 0.004085   \n",
       "2011-11-15                  0.0        0.0    False                 0.017263   \n",
       "2011-11-15                  0.0        0.0    False                 0.006110   \n",
       "2011-11-15                  0.0        0.0    False                -0.180781   \n",
       "2011-11-15                  0.0        0.0    False                 0.034166   \n",
       "\n",
       "            zonal_velocity_hat_imag  zonal_velocity_demodulated_real  \\\n",
       "time                                                                   \n",
       "2011-11-15                 0.000697                         0.004085   \n",
       "2011-11-15                -0.016716                         0.017263   \n",
       "2011-11-15                -0.020936                         0.006110   \n",
       "2011-11-15                -0.079333                        -0.180781   \n",
       "2011-11-15                 0.012898                         0.034166   \n",
       "\n",
       "            zonal_velocity_demodulated_imag  meridional_velocity_hat_real  \\\n",
       "time                                                                        \n",
       "2011-11-15                         0.000697                      0.002623   \n",
       "2011-11-15                        -0.016716                     -0.005707   \n",
       "2011-11-15                        -0.020936                      0.027630   \n",
       "2011-11-15                        -0.079333                     -0.485498   \n",
       "2011-11-15                         0.012898                     -0.028217   \n",
       "\n",
       "            meridional_velocity_hat_imag  \\\n",
       "time                                       \n",
       "2011-11-15                      0.004498   \n",
       "2011-11-15                      0.016081   \n",
       "2011-11-15                     -0.014982   \n",
       "2011-11-15                      0.112855   \n",
       "2011-11-15                      0.020949   \n",
       "\n",
       "            meridional_velocity_demodulated_real  \\\n",
       "time                                               \n",
       "2011-11-15                              0.002623   \n",
       "2011-11-15                             -0.005707   \n",
       "2011-11-15                              0.027630   \n",
       "2011-11-15                             -0.485498   \n",
       "2011-11-15                             -0.028217   \n",
       "\n",
       "            meridional_velocity_demodulated_imag  \n",
       "time                                              \n",
       "2011-11-15                              0.004498  \n",
       "2011-11-15                              0.016081  \n",
       "2011-11-15                             -0.014982  \n",
       "2011-11-15                              0.112855  \n",
       "2011-11-15                              0.020949  "
      ]
     },
     "execution_count": 3,
     "metadata": {},
     "output_type": "execute_result"
    }
   ],
   "source": [
    "# Cell to load the filtered signal\n",
    "root_dir = '/home/datawork-lops-osi/equinox/mit4320/parcels/'\n",
    "run_name = 'global_T365j_dt1j_dij50'\n",
    "parcels_index = 'filtered_itide_Tw30_sd_band04'\n",
    "\n",
    "# choose to select time indexed data for now\n",
    "p = pa.parcels_output(root_dir+run_name, parquets=[parcels_index])\n",
    "df = p[parcels_index]\n",
    "df = pa.degs2ms(df)\n",
    "df.head()"
   ]
  },
  {
   "cell_type": "code",
   "execution_count": 7,
   "id": "6b5d6a8d-cf35-4da5-a3bd-c7a50cce279b",
   "metadata": {},
   "outputs": [
    {
     "data": {
      "text/plain": [
       "0"
      ]
     },
     "execution_count": 7,
     "metadata": {},
     "output_type": "execute_result"
    }
   ],
   "source": [
    "# Check dt (if True then dt is not 1/24): \n",
    "df[df.dt_flag==True].zonal_velocity.size.compute()"
   ]
  },
  {
   "cell_type": "code",
   "execution_count": 16,
   "id": "a0f3be3c-7630-410d-ada4-c7158101bc3e",
   "metadata": {
    "tags": []
   },
   "outputs": [
    {
     "name": "stderr",
     "output_type": "stream",
     "text": [
      "distributed.client - ERROR - Failed to reconnect to scheduler after 10.00 seconds, closing client\n",
      "_GatheringFuture exception was never retrieved\n",
      "future: <_GatheringFuture finished exception=CancelledError()>\n",
      "asyncio.exceptions.CancelledError\n"
     ]
    }
   ],
   "source": [
    "#client.restart()\n",
    "cluster.close()"
   ]
  },
  {
   "cell_type": "code",
   "execution_count": null,
   "id": "06ba3ceb-70b7-4378-9d62-6aa9589ce6a0",
   "metadata": {},
   "outputs": [],
   "source": []
  }
 ],
 "metadata": {
  "kernelspec": {
   "display_name": "Python 3",
   "language": "python",
   "name": "python3"
  },
  "language_info": {
   "codemirror_mode": {
    "name": "ipython",
    "version": 3
   },
   "file_extension": ".py",
   "mimetype": "text/x-python",
   "name": "python",
   "nbconvert_exporter": "python",
   "pygments_lexer": "ipython3",
   "version": "3.8.8"
  }
 },
 "nbformat": 4,
 "nbformat_minor": 5
}
