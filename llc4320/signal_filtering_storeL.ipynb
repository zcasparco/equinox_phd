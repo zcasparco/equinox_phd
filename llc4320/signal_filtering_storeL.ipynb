{
 "cells": [
  {
   "cell_type": "code",
   "execution_count": 1,
   "id": "79d5c4dd-814e-4aa7-8590-40bdcf7c12c0",
   "metadata": {},
   "outputs": [
    {
     "name": "stderr",
     "output_type": "stream",
     "text": [
      "INFO: Compiled ParcelsRandom ==> /dev/shm/pbs.7887890.datarmor0/parcels-502090/libparcels_random_46b78b4a-cc2c-4e27-8f97-435cfda30d0e.so\n"
     ]
    }
   ],
   "source": [
    "import numpy as np\n",
    "import geopandas as gpd\n",
    "\n",
    "\n",
    "import xarray as xr\n",
    "from matplotlib import pyplot as plt\n",
    "%matplotlib inline\n",
    "\n",
    "from xhistogram.xarray import histogram\n",
    "import dask.dataframe as dd\n",
    "#import cartopy.crs as ccrs\n",
    "#import cartopy.feature as cfeature\n",
    "\n",
    "import mitequinox.utils as ut\n",
    "from mitequinox.plot import *\n",
    "import mitequinox.parcels as pa\n",
    "from xmitgcm import llcreader\n",
    "\n",
    "from scipy import signal\n",
    "import scipy.ndimage as im\n",
    "\n",
    "from sympy import Symbol, pi, atan, factor, lambdify\n",
    "\n",
    "import mitequinox.plot as pl\n",
    "import mitequinox.sigp as sp\n",
    "import pyinterp\n",
    "\n",
    "from fsspec.implementations.local import LocalFileSystem"
   ]
  },
  {
   "cell_type": "code",
   "execution_count": 2,
   "id": "8d296720-e55e-4796-a1c3-9832ef394fed",
   "metadata": {},
   "outputs": [],
   "source": [
    "from dask.distributed import Client, LocalCluster\n",
    "#\n",
    "#cluster = LocalCluster()\n",
    "#\n",
    "from dask_jobqueue import PBSCluster\n",
    "cluster = PBSCluster() #processes=7, cores=7\n",
    "w = cluster.scale(jobs=6\n",
    "                 )\n",
    "#\n",
    "client = Client(cluster)"
   ]
  },
  {
   "cell_type": "code",
   "execution_count": 3,
   "id": "a5fc979f-60e9-40e7-9248-314a60f6c8b6",
   "metadata": {},
   "outputs": [],
   "source": [
    "def convolve(x, h=None, hilbert=False):\n",
    "    \"\"\" Convolve an input signal with a kernel\n",
    "    Optionaly compute the Hilbert transform of the resulting time series\n",
    "    \"\"\"\n",
    "    #x_f = im.convolve1d(x, h, axis=1, mode='constant')\n",
    "    x_f = signal.filtfilt(h, [1], x, axis=-1,padlen=0)#\n",
    "    if hilbert:\n",
    "        return signal.hilbert(x_f)\n",
    "    else:\n",
    "        return x_f\n"
   ]
  },
  {
   "cell_type": "code",
   "execution_count": 4,
   "id": "d46d2a04-0324-4cc7-a86c-8e13559ae575",
   "metadata": {},
   "outputs": [],
   "source": [
    "root_dir = '/home/datawork-lops-osi/equinox/mit4320/parcels/'\n",
    "run_name = 'global_extra_T365j_dt1j_dij50'\n",
    "parcels_index = 'time_mean'\n",
    "\n",
    "# choose to select time indexed data for now\n",
    "p = pa.parcels_output(root_dir+run_name, parquets=[parcels_index])\n",
    "df = p[parcels_index]\n",
    "df = pa.degs2ms(df)\n",
    "df.head()\n",
    "\n",
    "df = df.drop(columns=['temperature','salinity','Eta_interp',\n",
    "                      'SSU_interp','SSV_interp','SST_interp','SSS_interp']).persist()"
   ]
  },
  {
   "cell_type": "code",
   "execution_count": 5,
   "id": "06e9092a-a255-47f8-8348-8fb1fe5f5bf0",
   "metadata": {},
   "outputs": [],
   "source": [
    "dt = 1/24 # in days\n",
    "\n",
    "tidal_omega = sp.get_tidal_frequencies(\"M2\", \"K2\",\"S2\",\"N2\",\"K1\",\"O1\",\"M4\",\"S4\")\n",
    "omega_M2,omega_S2,omega_N2,omega_K2, domega, name = tidal_omega[\"M2\"],tidal_omega[\"S2\"],tidal_omega[\"N2\"],tidal_omega[\"K2\"], .2, \"semidiurnal\"\n",
    "omega = (omega_M2+omega_S2)/2\n",
    "\n",
    "V = ['zonal_velocity','meridional_velocity']\n",
    "Tw = 30\n",
    "dband=0.2 #half bandwidth\n",
    "\n",
    "h = sp.generate_filter(omega, T=Tw, dt=dt, bandwidth=dband, normalized_bandwidth=None)"
   ]
  },
  {
   "cell_type": "code",
   "execution_count": 6,
   "id": "6a7bb857-07a3-4964-a45c-40863446e593",
   "metadata": {},
   "outputs": [],
   "source": [
    "def remove_duplicates(df):\n",
    "    df = df.reset_index().drop_duplicates('time').sort_values('time').set_index('time')\n",
    "    dt_df = df.index[1:]-df.index[:-1]\n",
    "    df['dt_flag'] = np.insert(dt_df!=np.timedelta64(1,'h'),0,False)\n",
    "    return df\n",
    "\n",
    "def filt_L(v, h,columns,om, hilbert=False):\n",
    "    vc = v.copy()\n",
    "    #vc = vc.groupby(vc.index).first()#.drop_duplicates\n",
    "    #vc = vc.groupby(level=df1.index.names).last()\n",
    "    for V in columns:\n",
    "        vc[V+'_hat'] = convolve(vc[V],h=h,hilbert=hilbert)\n",
    "    time = np.arange(0,vc.index.size*dt,dt)#.compute()\n",
    "    exp = np.exp(-1j*om*2*np.pi*time)\n",
    "    for V in columns:\n",
    "        vc[V+'_demodulated'] = vc[V+'_hat']*exp\n",
    "    return vc"
   ]
  },
  {
   "cell_type": "code",
   "execution_count": 7,
   "id": "d188490b-a44d-43e2-b163-2fb69911d5ab",
   "metadata": {},
   "outputs": [],
   "source": [
    "# trajectoire négative (NaN) dans certaines partitions (p.e. partition 0), origine inconnue\n",
    "#df = df.repartition(npartitions=30)\n",
    "_df = df.dropna().persist()"
   ]
  },
  {
   "cell_type": "code",
   "execution_count": 8,
   "id": "b60b644c-309b-4505-95cf-00a26a7b4226",
   "metadata": {
    "tags": []
   },
   "outputs": [
    {
     "name": "stderr",
     "output_type": "stream",
     "text": [
      "<ipython-input-8-a411c807b486>:1: UserWarning: `meta` is not specified, inferred from partial data. Please provide `meta` if the result is unexpected.\n",
      "  Before: .apply(func)\n",
      "  After:  .apply(func, meta={'x': 'f8', 'y': 'f8'}) for dataframe result\n",
      "  or:     .apply(func, meta=('x', 'f8'))            for series result\n",
      "  df_drop = _df.groupby('trajectory').apply(remove_duplicates\n"
     ]
    }
   ],
   "source": [
    "df_drop = _df.groupby('trajectory').apply(remove_duplicates\n",
    "                                   ).drop(columns='trajectory').reset_index().set_index('time').persist()"
   ]
  },
  {
   "cell_type": "code",
   "execution_count": 10,
   "id": "8739801d-52f9-4878-9bbe-7778e3c02468",
   "metadata": {},
   "outputs": [],
   "source": [
    "df_filtered = df_drop.groupby('trajectory').apply(filt_L,h,['zonal_velocity','meridional_velocity']\n",
    "                                                  ,omega,hilbert=True).persist()\n",
    "#df_filtered = df_filtered.repartition(npartitions=10).persist()"
   ]
  },
  {
   "cell_type": "code",
   "execution_count": 11,
   "id": "4f83626f-228f-4ec1-b5c7-0241e302405c",
   "metadata": {},
   "outputs": [],
   "source": [
    "df_filtered = df_filtered.drop(columns='trajectory').reset_index().sort_values('time').set_index('time').persist()"
   ]
  },
  {
   "cell_type": "code",
   "execution_count": null,
   "id": "bc6e5950-8a87-479e-bd07-ec96dd499cf5",
   "metadata": {},
   "outputs": [],
   "source": [
    "ds, dirs = pa.load_logs(root_dir, run_name)\n",
    "pa.store_parquet(dirs[\"parquets\"], df_interp, overwrite=True, name=\"L_filtered_T30_sdband04\")\n",
    "#p.store_diagnostic(\"ZC_filteredL_T30_band04\", df_filtered,overwrite=True)"
   ]
  },
  {
   "cell_type": "code",
   "execution_count": 12,
   "id": "a0f3be3c-7630-410d-ada4-c7158101bc3e",
   "metadata": {},
   "outputs": [
    {
     "name": "stderr",
     "output_type": "stream",
     "text": [
      "distributed.client - ERROR - Failed to reconnect to scheduler after 10.00 seconds, closing client\n",
      "_GatheringFuture exception was never retrieved\n",
      "future: <_GatheringFuture finished exception=CancelledError()>\n",
      "asyncio.exceptions.CancelledError\n"
     ]
    }
   ],
   "source": [
    "#client.restart()\n",
    "cluster.close()"
   ]
  },
  {
   "cell_type": "code",
   "execution_count": null,
   "id": "06ba3ceb-70b7-4378-9d62-6aa9589ce6a0",
   "metadata": {},
   "outputs": [],
   "source": []
  }
 ],
 "metadata": {
  "kernelspec": {
   "display_name": "Python 3",
   "language": "python",
   "name": "python3"
  },
  "language_info": {
   "codemirror_mode": {
    "name": "ipython",
    "version": 3
   },
   "file_extension": ".py",
   "mimetype": "text/x-python",
   "name": "python",
   "nbconvert_exporter": "python",
   "pygments_lexer": "ipython3",
   "version": "3.8.8"
  }
 },
 "nbformat": 4,
 "nbformat_minor": 5
}
