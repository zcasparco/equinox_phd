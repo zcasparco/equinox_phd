{
 "cells": [
  {
   "cell_type": "markdown",
   "id": "4208536a-38cd-4a82-b1c8-5eb559fe9e82",
   "metadata": {},
   "source": [
    "\n",
    "### LLC4320 : Comparison Eulerian and Lagrangian basics statistics (mean velocity fields)"
   ]
  },
  {
   "cell_type": "code",
   "execution_count": null,
   "id": "3552107e-b3b5-4c4f-be71-e9af2d3cde55",
   "metadata": {},
   "outputs": [],
   "source": [
    "import numpy as np\n",
    "\n",
    "import xarray as xr\n",
    "from matplotlib import pyplot as plt\n",
    "%matplotlib inline\n",
    "\n",
    "from xhistogram.xarray import histogram\n",
    "import dask.dataframe as dd\n",
    "import cartopy.crs as ccrs\n",
    "import cartopy.feature as cfeature\n",
    "\n",
    "\n",
    "import mitequinox.utils as ut\n",
    "from mitequinox.plot import *\n",
    "import mitequinox.parcels as pa\n",
    "from xmitgcm import llcreader\n",
    "\n",
    "from fsspec.implementations.local import LocalFileSystem"
   ]
  },
  {
   "cell_type": "code",
   "execution_count": null,
   "id": "8cdb1484-2abf-4552-87a1-93396261a659",
   "metadata": {},
   "outputs": [],
   "source": [
    "from dask.distributed import Client, LocalCluster\n",
    "#\n",
    "#cluster = LocalCluster()\n",
    "#\n",
    "from dask_jobqueue import PBSCluster\n",
    "cluster = PBSCluster() #processes=7, cores=7\n",
    "w = cluster.scale(jobs=5)\n",
    "#\n",
    "client = Client(cluster)\n",
    "\n"
   ]
  },
  {
   "cell_type": "code",
   "execution_count": null,
   "id": "2a134260-fd74-4322-a48c-fb7cf8bc5d28",
   "metadata": {},
   "outputs": [],
   "source": [
    "root_dir = '/home1/datawork/aponte/parcels/'\n",
    "run_name = 'global_extra_T365j_dt1j_dij50'\n",
    "\n",
    "p = pa.parcels_output(root_dir+run_name, parquets=['time_mean'])\n",
    "df = p.df['time_mean']\n",
    "\n",
    "df = pa.degs2ms(df) #Convert in m/s \n",
    "\n",
    "#df = df.persist()"
   ]
  },
  {
   "cell_type": "code",
   "execution_count": null,
   "id": "6e1f9589-5433-4d20-88ae-e9193298b5aa",
   "metadata": {},
   "outputs": [],
   "source": [
    "V = [\"Eta\", \"SSU\", \"SSV\", \"SST\", \"SSS\"]\n",
    "D = [\"mean\", \"mean_square\"]\n",
    "ds = xr.merge([ut.load_diagnostic(d+\"_\"+v).rename({v:d+\"_\"+v}) \n",
    "               for v in V for d in D])\n",
    "\n",
    "grid = xr.open_zarr('/home1/datawork/xyu/grid/mit_grid.zarr')\n",
    "ds = xr.merge([ds,grid])\n",
    "ds = ds.isel(i = slice(0,None,4), j = slice(0,None,4), i_g = slice(0,None,4), j_g = slice(0,None,4))\n",
    "ds['lon'] = 0*ds.face+ds.XC\n",
    "ds['lat'] = 0*ds.face+ds.YC\n",
    "ds.load()"
   ]
  },
  {
   "cell_type": "code",
   "execution_count": null,
   "id": "cd7f4b1d-7842-4741-969e-a359315009d5",
   "metadata": {},
   "outputs": [],
   "source": [
    "# Rotation velocity field\n",
    "U_mean =  ds.mean_SSU.rename({'i_g': 'i'})*ds.CS - ds.mean_SSV.rename({'j_g': 'j'})*ds.SN\n",
    "V_mean =  ds.mean_SSU.rename({'i_g': 'i'})*ds.SN + ds.mean_SSV.rename({'j_g': 'j'})*ds.CS\n",
    "\n",
    "U_mean['lon'] = 0*ds.face+ds.XC\n",
    "U_mean['lat'] = 0*ds.face+ds.YC\n",
    "\n",
    "V_mean['lon'] = 0*ds.face+ds.XC\n",
    "V_mean['lat'] = 0*ds.face+ds.YC"
   ]
  },
  {
   "cell_type": "code",
   "execution_count": null,
   "id": "630f9f0a-c16a-4a1c-9cc7-44501762cdcf",
   "metadata": {},
   "outputs": [],
   "source": [
    "# Mean Eulerian field Dataset\n",
    "ds_mean = xr.Dataset({'meridional_velocity_mean':V_mean,'zonal_velocity_mean':U_mean,\n",
    "                      'sea_level_mean':ds.mean_Eta,'temperature_mean':ds.mean_SST,'salinity_mean':ds.mean_SSS})"
   ]
  },
  {
   "cell_type": "code",
   "execution_count": null,
   "id": "8bb9f2d1-77b0-4041-bc2d-67c8dc59350b",
   "metadata": {},
   "outputs": [],
   "source": [
    "\n",
    "\n",
    "dl = 1\n",
    "lon = np.arange(-180.,180., dl)\n",
    "lat = np.arange(-90., 90., dl)\n",
    "\n",
    "N = histogram(ds.lon, ds.lat, bins=[lon, lat], dim=['i', 'j', 'face'], block_size=None)\n",
    "N.plot(x='lon_bin',y='lat_bin')"
   ]
  },
  {
   "cell_type": "code",
   "execution_count": null,
   "id": "0f0df20c-f0d6-43fe-b74c-d11fbf3b08df",
   "metadata": {},
   "outputs": [],
   "source": [
    "E_KE = histogram(ds.lon, ds.lat, \n",
    "                 bins=[lon, lat], \n",
    "                 weights= (ds_mean.zonal_velocity_mean), \n",
    "                 dim=['i', 'j','face'],\n",
    "                 block_size=None\n",
    "                )\n",
    "E_KE_mean = (E_KE/N).rename('E_KE_mean').rename({'lon_bin': 'lon','lat_bin': 'lat'})"
   ]
  }
 ],
 "metadata": {
  "kernelspec": {
   "display_name": "Python 3",
   "language": "python",
   "name": "python3"
  },
  "language_info": {
   "codemirror_mode": {
    "name": "ipython",
    "version": 3
   },
   "file_extension": ".py",
   "mimetype": "text/x-python",
   "name": "python",
   "nbconvert_exporter": "python",
   "pygments_lexer": "ipython3",
   "version": "3.8.8"
  }
 },
 "nbformat": 4,
 "nbformat_minor": 5
}
