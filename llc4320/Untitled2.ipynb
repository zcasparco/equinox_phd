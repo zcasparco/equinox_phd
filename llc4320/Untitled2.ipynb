{
 "cells": [
  {
   "cell_type": "code",
   "execution_count": 1,
   "id": "8d9560ab-eeb9-40d1-99d6-aafccba8283b",
   "metadata": {},
   "outputs": [],
   "source": [
    "import numpy as np\n",
    "import geopandas as gpd\n",
    "\n",
    "\n",
    "import xarray as xr\n",
    "from matplotlib import pyplot as plt\n",
    "%matplotlib inline\n",
    "\n",
    "from xhistogram.xarray import histogram\n",
    "import dask.dataframe as dd\n",
    "#import cartopy.crs as ccrs\n",
    "#import cartopy.feature as cfeature\n",
    "\n",
    "import mitequinox.utils as ut\n",
    "from mitequinox.plot import *\n",
    "import mitequinox.parcels as pa\n",
    "from xmitgcm import llcreader\n",
    "\n",
    "from scipy import signal\n",
    "import scipy.ndimage as im\n",
    "import scipy.optimize as opt\n",
    "\n",
    "from sympy import Symbol, pi, atan, factor, lambdify\n",
    "\n",
    "import mitequinox.plot as pl\n",
    "import mitequinox.sigp as sp\n",
    "\n",
    "from fsspec.implementations.local import LocalFileSystem"
   ]
  },
  {
   "cell_type": "code",
   "execution_count": 2,
   "id": "57ec3a74-3daa-4590-bc5f-a03c5a1a150d",
   "metadata": {},
   "outputs": [],
   "source": [
    "from dask.distributed import Client, LocalCluster\n",
    "#\n",
    "cluster = LocalCluster()\n",
    "#from dask_jobqueue import PBSCluster\n",
    "#cluster = PBSCluster(processes=5, cores=5,walltime='02:00:00') #processes=7, cores=7\n",
    "#w = cluster.scale(jobs=10)\n",
    "#\n",
    "client = Client(cluster)"
   ]
  },
  {
   "cell_type": "code",
   "execution_count": 3,
   "id": "8d859306-35dd-482d-a5d3-b3f80e5dc9e6",
   "metadata": {},
   "outputs": [],
   "source": [
    "# Load Lagrangian data\n",
    "root_dir = '/home/datawork-lops-osi/equinox/mit4320/parcels/'\n",
    "run_name = 'global_T365j_dt1j_dij50'"
   ]
  },
  {
   "cell_type": "code",
   "execution_count": 4,
   "id": "da6ff298-9afa-4790-b42d-ce20d8e41366",
   "metadata": {},
   "outputs": [
    {
     "data": {
      "text/html": [
       "<div>\n",
       "<style scoped>\n",
       "    .dataframe tbody tr th:only-of-type {\n",
       "        vertical-align: middle;\n",
       "    }\n",
       "\n",
       "    .dataframe tbody tr th {\n",
       "        vertical-align: top;\n",
       "    }\n",
       "\n",
       "    .dataframe thead th {\n",
       "        text-align: right;\n",
       "    }\n",
       "</style>\n",
       "<table border=\"1\" class=\"dataframe\">\n",
       "  <thead>\n",
       "    <tr style=\"text-align: right;\">\n",
       "      <th></th>\n",
       "      <th>trajectory</th>\n",
       "      <th>lat</th>\n",
       "      <th>lon</th>\n",
       "      <th>z</th>\n",
       "      <th>zonal_velocity</th>\n",
       "      <th>meridional_velocity</th>\n",
       "      <th>waterdepth</th>\n",
       "      <th>zonal_velocity_hat_real</th>\n",
       "      <th>zonal_velocity_hat_imag</th>\n",
       "      <th>meridional_velocity_hat_real</th>\n",
       "      <th>meridional_velocity_hat_imag</th>\n",
       "    </tr>\n",
       "    <tr>\n",
       "      <th>time</th>\n",
       "      <th></th>\n",
       "      <th></th>\n",
       "      <th></th>\n",
       "      <th></th>\n",
       "      <th></th>\n",
       "      <th></th>\n",
       "      <th></th>\n",
       "      <th></th>\n",
       "      <th></th>\n",
       "      <th></th>\n",
       "      <th></th>\n",
       "    </tr>\n",
       "  </thead>\n",
       "  <tbody>\n",
       "    <tr>\n",
       "      <th>2011-11-15</th>\n",
       "      <td>2000844</td>\n",
       "      <td>-67.226303</td>\n",
       "      <td>0.562500</td>\n",
       "      <td>0.0</td>\n",
       "      <td>0.0</td>\n",
       "      <td>0.0</td>\n",
       "      <td>0.0</td>\n",
       "      <td>-0.037399</td>\n",
       "      <td>0.0</td>\n",
       "      <td>-0.038937</td>\n",
       "      <td>0.0</td>\n",
       "    </tr>\n",
       "    <tr>\n",
       "      <th>2011-11-15</th>\n",
       "      <td>2001062</td>\n",
       "      <td>-68.788177</td>\n",
       "      <td>10.979167</td>\n",
       "      <td>0.0</td>\n",
       "      <td>0.0</td>\n",
       "      <td>0.0</td>\n",
       "      <td>0.0</td>\n",
       "      <td>-0.050828</td>\n",
       "      <td>0.0</td>\n",
       "      <td>-0.055424</td>\n",
       "      <td>0.0</td>\n",
       "    </tr>\n",
       "    <tr>\n",
       "      <th>2011-11-15</th>\n",
       "      <td>2001076</td>\n",
       "      <td>-62.904213</td>\n",
       "      <td>10.979167</td>\n",
       "      <td>0.0</td>\n",
       "      <td>0.0</td>\n",
       "      <td>0.0</td>\n",
       "      <td>0.0</td>\n",
       "      <td>-0.052928</td>\n",
       "      <td>0.0</td>\n",
       "      <td>-0.013808</td>\n",
       "      <td>0.0</td>\n",
       "    </tr>\n",
       "    <tr>\n",
       "      <th>2011-11-15</th>\n",
       "      <td>3001600</td>\n",
       "      <td>-60.772732</td>\n",
       "      <td>31.812500</td>\n",
       "      <td>0.0</td>\n",
       "      <td>0.0</td>\n",
       "      <td>0.0</td>\n",
       "      <td>0.0</td>\n",
       "      <td>0.026066</td>\n",
       "      <td>0.0</td>\n",
       "      <td>-0.010228</td>\n",
       "      <td>0.0</td>\n",
       "    </tr>\n",
       "    <tr>\n",
       "      <th>2011-11-15</th>\n",
       "      <td>4000298</td>\n",
       "      <td>-28.264765</td>\n",
       "      <td>-23.395834</td>\n",
       "      <td>0.0</td>\n",
       "      <td>0.0</td>\n",
       "      <td>0.0</td>\n",
       "      <td>0.0</td>\n",
       "      <td>-0.037163</td>\n",
       "      <td>0.0</td>\n",
       "      <td>0.025803</td>\n",
       "      <td>0.0</td>\n",
       "    </tr>\n",
       "  </tbody>\n",
       "</table>\n",
       "</div>"
      ],
      "text/plain": [
       "            trajectory        lat        lon    z  zonal_velocity  \\\n",
       "time                                                                \n",
       "2011-11-15     2000844 -67.226303   0.562500  0.0             0.0   \n",
       "2011-11-15     2001062 -68.788177  10.979167  0.0             0.0   \n",
       "2011-11-15     2001076 -62.904213  10.979167  0.0             0.0   \n",
       "2011-11-15     3001600 -60.772732  31.812500  0.0             0.0   \n",
       "2011-11-15     4000298 -28.264765 -23.395834  0.0             0.0   \n",
       "\n",
       "            meridional_velocity  waterdepth  zonal_velocity_hat_real  \\\n",
       "time                                                                   \n",
       "2011-11-15                  0.0         0.0                -0.037399   \n",
       "2011-11-15                  0.0         0.0                -0.050828   \n",
       "2011-11-15                  0.0         0.0                -0.052928   \n",
       "2011-11-15                  0.0         0.0                 0.026066   \n",
       "2011-11-15                  0.0         0.0                -0.037163   \n",
       "\n",
       "            zonal_velocity_hat_imag  meridional_velocity_hat_real  \\\n",
       "time                                                                \n",
       "2011-11-15                      0.0                     -0.038937   \n",
       "2011-11-15                      0.0                     -0.055424   \n",
       "2011-11-15                      0.0                     -0.013808   \n",
       "2011-11-15                      0.0                     -0.010228   \n",
       "2011-11-15                      0.0                      0.025803   \n",
       "\n",
       "            meridional_velocity_hat_imag  \n",
       "time                                      \n",
       "2011-11-15                           0.0  \n",
       "2011-11-15                           0.0  \n",
       "2011-11-15                           0.0  \n",
       "2011-11-15                           0.0  \n",
       "2011-11-15                           0.0  "
      ]
     },
     "execution_count": 4,
     "metadata": {},
     "output_type": "execute_result"
    }
   ],
   "source": [
    "parcels_index = 'lpass_filtered_05cpd'\n",
    "p = pa.parcels_output(root_dir+run_name, parquets=[parcels_index])\n",
    "df = p[parcels_index]\n",
    "df.head()\n"
   ]
  },
  {
   "cell_type": "code",
   "execution_count": null,
   "id": "2f9f91d0-25df-4a17-82c6-2fe295806db8",
   "metadata": {},
   "outputs": [],
   "source": [
    "df['zonal_velocity_energy'] = df['zonal_velocity_hat_real'].apply(lambda x : x**2)"
   ]
  },
  {
   "cell_type": "code",
   "execution_count": null,
   "id": "6d7b65fc",
   "metadata": {},
   "outputs": [],
   "source": [
    "_df = df[['zonal_velocity_energy','lon','lat','waterdepth','trajectory']]\n",
    "_df.head()"
   ]
  },
  {
   "cell_type": "markdown",
   "id": "4407a4eb",
   "metadata": {},
   "source": [
    "### Load Eulerian dataset"
   ]
  },
  {
   "cell_type": "code",
   "execution_count": null,
   "id": "7bd32e3b",
   "metadata": {},
   "outputs": [],
   "source": [
    "ds_low = xr.open_zarr('/home/datawork-lops-osi/equinox/mit4320/diags/Eulerian_lf.zarr')\n",
    "ds_low"
   ]
  },
  {
   "cell_type": "markdown",
   "id": "59f9dc36-b281-4341-96eb-07c90f68a4d0",
   "metadata": {},
   "source": [
    "### Binning"
   ]
  },
  {
   "cell_type": "code",
   "execution_count": null,
   "id": "f87db1af-3b15-445a-94cf-1a0e5b54c0a2",
   "metadata": {},
   "outputs": [],
   "source": [
    "dl = 2.\n",
    "lon_bins = np.arange(-180.,180., dl)\n",
    "lat_bins = np.arange(-60, 60, dl)"
   ]
  },
  {
   "cell_type": "code",
   "execution_count": null,
   "id": "540f7599-0c40-4ac8-9162-7cb44785644d",
   "metadata": {},
   "outputs": [],
   "source": [
    "N = histogram(ds_low.lon.rename('lon'), ds_low.lat.rename('lat'), \n",
    "              bins=[lon_bins,lat_bins], \n",
    "              dim=['i', 'j', 'face']\n",
    "             ).persist()"
   ]
  },
  {
   "cell_type": "code",
   "execution_count": null,
   "id": "ee9fad61",
   "metadata": {},
   "outputs": [],
   "source": [
    "ds_binned = (histogram(ds_low.lon.rename('lon'), ds_low.lat.rename('lat'),bins=[lon_bins, lat_bins],\n",
    "                       weights=ds_low.energy.fillna(0.),\n",
    "                       dim=['i', 'j', 'face'])/(N)).rename('E_energy').persist()"
   ]
  },
  {
   "cell_type": "code",
   "execution_count": null,
   "id": "ed83f471",
   "metadata": {},
   "outputs": [],
   "source": [
    "def binning(_df,binsize):\n",
    "    #lon_bins,lat_bins = np.arange(lonmin,lonmax,binsize),np.arange(latmin,latmax,binsize)\n",
    "    x_idx,y_idx = pd.IntervalIndex.from_breaks(lon_bins),pd.IntervalIndex.from_breaks(lat_bins)\n",
    "    _df['lon_cut'] = _df['lon'].map_partitions(pd.cut, bins=lon_bins)\n",
    "    _df['lat_cut'] = _df['lat'].map_partitions(pd.cut, bins=lat_bins)\n",
    "    _df = _df.drop(columns=['lon','lat','trajectory']) # ,'h'\n",
    "    return _df\n",
    "df = binning(df,dl).persist()"
   ]
  },
  {
   "cell_type": "code",
   "execution_count": null,
   "id": "744d61a1",
   "metadata": {},
   "outputs": [],
   "source": [
    "df_mean = df.groupby(['lon_cut','lat_cut']).mean()\n",
    "df_mean = df_mean.reset_index().persist()"
   ]
  },
  {
   "cell_type": "code",
   "execution_count": null,
   "id": "aefed422",
   "metadata": {},
   "outputs": [],
   "source": [
    "df_mean['lon_bins'] = df_mean.lon_cut.apply(lambda x :x.mid)\n",
    "df_mean['lat_bins'] = df_mean.lat_cut.apply(lambda x :x.mid)\n",
    "df_mean = df_mean.drop(columns=['lon_cut','lat_cut']).persist()\n",
    "df_mean.head()"
   ]
  },
  {
   "cell_type": "code",
   "execution_count": null,
   "id": "c78600c6",
   "metadata": {},
   "outputs": [],
   "source": [
    "df_mean = df_mean.compute()"
   ]
  },
  {
   "cell_type": "code",
   "execution_count": null,
   "id": "433fcca6",
   "metadata": {},
   "outputs": [],
   "source": [
    "dsL = df_mean.set_index(['lon_bins','lat_bins']).to_xarray().unstack()"
   ]
  },
  {
   "cell_type": "code",
   "execution_count": 7,
   "id": "2451c0b7-b745-4bec-959f-db42a91cc6e6",
   "metadata": {},
   "outputs": [
    {
     "name": "stderr",
     "output_type": "stream",
     "text": [
      "/home1/datahome/zcaspar/miniconda3/envs/croco/lib/python3.8/contextlib.py:120: UserWarning: Creating scratch directories is taking a surprisingly long time. This is often due to running workers on a network file system. Consider specifying a local-directory to point workers to write scratch data to a local disk.\n",
      "  next(self.gen)\n",
      "/home1/datahome/zcaspar/miniconda3/envs/croco/lib/python3.8/contextlib.py:120: UserWarning: Creating scratch directories is taking a surprisingly long time. This is often due to running workers on a network file system. Consider specifying a local-directory to point workers to write scratch data to a local disk.\n",
      "  next(self.gen)\n",
      "/home1/datahome/zcaspar/miniconda3/envs/croco/lib/python3.8/contextlib.py:120: UserWarning: Creating scratch directories is taking a surprisingly long time. This is often due to running workers on a network file system. Consider specifying a local-directory to point workers to write scratch data to a local disk.\n",
      "  next(self.gen)\n",
      "/home1/datahome/zcaspar/miniconda3/envs/croco/lib/python3.8/contextlib.py:120: UserWarning: Creating scratch directories is taking a surprisingly long time. This is often due to running workers on a network file system. Consider specifying a local-directory to point workers to write scratch data to a local disk.\n",
      "  next(self.gen)\n",
      "/home1/datahome/zcaspar/miniconda3/envs/croco/lib/python3.8/contextlib.py:120: UserWarning: Creating scratch directories is taking a surprisingly long time. This is often due to running workers on a network file system. Consider specifying a local-directory to point workers to write scratch data to a local disk.\n",
      "  next(self.gen)\n",
      "distributed.client - ERROR - Failed to reconnect to scheduler after 10.00 seconds, closing client\n",
      "_GatheringFuture exception was never retrieved\n",
      "future: <_GatheringFuture finished exception=CancelledError()>\n",
      "asyncio.exceptions.CancelledError\n"
     ]
    }
   ],
   "source": [
    "cluster.close()"
   ]
  },
  {
   "cell_type": "code",
   "execution_count": null,
   "id": "06961077-9eb7-40b4-afa0-5c7c0d5683a5",
   "metadata": {},
   "outputs": [],
   "source": []
  }
 ],
 "metadata": {
  "kernelspec": {
   "display_name": "Python 3 (ipykernel)",
   "language": "python",
   "name": "python3"
  },
  "language_info": {
   "codemirror_mode": {
    "name": "ipython",
    "version": 3
   },
   "file_extension": ".py",
   "mimetype": "text/x-python",
   "name": "python",
   "nbconvert_exporter": "python",
   "pygments_lexer": "ipython3",
   "version": "3.8.12"
  }
 },
 "nbformat": 4,
 "nbformat_minor": 5
}
