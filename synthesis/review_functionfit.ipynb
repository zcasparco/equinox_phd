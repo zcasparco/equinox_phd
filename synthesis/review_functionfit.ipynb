{
 "cells": [
  {
   "cell_type": "markdown",
   "id": "0f5b7575-2214-49fa-a4de-6ea9d0aac504",
   "metadata": {},
   "source": [
    "Test estimation amlpitudes and decorrelation timescales for different forms of analytical autocorrelations"
   ]
  },
  {
   "cell_type": "code",
   "execution_count": null,
   "id": "ddd7836f-4bd2-4f4b-9689-d159dfcda17e",
   "metadata": {},
   "outputs": [],
   "source": [
    "import os\n",
    "from glob import glob\n",
    "import threading\n",
    "\n",
    "import numpy as np\n",
    "import dask.dataframe as dd\n",
    "from dask import delayed\n",
    "import pandas as pd\n",
    "import xarray as xr\n",
    "import scipy.optimize\n",
    "\n",
    "%matplotlib inline\n",
    "from matplotlib import pyplot as plt\n",
    "#import matplotlib.animation as anima"
   ]
  },
  {
   "cell_type": "code",
   "execution_count": null,
   "id": "f8abae74-e272-41af-bff9-6a3467271390",
   "metadata": {},
   "outputs": [],
   "source": [
    "import crocosi.postp as pp\n",
    "from crocosi.jet import set_relevant_time\n",
    "import phdequinox.croco_drifter as cdr"
   ]
  },
  {
   "cell_type": "code",
   "execution_count": null,
   "id": "f7c09e77-83ea-44ec-a7e6-5f1774087125",
   "metadata": {},
   "outputs": [],
   "source": [
    "def fit_omegaVs(tau):\n",
    "    return Vs*\n",
    "def fit_omega(tau):\n",
    "    return ...\n",
    "def fit_Vs(tau):\n",
    "    return ...\n",
    "def fit_classical(tau):\n",
    "    return ..."
   ]
  },
  {
   "cell_type": "code",
   "execution_count": null,
   "id": "4b0c2070-5abe-4f90-b873-9b4cf0c4527c",
   "metadata": {},
   "outputs": [],
   "source": [
    "om = 2 # tidal frequency (M2)\n",
    "# Fast contribution\n",
    "def Ctilde(t,Tt):\n",
    "    return np.exp(-t/Tt)*np.cos(2*np.pi*om*t)#*np.cos(2*np.pi*nu*t)\n",
    "#Slow contribution\n",
    "def Cbar(t,Tb):\n",
    "    return np.exp(-t/Tb)#*np.cos(2*np.pi*Om*t)\n",
    "#Total formula\n",
    "def C(t,Tt,Xtilde,Tb,Xbar):\n",
    "    return Xbar*Cbar(t,Tb)+Xtilde*Ctilde(t,Tt)"
   ]
  },
  {
   "cell_type": "code",
   "execution_count": null,
   "id": "c7af4fb5-fea6-41be-a18a-33d764bb597a",
   "metadata": {},
   "outputs": [],
   "source": [
    "def fit(t,y,myfunc,bounds,norm=False): \n",
    "    \"\"\"Compute the best fit parameters found using scipy.optimize.curve_fit\n",
    "        Parameters\n",
    "        ----------\n",
    "        t : timelag of the correlation function\n",
    "        y : data to fit\n",
    "        myfunc : function we want to fit to our data, y\n",
    "        bounds : bounds of the parameters to fit \n",
    "        \n",
    "        Returns\n",
    "        ----------\n",
    "        yfit : best fit\n",
    "        params : parameters for which we obtain the best fit\n",
    "        cov : covariance of params computed in scipy.optimize.curve_fit\n",
    "        \"\"\"\n",
    "    sig = signature(myfunc)\n",
    "    if norm:\n",
    "        y = y/y.sel(lag=0)\n",
    "    if np.isnan(y).any()==True:\n",
    "        yfit = np.full_like(y,np.nan)\n",
    "        params=np.full(len([V for V in sig.parameters.keys()][1:]),np.nan)\n",
    "        cov = np.full((len([V for V in sig.parameters.keys()][1:]),len([V for V in sig.parameters.keys()][1:])),np.nan)\n",
    "        yfit = xr.DataArray(np.full(y.lag.size,np.nan))\n",
    "    else : \n",
    "        params,cov = scipy.optimize.curve_fit(myfunc,t,y,bounds=bounds)#,sigma=weights,absolute_sigma=True)\n",
    "        yfit = myfunc(t,*[p for p in params])\n",
    "    out = xr.Dataset({'params':(['ybin','param'],np.expand_dims(params, axis=0)),\n",
    "                      'fitted':(['ybin','lags'],np.expand_dims(yfit.values,axis=0))},\n",
    "                     coords={'ybin':np.array([y.y_bins.values]),'param':[V for V in sig.parameters.keys()][1:],\n",
    "                             'lags':y.lag.values})\n",
    "    return out#yfit,params,cov"
   ]
  },
  {
   "cell_type": "code",
   "execution_count": null,
   "id": "b76de6b7-b8b3-467f-83b6-ec1f456d5ca8",
   "metadata": {},
   "outputs": [],
   "source": [
    "root_path = '/home/datawork-lops-osi/equinox/jetn/'\n",
    "#root_path = '/home1/datawork/slgentil/'#jet_cfg1_wp75_4km_1500a2000j_floats_lev50\n",
    "run = 'jet_cfg1_wp7_m1a1_4km_500a1000j/'\n",
    "path = root_path+run+'diagnostics/' #datarmor\n",
    "#path = '/Users/zcaspar/codes/Diagnostics/'+run#local"
   ]
  },
  {
   "cell_type": "code",
   "execution_count": null,
   "id": "4b225ac4-5f05-4a37-b31d-2d3b5350b945",
   "metadata": {},
   "outputs": [],
   "source": [
    "corrE = {}\n",
    "removed = ['avg1d']#,'total']\n",
    "for name,data in zip(removed,['ZC_Eulerian_corr_80avg1d.nc']):#,'ZC_Eulerian_corr_40total.nc']):\n",
    "    corrE[name] = xr.open_dataset(path+data).rename({'lags':'lag'})\n",
    "    for v in ['uu', 'vv']:\n",
    "        corrE[name][v+'_normalized'] = corrE[name][v]/corrE[name][v].sel(lag=0)\n",
    "    for v in ['uv']:#\n",
    "        corrE[name][v+'_normalized'] = corrE[name][v]/np.sqrt(corrE[name]['uu'].sel(lag=0)*corrE[name]['vv'].sel(lag=0))"
   ]
  },
  {
   "cell_type": "code",
   "execution_count": null,
   "id": "77e878d8-c6a6-43c5-87a5-5f874f86b07f",
   "metadata": {},
   "outputs": [],
   "source": [
    "corrL = {}\n",
    "#removed = ['avg1d','total']\n",
    "for name,data in zip(removed,\n",
    "                     ['ZC_drifters_corr_80avg1d.nc']):#,'ZC_drifters_corr_40total.nc']):\n",
    "    corrL[name] = xr.open_dataset(path+data)\n",
    "    for v in ['uu', 'vv']:\n",
    "        corrL[name][v+'_normalized'] = corrL[name][v]/corrL[name][v].sel(lag=0)\n",
    "    for v in ['uv', 'vu']:\n",
    "        corrL[name][v+'_normalized'] = corrL[name][v]/np.sqrt(corrL[name]['uu'].sel(lag=0)*corrL[name]['vv'].sel(lag=0))"
   ]
  },
  {
   "cell_type": "code",
   "execution_count": null,
   "id": "d7a7093c-6c7c-4a71-b158-001f4e00631d",
   "metadata": {},
   "outputs": [],
   "source": [
    "fig,ax = plt.subplots(2,2,figsize=(15,15))\n",
    "for V,i in zip(['uu','vv'],range(2)):\n",
    "    im = corrL['avg1d'][V+'_normalized'].plot(ax=ax[i,0],add_colorbar=False);ax[i,0].set_ylabel('')\n",
    "    corrE['avg1d'][V+'_normalized'].plot(ax=ax[i,1],add_colorbar=False);ax[i,1].set_ylabel('')\n",
    "    [ax[i,0].axvline(x,linestyle='dotted',color='k',linewidth=1) for x in np.arange(0,20,2*0.5)]\n",
    "    ax[i,0].set_title('Lagrangian',fontsize=15);ax[i,0].set_ylabel('y(km)',fontsize=13);\n",
    "    ax[i,0].set_xlabel('Timescale (days)',fontsize=13)\n",
    "    [ax[i,1].axvline(x,linestyle='dotted',color='k',linewidth=1) for x in np.arange(0,20,2*0.5)]\n",
    "    ax[i,1].set_title('Eulerian',fontsize=15);ax[i,1].set_yticklabels('')#;ax[i,1].set_ylabel('y(m)',fontsize=15)\n",
    "    ax[i,1].set_xlabel('Timescale (days)',fontsize=13)\n",
    "    for y in [700,1425,2300]:\n",
    "        ax[i,0].axhline(y,c='k',linewidth=1)\n",
    "        ax[i,1].axhline(y*1e3,c='k',linewidth=1)\n",
    "fig.tight_layout()\n",
    "fig.subplots_adjust(right=0.8)\n",
    "cbar_ax = fig.add_axes([0.85, 0.15, 0.03, 0.7])\n",
    "cb = fig.colorbar(im, cax=cbar_ax)\n",
    "cb.set_label('Autocorrelation',size=13)"
   ]
  },
  {
   "cell_type": "code",
   "execution_count": null,
   "id": "a4f39c72-c5f9-48d2-b2a8-5866a867d0ba",
   "metadata": {},
   "outputs": [],
   "source": [
    "from inspect import signature\n",
    "import scipy\n",
    "\n",
    "\n",
    "# Parameters\n",
    "myfunc = C #function to use for the fit\n",
    "bounds = ((1,0,0,0),np.inf) # bounds for the fit to avoid non physical results\n",
    "ce,cl = 'lightseagreen','firebrick'"
   ]
  },
  {
   "cell_type": "code",
   "execution_count": null,
   "id": "ff2a0d3c-548d-40be-aec3-609624ab84db",
   "metadata": {},
   "outputs": [],
   "source": [
    "out_combL_avg,out_combE_avg = {},{}\n",
    "for V in ['uu','vv'] :\n",
    "    out_combL_avg[V] = xr.concat([fit(corrL['avg1d'][V].lag,corrL['avg1d'][V].sel(y_bins=Y,method='nearest'),\n",
    "                              myfunc,bounds,False) for Y in corrL['avg1d'][V].y_bins],dim='ybin')\n",
    "    out_combE_avg[V] = xr.concat([fit(corrE['avg1d'][V].lag,corrE['avg1d'][V].sel(y_bins=Y,method='nearest'),\n",
    "                              myfunc,bounds,False) for Y in corrE['avg1d'][V].y_bins],dim='ybin')\n",
    "\n",
    "    out_combE_avg[V] = out_combE_avg[V].assign_coords({'ybin':out_combE_avg[V].ybin.values*1e-3})\n",
    "\n",
    "    out_combE_avg[V+'_normalized'] = out_combE_avg[V].fitted/out_combE_avg[V].fitted.sel(lags=0)\n",
    "    out_combL_avg[V+'_normalized'] = out_combL_avg[V].fitted/out_combL_avg[V].fitted.sel(lags=0)"
   ]
  },
  {
   "cell_type": "code",
   "execution_count": null,
   "id": "74808bb6-d051-4bb7-a3ae-eb2c17b29135",
   "metadata": {},
   "outputs": [],
   "source": [
    "#Sections\n",
    "Y=[700,1500,2300]\n",
    "fig,axs = plt.subplots(3,2,figsize=(15,15))\n",
    "for i,y in enumerate(Y):\n",
    "    for V,ax in zip(['uu','vv'],axs[i,:]):\n",
    "        corrE['avg1d'][V].sel(y_bins=y*1e3,method='nearest').plot(c=ce,ax=ax,label=('Eulerian : Data'))\n",
    "        out_combE_avg[V].fitted.sel(ybin=y,method='nearest').plot(ax=ax,label=('Eulerian : Fit'))\n",
    "        corrL['avg1d'][V].sel(y_bins=y,method='nearest').plot(c=cl,ax=ax,label=('Lagrangian : Data'))\n",
    "        out_combL_avg[V].fitted.sel(ybin=y,method='nearest').plot(ax=ax,label=('Lagrangian : Fit'))\n",
    "        ax.grid();ax.legend();ax.set_title('');\n",
    "    #axs[0].text(-4,0,name,fontsize=20,rotation=90)\n",
    "    #axs[0].set_title('uu');axs[1].set_title('vv')#;axs[0,2].set_title('uv');axs[0,3].set_title('vu')\n",
    "    #plt.suptitle(title,x=.55,y=1,fontsize=20)\n",
    "    fig.tight_layout()"
   ]
  },
  {
   "cell_type": "code",
   "execution_count": null,
   "id": "388e35af-8c28-4766-8fe2-9fe9aa2806d8",
   "metadata": {},
   "outputs": [],
   "source": [
    "lims_uu = [(0,30),(0,0.1),(0,25),(0,0.1)]#,(-0.01,0.05)]\n",
    "lims_vv = [(0,30),(0,0.1),(0,25),(0,0.3)]#,(-0.01,0.07)]\n",
    "titles = [r'$\\widetilde{T}$',r'$\\widetilde{X}$',r'$\\overline{T}$',r'$\\overline{X}$']#,r'$\\Omega$']"
   ]
  },
  {
   "cell_type": "code",
   "execution_count": null,
   "id": "8c43d180-799e-4be2-be3c-077bf7fcb1e9",
   "metadata": {},
   "outputs": [],
   "source": [
    "fig,axes = plt.subplots(2,2,figsize=(10,10))\n",
    "for pa,title,lim,ax in zip(['Tt','Xtilde'],titles[:2],lims_uu[:2],axes[0,:]):\n",
    "    out_combL_avg['uu'].params.sel(param=pa).plot(y='ybin',c=cl,ax=ax,marker='.',label='Lagrangian')\n",
    "    out_combE_avg['uu'].params.sel(param=pa).plot(y='ybin',c=ce,ax=ax,marker='+',label='Eulerian')\n",
    "    ax.set_ylim(500,2800);ax.set_xlim(lim);ax.set_xlabel('')\n",
    "    ax.legend();ax.grid();ax.set_title(title,fontsize=15)\n",
    "for pa,title,lim,ax in zip(['Tb','Xbar'],titles[2:],lims_uu[2:],axes[1,:]):\n",
    "    out_combL_avg['uu'].params.sel(param=pa).plot(y='ybin',c=cl,ax=ax,marker='.',label='Lagrangian')\n",
    "    out_combE_avg['uu'].params.sel(param=pa).plot(y='ybin', c=ce,ax=ax,marker='+',label='Eulerian')\n",
    "    ax.set_ylim(500,2800);ax.set_xlim(lim);ax.set_xlabel('')\n",
    "    ax.legend();ax.grid();ax.set_title(title,fontsize=15)\n",
    "fig.suptitle('Autocorrelation of u')"
   ]
  }
 ],
 "metadata": {
  "kernelspec": {
   "display_name": "Python 3",
   "language": "python",
   "name": "python3"
  },
  "language_info": {
   "codemirror_mode": {
    "name": "ipython",
    "version": 3
   },
   "file_extension": ".py",
   "mimetype": "text/x-python",
   "name": "python",
   "nbconvert_exporter": "python",
   "pygments_lexer": "ipython3",
   "version": "3.8.8"
  }
 },
 "nbformat": 4,
 "nbformat_minor": 5
}
