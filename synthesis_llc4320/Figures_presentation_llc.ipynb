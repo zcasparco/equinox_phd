{
 "cells": [
  {
   "cell_type": "code",
   "execution_count": null,
   "id": "19cb1074",
   "metadata": {},
   "outputs": [],
   "source": [
    "import numpy as np\n",
    "\n",
    "import xarray as xr\n",
    "from matplotlib import pyplot as plt\n",
    "%matplotlib inline\n",
    "\n",
    "from xhistogram.xarray import histogram\n",
    "import dask.dataframe as dd\n",
    "import cartopy.crs as ccrs\n",
    "import cartopy.feature as cfeature\n",
    "\n",
    "import mitequinox.utils as ut\n",
    "from mitequinox.plot import *\n",
    "import mitequinox.parcels as pa\n",
    "from xmitgcm import llcreader\n",
    "\n",
    "from fsspec.implementations.local import LocalFileSystem"
   ]
  },
  {
   "cell_type": "code",
   "execution_count": null,
   "id": "0b0b53c7",
   "metadata": {},
   "outputs": [],
   "source": [
    "from dask.distributed import Client, LocalCluster\n",
    "#\n",
    "cluster = LocalCluster()\n",
    "#\n",
    "from dask_jobqueue import PBSCluster\n",
    "#cluster = PBSCluster() #processes=7, cores=7\n",
    "#w = cluster.scale(jobs=4)\n",
    "#\n",
    "client = Client(cluster)"
   ]
  },
  {
   "cell_type": "code",
   "execution_count": null,
   "id": "a84d240e",
   "metadata": {},
   "outputs": [],
   "source": [
    "#Eulerian data\n",
    "dsU =  xr.open_zarr(ut.work_data_dir+'rechunked/SSU_rot.zarr',consolidated=False)\n",
    "dsV =  xr.open_zarr(ut.work_data_dir+'rechunked/SSV_rot.zarr',consolidated=False)"
   ]
  },
  {
   "cell_type": "code",
   "execution_count": null,
   "id": "98fc0cfd",
   "metadata": {},
   "outputs": [],
   "source": [
    "dsU_mean = dsU.mean('time').persist()"
   ]
  },
  {
   "cell_type": "code",
   "execution_count": null,
   "id": "5ca1e55c",
   "metadata": {},
   "outputs": [],
   "source": [
    "dsV_mean = dsV.mean('time').persist()"
   ]
  },
  {
   "cell_type": "code",
   "execution_count": null,
   "id": "542e69bb",
   "metadata": {},
   "outputs": [],
   "source": [
    "face,i,j = 4, 2000, 2000\n",
    "dsi = dsU.isel(face=face,i=i,j=i).persist()"
   ]
  },
  {
   "cell_type": "markdown",
   "id": "c00f7425",
   "metadata": {},
   "source": [
    "### Figures Eulerian data"
   ]
  },
  {
   "cell_type": "code",
   "execution_count": null,
   "id": "3cca3765",
   "metadata": {},
   "outputs": [],
   "source": [
    "fig,ax = plt.subplots(figsize=(7,5))\n",
    "dsi.SSU_rot.plot(ax=ax)"
   ]
  },
  {
   "cell_type": "code",
   "execution_count": null,
   "id": "2a784489",
   "metadata": {},
   "outputs": [],
   "source": [
    "# Map of mean SSU\n",
    "pl.plot_pretty(dsU_mean.SSU_rot,cmap='magma',vmax=0.1,land=False)"
   ]
  },
  {
   "cell_type": "code",
   "execution_count": null,
   "id": "48ce012d",
   "metadata": {},
   "outputs": [],
   "source": [
    "# Map of mean SSV\n",
    "pl.plot_pretty(dsU_mean.SSV_rot,cmap='magma',vmax=0.1,land=False)"
   ]
  },
  {
   "cell_type": "code",
   "execution_count": null,
   "id": "4d8f69c3",
   "metadata": {},
   "outputs": [],
   "source": [
    "# Lagrangian data\n",
    "root_dir = '/home/datawork-lops-osi/equinox/mit4320/parcels/'\n",
    "run_name = 'global_extra_T365j_dt1j_dij50'\n",
    "p = pa.parcels_output(root_dir+run_name, parquets=['trajectory'])\n",
    "df = p.df['trajectory']\n",
    "df = pa.degs2ms(df) #Convert in m/s \n"
   ]
  },
  {
   "cell_type": "markdown",
   "id": "1abb3e55",
   "metadata": {},
   "source": [
    "### Figures Lagrangian data"
   ]
  },
  {
   "cell_type": "code",
   "execution_count": null,
   "id": "20474651",
   "metadata": {},
   "outputs": [],
   "source": []
  },
  {
   "cell_type": "code",
   "execution_count": null,
   "id": "143832aa",
   "metadata": {},
   "outputs": [],
   "source": []
  },
  {
   "cell_type": "code",
   "execution_count": null,
   "id": "585f7575",
   "metadata": {},
   "outputs": [],
   "source": []
  },
  {
   "cell_type": "code",
   "execution_count": null,
   "id": "8e2386bd",
   "metadata": {},
   "outputs": [],
   "source": [
    "cluster.close()"
   ]
  }
 ],
 "metadata": {
  "kernelspec": {
   "display_name": "Python 3 (ipykernel)",
   "language": "python",
   "name": "python3"
  },
  "language_info": {
   "codemirror_mode": {
    "name": "ipython",
    "version": 3
   },
   "file_extension": ".py",
   "mimetype": "text/x-python",
   "name": "python",
   "nbconvert_exporter": "python",
   "pygments_lexer": "ipython3",
   "version": "3.8.12"
  }
 },
 "nbformat": 4,
 "nbformat_minor": 5
}
