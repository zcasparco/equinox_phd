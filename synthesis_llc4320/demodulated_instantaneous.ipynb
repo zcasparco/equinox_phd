{
 "cells": [
  {
   "cell_type": "code",
   "execution_count": null,
   "id": "11026fd6",
   "metadata": {},
   "outputs": [],
   "source": [
    "import numpy as np\n",
    "import geopandas as gpd\n",
    "\n",
    "\n",
    "import xarray as xr\n",
    "from matplotlib import pyplot as plt\n",
    "%matplotlib inline\n",
    "\n",
    "from xhistogram.xarray import histogram\n",
    "import dask.dataframe as dd\n",
    "#import cartopy.crs as ccrs\n",
    "#import cartopy.feature as cfeature\n",
    "\n",
    "import mitequinox.utils as ut\n",
    "from mitequinox.plot import *\n",
    "import mitequinox.parcels as pa\n",
    "from xmitgcm import llcreader\n",
    "\n",
    "from scipy import signal\n",
    "import scipy.ndimage as im\n",
    "import scipy.optimize as opt\n",
    "\n",
    "from sympy import Symbol, pi, atan, factor, lambdify\n",
    "\n",
    "import mitequinox.plot as pl\n",
    "import mitequinox.sigp as sp\n",
    "\n",
    "\n",
    "from fsspec.implementations.local import LocalFileSystem"
   ]
  },
  {
   "cell_type": "code",
   "execution_count": null,
   "id": "ca1f26d2",
   "metadata": {},
   "outputs": [],
   "source": [
    "from dask.distributed import Client, LocalCluster\n",
    "#\n",
    "cluster = LocalCluster()\n",
    "#\n",
    "from dask_jobqueue import PBSCluster\n",
    "#cluster = PBSCluster(walltime='02:00:00') #processes=7, cores=7\n",
    "#w = cluster.scale(jobs=5)\n",
    "#\n",
    "client = Client(cluster)"
   ]
  },
  {
   "cell_type": "code",
   "execution_count": null,
   "id": "2dee040b",
   "metadata": {},
   "outputs": [],
   "source": [
    "ds =  xr.open_zarr(ut.work_data_dir+'filtered_itide/SSU_bandpassed_filtered.zarr')\n",
    "grd = ut.load_grd(consolidated=False)[['XC', 'YC', 'Depth']]#.persist()\n",
    "grd = grd.isel(j=slice(0,None,4),i=slice(0,None,4))\n",
    "ds['XC'] = grd.XC\n",
    "ds['YC'] = grd.YC"
   ]
  },
  {
   "cell_type": "code",
   "execution_count": null,
   "id": "3744f0e0",
   "metadata": {},
   "outputs": [],
   "source": [
    "pl.plot_pretty(ds.SSU_demodulated_real,cmap='magma',vmax=0.01,land=False\n",
    "              )"
   ]
  },
  {
   "cell_type": "code",
   "execution_count": null,
   "id": "68891dec",
   "metadata": {},
   "outputs": [],
   "source": [
    "ds['Depth'] = grd.Depth\n",
    "ds['lon'] = 0*ds.face+grd.XC\n",
    "ds['lat'] = 0*ds.face+grd.YC"
   ]
  },
  {
   "cell_type": "code",
   "execution_count": null,
   "id": "847be8e7",
   "metadata": {},
   "outputs": [],
   "source": [
    "ds_GS = ds.where((lon<-60) & (lon>-90) & (lat<40) & (lat>20))\n",
    "ds_atl = ds.where((lon<0) & (lon>-60) & (lat<-10) & (lat>-30))"
   ]
  },
  {
   "cell_type": "code",
   "execution_count": 1,
   "id": "be6868c9",
   "metadata": {},
   "outputs": [],
   "source": [
    "import cartopy.crs as ccrs\n",
    "import cartopy.feature as cfeature\n",
    "def plot_zoom(ds,colmap='RdBu_r',vlim=(-0.01,0.01),axes=111,**kwargs):\n",
    "    crs = ccrs.Robinson()\n",
    "    #fig = plt.figure(figsize=figsize)\n",
    "    ax = fig.add_subplot(axes,projection=crs)\n",
    "    ds.plot(vmax=vlim[1],vmin=vlim[0],y='lat',ax=ax,\n",
    "            transform=ccrs.PlateCarree(),cmap=colmap,label=False,**kwargs,\n",
    "           cbar_kwargs={'fraction':0.02})\n",
    "    ax.gridlines(draw_labels=True)\n",
    "    ax.add_feature(cfeature.COASTLINE)\n",
    "    ax.add_feature(cfeature.LAND)\n",
    "    return fig,ax"
   ]
  },
  {
   "cell_type": "code",
   "execution_count": null,
   "id": "b3d28145",
   "metadata": {},
   "outputs": [],
   "source": [
    "cluster.close()"
   ]
  }
 ],
 "metadata": {
  "kernelspec": {
   "display_name": "Python 3 (ipykernel)",
   "language": "python",
   "name": "python3"
  },
  "language_info": {
   "codemirror_mode": {
    "name": "ipython",
    "version": 3
   },
   "file_extension": ".py",
   "mimetype": "text/x-python",
   "name": "python",
   "nbconvert_exporter": "python",
   "pygments_lexer": "ipython3",
   "version": "3.8.12"
  }
 },
 "nbformat": 4,
 "nbformat_minor": 5
}
