{
 "cells": [
  {
   "cell_type": "code",
   "execution_count": 1,
   "metadata": {},
   "outputs": [
    {
     "name": "stderr",
     "output_type": "stream",
     "text": [
      "/home1/datahome/zcaspar/miniconda3/envs/croco/lib/python3.7/site-packages/distributed/utils.py:133: RuntimeWarning: Couldn't detect a suitable IP address for reaching '8.8.8.8', defaulting to '127.0.0.1': [Errno 101] Network is unreachable\n",
      "  RuntimeWarning,\n"
     ]
    }
   ],
   "source": [
    "import os\n",
    "from glob import glob\n",
    "import threading\n",
    "\n",
    "import numpy as np\n",
    "import dask.dataframe as dd\n",
    "from dask import delayed\n",
    "import pandas as pd\n",
    "import xarray as xr\n",
    "\n",
    "%matplotlib inline\n",
    "from matplotlib import pyplot as plt\n",
    "#import matplotlib.animation as anim\n",
    "\n",
    "import crocosi.postp as pp\n",
    "from crocosi.jet import set_relevant_time"
   ]
  },
  {
   "cell_type": "code",
   "execution_count": 30,
   "metadata": {},
   "outputs": [],
   "source": [
    "from dask_jobqueue import PBSCluster\n",
    "cluster = PBSCluster()\n",
    "w = cluster.scale(28*2)"
   ]
  },
  {
   "cell_type": "code",
   "execution_count": 2,
   "metadata": {},
   "outputs": [],
   "source": [
    "from dask.distributed import Client\n",
    "client = Client()  # set up local cluster on your laptop\n",
    "#client = Client(cluster) # with distributed cluster"
   ]
  },
  {
   "cell_type": "code",
   "execution_count": 3,
   "metadata": {},
   "outputs": [
    {
     "data": {
      "text/html": [
       "<table style=\"border: 2px solid white;\">\n",
       "<tr>\n",
       "<td style=\"vertical-align: top; border: 0px solid white\">\n",
       "<h3 style=\"text-align: left;\">Client</h3>\n",
       "<ul style=\"text-align: left; list-style: none; margin: 0; padding: 0;\">\n",
       "  <li><b>Scheduler: </b>tcp://127.0.0.1:56010</li>\n",
       "  <li><b>Dashboard: </b><a href='http://127.0.0.1:8787/status' target='_blank'>http://127.0.0.1:8787/status</a>\n",
       "</ul>\n",
       "</td>\n",
       "<td style=\"vertical-align: top; border: 0px solid white\">\n",
       "<h3 style=\"text-align: left;\">Cluster</h3>\n",
       "<ul style=\"text-align: left; list-style:none; margin: 0; padding: 0;\">\n",
       "  <li><b>Workers: </b>8</li>\n",
       "  <li><b>Cores: </b>56</li>\n",
       "  <li><b>Memory: </b>107.37 GB</li>\n",
       "</ul>\n",
       "</td>\n",
       "</tr>\n",
       "</table>"
      ],
      "text/plain": [
       "<Client: 'tcp://127.0.0.1:56010' processes=8 threads=56, memory=107.37 GB>"
      ]
     },
     "execution_count": 3,
     "metadata": {},
     "output_type": "execute_result"
    }
   ],
   "source": [
    "client\n"
   ]
  },
  {
   "cell_type": "code",
   "execution_count": 4,
   "metadata": {},
   "outputs": [],
   "source": [
    "root_path = '/home/datawork-lops-osi/slgentil/croco/jetn/'\n",
    "run = 'jet_cfg1_wp75_4km_1500a2000j_floats_lev50_itide/'"
   ]
  },
  {
   "cell_type": "code",
   "execution_count": 7,
   "metadata": {
    "jupyter": {
     "source_hidden": true
    }
   },
   "outputs": [],
   "source": [
    "path_new = '/home1/datawork/slgentil/jet_cfg1_wp75_4km_1500a2000j_floats_lev50/'"
   ]
  },
  {
   "cell_type": "code",
   "execution_count": 43,
   "metadata": {},
   "outputs": [],
   "source": [
    "gparams = {'f0': 1.0313e-4, 'beta': 1.6186e-11}\n",
    "r = pp.CROCOrun(root_path+run, prefix='file_', open_nc=['surf'], \n",
    "                chunk_time={'his': 1, 'surf': 1}, grid_params=gparams)"
   ]
  },
  {
   "cell_type": "code",
   "execution_count": 46,
   "metadata": {},
   "outputs": [
    {
     "data": {
      "text/plain": [
       "<xarray.Dataset>\n",
       "Dimensions:              (axis_nbounds: 2, s_rho_slice0: 1, time: 72000, x_rho: 258, x_u: 257, y_rho: 722, y_v: 721)\n",
       "Coordinates:\n",
       "    eta_v                (y_v, x_rho) float32 dask.array<chunksize=(721, 258), meta=np.ndarray>\n",
       "    xi_rho               (y_rho, x_rho) float32 dask.array<chunksize=(722, 258), meta=np.ndarray>\n",
       "    eta_u                (y_rho, x_u) float32 dask.array<chunksize=(722, 257), meta=np.ndarray>\n",
       "    xi_u                 (y_rho, x_u) float32 dask.array<chunksize=(722, 257), meta=np.ndarray>\n",
       "    xi_v                 (y_v, x_rho) float32 dask.array<chunksize=(721, 258), meta=np.ndarray>\n",
       "    eta_rho              (y_rho, x_rho) float32 dask.array<chunksize=(722, 258), meta=np.ndarray>\n",
       "  * s_rho_slice0         (s_rho_slice0) float32 -0.01\n",
       "    time_instant         (time) float64 dask.array<chunksize=(1,), meta=np.ndarray>\n",
       "    time_counter         (time) float64 1.5e+03 1.5e+03 1.5e+03 ... 2e+03 2e+03\n",
       "    f                    (y_rho, x_rho) float32 dask.array<chunksize=(722, 258), meta=np.ndarray>\n",
       "Dimensions without coordinates: axis_nbounds, time, x_rho, x_u, y_rho, y_v\n",
       "Data variables:\n",
       "    ssh                  (time, y_rho, x_rho) float32 dask.array<chunksize=(1, 722, 258), meta=np.ndarray>\n",
       "    time_instant_bounds  (time, axis_nbounds) datetime64[ns] dask.array<chunksize=(1, 2), meta=np.ndarray>\n",
       "    time_counter_bounds  (time, axis_nbounds) datetime64[ns] dask.array<chunksize=(1, 2), meta=np.ndarray>\n",
       "    T                    (time, s_rho_slice0, y_rho, x_rho) float32 dask.array<chunksize=(1, 1, 722, 258), meta=np.ndarray>\n",
       "    u                    (time, s_rho_slice0, y_rho, x_u) float32 dask.array<chunksize=(1, 1, 722, 257), meta=np.ndarray>\n",
       "    v                    (time, s_rho_slice0, y_v, x_rho) float32 dask.array<chunksize=(1, 1, 721, 258), meta=np.ndarray>\n",
       "    w                    (time, s_rho_slice0, y_rho, x_rho) float32 dask.array<chunksize=(1, 1, 722, 258), meta=np.ndarray>\n",
       "Attributes:\n",
       "    name:         file_surf\n",
       "    description:  Created by xios\n",
       "    title:        Created by xios\n",
       "    Conventions:  CF-1.5\n",
       "    production:   An IPSL model\n",
       "    timeStamp:    2019-Nov-05 08:42:08 GMT\n",
       "    f0:           0.00010313\n",
       "    beta:         1.6186e-11"
      ]
     },
     "execution_count": 46,
     "metadata": {},
     "output_type": "execute_result"
    }
   ],
   "source": [
    "r['surf']"
   ]
  },
  {
   "cell_type": "code",
   "execution_count": 5,
   "metadata": {},
   "outputs": [
    {
     "data": {
      "text/html": [
       "<div>\n",
       "<style scoped>\n",
       "    .dataframe tbody tr th:only-of-type {\n",
       "        vertical-align: middle;\n",
       "    }\n",
       "\n",
       "    .dataframe tbody tr th {\n",
       "        vertical-align: top;\n",
       "    }\n",
       "\n",
       "    .dataframe thead th {\n",
       "        text-align: right;\n",
       "    }\n",
       "</style>\n",
       "<table border=\"1\" class=\"dataframe\">\n",
       "  <thead>\n",
       "    <tr style=\"text-align: right;\">\n",
       "      <th></th>\n",
       "      <th>id</th>\n",
       "      <th>time</th>\n",
       "      <th>xgrid</th>\n",
       "      <th>ygrid</th>\n",
       "      <th>zgrid</th>\n",
       "      <th>depth</th>\n",
       "      <th>temp</th>\n",
       "      <th>u</th>\n",
       "      <th>v</th>\n",
       "      <th>dudt</th>\n",
       "      <th>dvdt</th>\n",
       "      <th>pres</th>\n",
       "      <th>x</th>\n",
       "      <th>y</th>\n",
       "    </tr>\n",
       "  </thead>\n",
       "  <tbody>\n",
       "    <tr>\n",
       "      <th>0</th>\n",
       "      <td>7161</td>\n",
       "      <td>1500.0069</td>\n",
       "      <td>196.40944</td>\n",
       "      <td>541.79652</td>\n",
       "      <td>50.0</td>\n",
       "      <td>-0.935944</td>\n",
       "      <td>25.886666</td>\n",
       "      <td>0.058079</td>\n",
       "      <td>-0.105506</td>\n",
       "      <td>-5.820925e-08</td>\n",
       "      <td>3.420817e-07</td>\n",
       "      <td>-8.260263</td>\n",
       "      <td>785.63776</td>\n",
       "      <td>2167.18608</td>\n",
       "    </tr>\n",
       "    <tr>\n",
       "      <th>1</th>\n",
       "      <td>7162</td>\n",
       "      <td>1500.0069</td>\n",
       "      <td>196.40937</td>\n",
       "      <td>543.30184</td>\n",
       "      <td>50.0</td>\n",
       "      <td>-0.940022</td>\n",
       "      <td>25.885229</td>\n",
       "      <td>0.057283</td>\n",
       "      <td>-0.101750</td>\n",
       "      <td>-2.034746e-08</td>\n",
       "      <td>3.515808e-07</td>\n",
       "      <td>-8.300321</td>\n",
       "      <td>785.63748</td>\n",
       "      <td>2173.20736</td>\n",
       "    </tr>\n",
       "    <tr>\n",
       "      <th>2</th>\n",
       "      <td>7163</td>\n",
       "      <td>1500.0069</td>\n",
       "      <td>196.40946</td>\n",
       "      <td>544.80716</td>\n",
       "      <td>50.0</td>\n",
       "      <td>-0.944117</td>\n",
       "      <td>25.884374</td>\n",
       "      <td>0.058512</td>\n",
       "      <td>-0.097537</td>\n",
       "      <td>-1.201106e-09</td>\n",
       "      <td>3.599363e-07</td>\n",
       "      <td>-8.340519</td>\n",
       "      <td>785.63784</td>\n",
       "      <td>2179.22864</td>\n",
       "    </tr>\n",
       "    <tr>\n",
       "      <th>3</th>\n",
       "      <td>7164</td>\n",
       "      <td>1500.0069</td>\n",
       "      <td>196.40961</td>\n",
       "      <td>546.31250</td>\n",
       "      <td>50.0</td>\n",
       "      <td>-0.948345</td>\n",
       "      <td>25.884627</td>\n",
       "      <td>0.060480</td>\n",
       "      <td>-0.093268</td>\n",
       "      <td>-1.958836e-08</td>\n",
       "      <td>3.627984e-07</td>\n",
       "      <td>-8.381996</td>\n",
       "      <td>785.63844</td>\n",
       "      <td>2185.25000</td>\n",
       "    </tr>\n",
       "    <tr>\n",
       "      <th>4</th>\n",
       "      <td>7165</td>\n",
       "      <td>1500.0069</td>\n",
       "      <td>196.40971</td>\n",
       "      <td>547.81780</td>\n",
       "      <td>50.0</td>\n",
       "      <td>-0.952706</td>\n",
       "      <td>25.885603</td>\n",
       "      <td>0.061626</td>\n",
       "      <td>-0.089432</td>\n",
       "      <td>-6.096121e-08</td>\n",
       "      <td>3.575484e-07</td>\n",
       "      <td>-8.424740</td>\n",
       "      <td>785.63884</td>\n",
       "      <td>2191.27120</td>\n",
       "    </tr>\n",
       "  </tbody>\n",
       "</table>\n",
       "</div>"
      ],
      "text/plain": [
       "     id       time      xgrid      ygrid  zgrid     depth       temp  \\\n",
       "0  7161  1500.0069  196.40944  541.79652   50.0 -0.935944  25.886666   \n",
       "1  7162  1500.0069  196.40937  543.30184   50.0 -0.940022  25.885229   \n",
       "2  7163  1500.0069  196.40946  544.80716   50.0 -0.944117  25.884374   \n",
       "3  7164  1500.0069  196.40961  546.31250   50.0 -0.948345  25.884627   \n",
       "4  7165  1500.0069  196.40971  547.81780   50.0 -0.952706  25.885603   \n",
       "\n",
       "          u         v          dudt          dvdt      pres          x  \\\n",
       "0  0.058079 -0.105506 -5.820925e-08  3.420817e-07 -8.260263  785.63776   \n",
       "1  0.057283 -0.101750 -2.034746e-08  3.515808e-07 -8.300321  785.63748   \n",
       "2  0.058512 -0.097537 -1.201106e-09  3.599363e-07 -8.340519  785.63784   \n",
       "3  0.060480 -0.093268 -1.958836e-08  3.627984e-07 -8.381996  785.63844   \n",
       "4  0.061626 -0.089432 -6.096121e-08  3.575484e-07 -8.424740  785.63884   \n",
       "\n",
       "            y  \n",
       "0  2167.18608  \n",
       "1  2173.20736  \n",
       "2  2179.22864  \n",
       "3  2185.25000  \n",
       "4  2191.27120  "
      ]
     },
     "execution_count": 5,
     "metadata": {},
     "output_type": "execute_result"
    }
   ],
   "source": [
    "#path_data='/Users/zcaspar/jet_cfg1_wp75_4km_1500a2000j_floats_lev50_itide/'\n",
    "#df = dd.read_csv(glob(root_path+run+'t?/float.????'), \n",
    "df = dd.read_csv(glob(root_path+run+'t1/float.????'), \n",
    "                 names=['id','time','xgrid','ygrid','zgrid','depth','temp','u','v','dudt','dvdt','pres'],\n",
    "                 delim_whitespace=True)#.persist()\n",
    "dxy = int(run[run.find('km')-1])\n",
    "df['x'] = df.xgrid*dxy\n",
    "df['y'] = df.ygrid*dxy\n",
    "df = df.persist()\n",
    "df.head()"
   ]
  },
  {
   "cell_type": "code",
   "execution_count": 9,
   "metadata": {
    "collapsed": true,
    "jupyter": {
     "outputs_hidden": true,
     "source_hidden": true
    }
   },
   "outputs": [
    {
     "data": {
      "text/html": [
       "<div>\n",
       "<style scoped>\n",
       "    .dataframe tbody tr th:only-of-type {\n",
       "        vertical-align: middle;\n",
       "    }\n",
       "\n",
       "    .dataframe tbody tr th {\n",
       "        vertical-align: top;\n",
       "    }\n",
       "\n",
       "    .dataframe thead th {\n",
       "        text-align: right;\n",
       "    }\n",
       "</style>\n",
       "<table border=\"1\" class=\"dataframe\">\n",
       "  <thead>\n",
       "    <tr style=\"text-align: right;\">\n",
       "      <th></th>\n",
       "      <th>id</th>\n",
       "      <th>time</th>\n",
       "      <th>xgrid</th>\n",
       "      <th>ygrid</th>\n",
       "      <th>zgrid</th>\n",
       "      <th>depth</th>\n",
       "      <th>temp</th>\n",
       "      <th>X1</th>\n",
       "      <th>X2</th>\n",
       "      <th>X3</th>\n",
       "      <th>X4</th>\n",
       "      <th>X5</th>\n",
       "    </tr>\n",
       "  </thead>\n",
       "  <tbody>\n",
       "    <tr>\n",
       "      <th>0</th>\n",
       "      <td>2392</td>\n",
       "      <td>1600.0</td>\n",
       "      <td>202.45459</td>\n",
       "      <td>555.30114</td>\n",
       "      <td>50.0</td>\n",
       "      <td>-0.441719</td>\n",
       "      <td>25.880693</td>\n",
       "      <td>-0.043582</td>\n",
       "      <td>0.085333</td>\n",
       "      <td>0.000006</td>\n",
       "      <td>0.000015</td>\n",
       "      <td>-3.412012</td>\n",
       "    </tr>\n",
       "    <tr>\n",
       "      <th>1</th>\n",
       "      <td>2393</td>\n",
       "      <td>1600.0</td>\n",
       "      <td>203.35704</td>\n",
       "      <td>556.39832</td>\n",
       "      <td>50.0</td>\n",
       "      <td>-0.447484</td>\n",
       "      <td>25.882115</td>\n",
       "      <td>-0.021729</td>\n",
       "      <td>0.028096</td>\n",
       "      <td>-0.000005</td>\n",
       "      <td>0.000017</td>\n",
       "      <td>-3.468518</td>\n",
       "    </tr>\n",
       "    <tr>\n",
       "      <th>2</th>\n",
       "      <td>2394</td>\n",
       "      <td>1600.0</td>\n",
       "      <td>200.82907</td>\n",
       "      <td>556.26515</td>\n",
       "      <td>50.0</td>\n",
       "      <td>-0.451100</td>\n",
       "      <td>25.883482</td>\n",
       "      <td>-0.091803</td>\n",
       "      <td>0.068287</td>\n",
       "      <td>0.000003</td>\n",
       "      <td>0.000030</td>\n",
       "      <td>-3.503944</td>\n",
       "    </tr>\n",
       "    <tr>\n",
       "      <th>3</th>\n",
       "      <td>2395</td>\n",
       "      <td>1600.0</td>\n",
       "      <td>196.52656</td>\n",
       "      <td>555.71030</td>\n",
       "      <td>50.0</td>\n",
       "      <td>-0.447494</td>\n",
       "      <td>25.885577</td>\n",
       "      <td>-0.135628</td>\n",
       "      <td>0.122027</td>\n",
       "      <td>0.000010</td>\n",
       "      <td>0.000038</td>\n",
       "      <td>-3.468491</td>\n",
       "    </tr>\n",
       "    <tr>\n",
       "      <th>4</th>\n",
       "      <td>2692</td>\n",
       "      <td>1600.0</td>\n",
       "      <td>195.98028</td>\n",
       "      <td>551.61897</td>\n",
       "      <td>50.0</td>\n",
       "      <td>-0.420034</td>\n",
       "      <td>25.881794</td>\n",
       "      <td>-0.108055</td>\n",
       "      <td>0.283380</td>\n",
       "      <td>0.000037</td>\n",
       "      <td>0.000018</td>\n",
       "      <td>-3.199236</td>\n",
       "    </tr>\n",
       "  </tbody>\n",
       "</table>\n",
       "</div>"
      ],
      "text/plain": [
       "     id    time      xgrid      ygrid  zgrid     depth       temp        X1  \\\n",
       "0  2392  1600.0  202.45459  555.30114   50.0 -0.441719  25.880693 -0.043582   \n",
       "1  2393  1600.0  203.35704  556.39832   50.0 -0.447484  25.882115 -0.021729   \n",
       "2  2394  1600.0  200.82907  556.26515   50.0 -0.451100  25.883482 -0.091803   \n",
       "3  2395  1600.0  196.52656  555.71030   50.0 -0.447494  25.885577 -0.135628   \n",
       "4  2692  1600.0  195.98028  551.61897   50.0 -0.420034  25.881794 -0.108055   \n",
       "\n",
       "         X2        X3        X4        X5  \n",
       "0  0.085333  0.000006  0.000015 -3.412012  \n",
       "1  0.028096 -0.000005  0.000017 -3.468518  \n",
       "2  0.068287  0.000003  0.000030 -3.503944  \n",
       "3  0.122027  0.000010  0.000038 -3.468491  \n",
       "4  0.283380  0.000037  0.000018 -3.199236  "
      ]
     },
     "execution_count": 9,
     "metadata": {},
     "output_type": "execute_result"
    }
   ],
   "source": [
    "df1 = dd.read_csv(glob(root_path+run+'t2/float.????'), \n",
    "                 names=['id','time','xgrid','ygrid','zgrid','depth','temp','X1','X2','X3','X4','X5'],\n",
    "                 delim_whitespace=True).persist()\n",
    "df1.head()"
   ]
  },
  {
   "cell_type": "code",
   "execution_count": 11,
   "metadata": {
    "collapsed": true,
    "jupyter": {
     "outputs_hidden": true,
     "source_hidden": true
    }
   },
   "outputs": [
    {
     "data": {
      "text/html": [
       "<div>\n",
       "<style scoped>\n",
       "    .dataframe tbody tr th:only-of-type {\n",
       "        vertical-align: middle;\n",
       "    }\n",
       "\n",
       "    .dataframe tbody tr th {\n",
       "        vertical-align: top;\n",
       "    }\n",
       "\n",
       "    .dataframe thead th {\n",
       "        text-align: right;\n",
       "    }\n",
       "</style>\n",
       "<table border=\"1\" class=\"dataframe\">\n",
       "  <thead>\n",
       "    <tr style=\"text-align: right;\">\n",
       "      <th></th>\n",
       "      <th>id</th>\n",
       "      <th>time</th>\n",
       "      <th>xgrid</th>\n",
       "      <th>ygrid</th>\n",
       "      <th>zgrid</th>\n",
       "      <th>depth</th>\n",
       "      <th>temp</th>\n",
       "      <th>X1</th>\n",
       "      <th>X2</th>\n",
       "      <th>X3</th>\n",
       "      <th>X4</th>\n",
       "      <th>X5</th>\n",
       "    </tr>\n",
       "  </thead>\n",
       "  <tbody>\n",
       "    <tr>\n",
       "      <th>0</th>\n",
       "      <td>274</td>\n",
       "      <td>1700.0</td>\n",
       "      <td>228.79740</td>\n",
       "      <td>581.35682</td>\n",
       "      <td>50.0</td>\n",
       "      <td>-0.446967</td>\n",
       "      <td>25.886335</td>\n",
       "      <td>-0.109194</td>\n",
       "      <td>-0.205650</td>\n",
       "      <td>-0.000014</td>\n",
       "      <td>-4.101474e-07</td>\n",
       "      <td>-3.463293</td>\n",
       "    </tr>\n",
       "    <tr>\n",
       "      <th>1</th>\n",
       "      <td>275</td>\n",
       "      <td>1700.0</td>\n",
       "      <td>215.95381</td>\n",
       "      <td>581.12501</td>\n",
       "      <td>50.0</td>\n",
       "      <td>-0.433528</td>\n",
       "      <td>25.885475</td>\n",
       "      <td>-0.366684</td>\n",
       "      <td>-0.141488</td>\n",
       "      <td>-0.000009</td>\n",
       "      <td>3.959290e-05</td>\n",
       "      <td>-3.331487</td>\n",
       "    </tr>\n",
       "    <tr>\n",
       "      <th>2</th>\n",
       "      <td>276</td>\n",
       "      <td>1700.0</td>\n",
       "      <td>222.63530</td>\n",
       "      <td>585.26013</td>\n",
       "      <td>50.0</td>\n",
       "      <td>-0.423708</td>\n",
       "      <td>25.885130</td>\n",
       "      <td>-0.199095</td>\n",
       "      <td>-0.341237</td>\n",
       "      <td>-0.000042</td>\n",
       "      <td>1.403987e-05</td>\n",
       "      <td>-3.235164</td>\n",
       "    </tr>\n",
       "    <tr>\n",
       "      <th>3</th>\n",
       "      <td>277</td>\n",
       "      <td>1700.0</td>\n",
       "      <td>223.09539</td>\n",
       "      <td>584.71844</td>\n",
       "      <td>50.0</td>\n",
       "      <td>-0.424851</td>\n",
       "      <td>25.884756</td>\n",
       "      <td>-0.195507</td>\n",
       "      <td>-0.335283</td>\n",
       "      <td>-0.000042</td>\n",
       "      <td>1.506545e-05</td>\n",
       "      <td>-3.246390</td>\n",
       "    </tr>\n",
       "    <tr>\n",
       "      <th>4</th>\n",
       "      <td>278</td>\n",
       "      <td>1700.0</td>\n",
       "      <td>220.63995</td>\n",
       "      <td>583.03578</td>\n",
       "      <td>50.0</td>\n",
       "      <td>-0.434419</td>\n",
       "      <td>25.884849</td>\n",
       "      <td>-0.294566</td>\n",
       "      <td>-0.305988</td>\n",
       "      <td>-0.000039</td>\n",
       "      <td>2.781373e-05</td>\n",
       "      <td>-3.340258</td>\n",
       "    </tr>\n",
       "  </tbody>\n",
       "</table>\n",
       "</div>"
      ],
      "text/plain": [
       "    id    time      xgrid      ygrid  zgrid     depth       temp        X1  \\\n",
       "0  274  1700.0  228.79740  581.35682   50.0 -0.446967  25.886335 -0.109194   \n",
       "1  275  1700.0  215.95381  581.12501   50.0 -0.433528  25.885475 -0.366684   \n",
       "2  276  1700.0  222.63530  585.26013   50.0 -0.423708  25.885130 -0.199095   \n",
       "3  277  1700.0  223.09539  584.71844   50.0 -0.424851  25.884756 -0.195507   \n",
       "4  278  1700.0  220.63995  583.03578   50.0 -0.434419  25.884849 -0.294566   \n",
       "\n",
       "         X2        X3            X4        X5  \n",
       "0 -0.205650 -0.000014 -4.101474e-07 -3.463293  \n",
       "1 -0.141488 -0.000009  3.959290e-05 -3.331487  \n",
       "2 -0.341237 -0.000042  1.403987e-05 -3.235164  \n",
       "3 -0.335283 -0.000042  1.506545e-05 -3.246390  \n",
       "4 -0.305988 -0.000039  2.781373e-05 -3.340258  "
      ]
     },
     "execution_count": 11,
     "metadata": {},
     "output_type": "execute_result"
    }
   ],
   "source": [
    "df2 = dd.read_csv(glob(root_path+run+'t3/float.????'), \n",
    "                 names=['id','time','xgrid','ygrid','zgrid','depth','temp','X1','X2','X3','X4','X5'],\n",
    "                delim_whitespace=True).persist()\n",
    "df2.head()"
   ]
  },
  {
   "cell_type": "code",
   "execution_count": 20,
   "metadata": {
    "collapsed": true,
    "jupyter": {
     "outputs_hidden": true,
     "source_hidden": true
    }
   },
   "outputs": [
    {
     "data": {
      "text/html": [
       "<div>\n",
       "<style scoped>\n",
       "    .dataframe tbody tr th:only-of-type {\n",
       "        vertical-align: middle;\n",
       "    }\n",
       "\n",
       "    .dataframe tbody tr th {\n",
       "        vertical-align: top;\n",
       "    }\n",
       "\n",
       "    .dataframe thead th {\n",
       "        text-align: right;\n",
       "    }\n",
       "</style>\n",
       "<table border=\"1\" class=\"dataframe\">\n",
       "  <thead>\n",
       "    <tr style=\"text-align: right;\">\n",
       "      <th></th>\n",
       "      <th>id</th>\n",
       "      <th>time</th>\n",
       "      <th>xgrid</th>\n",
       "      <th>ygrid</th>\n",
       "      <th>zgrid</th>\n",
       "      <th>depth</th>\n",
       "      <th>temp</th>\n",
       "      <th>X1</th>\n",
       "      <th>X2</th>\n",
       "      <th>X3</th>\n",
       "      <th>X4</th>\n",
       "      <th>X5</th>\n",
       "    </tr>\n",
       "  </thead>\n",
       "  <tbody>\n",
       "    <tr>\n",
       "      <th>0</th>\n",
       "      <td>194</td>\n",
       "      <td>1700.0</td>\n",
       "      <td>197.31540</td>\n",
       "      <td>554.84405</td>\n",
       "      <td>50.0</td>\n",
       "      <td>-0.344646</td>\n",
       "      <td>25.892402</td>\n",
       "      <td>-0.091033</td>\n",
       "      <td>-0.056985</td>\n",
       "      <td>6.326971e-08</td>\n",
       "      <td>-3.238670e-08</td>\n",
       "      <td>-2.459379</td>\n",
       "    </tr>\n",
       "    <tr>\n",
       "      <th>1</th>\n",
       "      <td>250</td>\n",
       "      <td>1700.0</td>\n",
       "      <td>253.84876</td>\n",
       "      <td>550.79545</td>\n",
       "      <td>50.0</td>\n",
       "      <td>-0.555811</td>\n",
       "      <td>25.896888</td>\n",
       "      <td>-0.028089</td>\n",
       "      <td>-0.046005</td>\n",
       "      <td>2.921781e-08</td>\n",
       "      <td>-9.348941e-08</td>\n",
       "      <td>-4.530688</td>\n",
       "    </tr>\n",
       "    <tr>\n",
       "      <th>2</th>\n",
       "      <td>251</td>\n",
       "      <td>1700.0</td>\n",
       "      <td>252.38882</td>\n",
       "      <td>551.66698</td>\n",
       "      <td>50.0</td>\n",
       "      <td>-0.551367</td>\n",
       "      <td>25.895246</td>\n",
       "      <td>-0.032966</td>\n",
       "      <td>-0.047567</td>\n",
       "      <td>2.315326e-08</td>\n",
       "      <td>-9.907788e-08</td>\n",
       "      <td>-4.487153</td>\n",
       "    </tr>\n",
       "    <tr>\n",
       "      <th>3</th>\n",
       "      <td>252</td>\n",
       "      <td>1700.0</td>\n",
       "      <td>252.72567</td>\n",
       "      <td>550.33823</td>\n",
       "      <td>50.0</td>\n",
       "      <td>-0.553975</td>\n",
       "      <td>25.895848</td>\n",
       "      <td>-0.028406</td>\n",
       "      <td>-0.045600</td>\n",
       "      <td>2.703466e-08</td>\n",
       "      <td>-9.513189e-08</td>\n",
       "      <td>-4.512716</td>\n",
       "    </tr>\n",
       "    <tr>\n",
       "      <th>4</th>\n",
       "      <td>253</td>\n",
       "      <td>1700.0</td>\n",
       "      <td>251.61367</td>\n",
       "      <td>551.03201</td>\n",
       "      <td>50.0</td>\n",
       "      <td>-0.550605</td>\n",
       "      <td>25.894686</td>\n",
       "      <td>-0.032281</td>\n",
       "      <td>-0.046830</td>\n",
       "      <td>2.858870e-08</td>\n",
       "      <td>-1.002080e-07</td>\n",
       "      <td>-4.479692</td>\n",
       "    </tr>\n",
       "  </tbody>\n",
       "</table>\n",
       "</div>"
      ],
      "text/plain": [
       "    id    time      xgrid      ygrid  zgrid     depth       temp        X1  \\\n",
       "0  194  1700.0  197.31540  554.84405   50.0 -0.344646  25.892402 -0.091033   \n",
       "1  250  1700.0  253.84876  550.79545   50.0 -0.555811  25.896888 -0.028089   \n",
       "2  251  1700.0  252.38882  551.66698   50.0 -0.551367  25.895246 -0.032966   \n",
       "3  252  1700.0  252.72567  550.33823   50.0 -0.553975  25.895848 -0.028406   \n",
       "4  253  1700.0  251.61367  551.03201   50.0 -0.550605  25.894686 -0.032281   \n",
       "\n",
       "         X2            X3            X4        X5  \n",
       "0 -0.056985  6.326971e-08 -3.238670e-08 -2.459379  \n",
       "1 -0.046005  2.921781e-08 -9.348941e-08 -4.530688  \n",
       "2 -0.047567  2.315326e-08 -9.907788e-08 -4.487153  \n",
       "3 -0.045600  2.703466e-08 -9.513189e-08 -4.512716  \n",
       "4 -0.046830  2.858870e-08 -1.002080e-07 -4.479692  "
      ]
     },
     "execution_count": 20,
     "metadata": {},
     "output_type": "execute_result"
    }
   ],
   "source": [
    "df2 = dd.read_csv(glob(path_new+'t3/float.????'), \n",
    "                 names=['id','time','xgrid','ygrid','zgrid','depth','temp','X1','X2','X3','X4','X5'],\n",
    "                delim_whitespace=True).persist()\n",
    "df2.head()"
   ]
  },
  {
   "cell_type": "code",
   "execution_count": 7,
   "metadata": {
    "collapsed": true,
    "jupyter": {
     "outputs_hidden": true,
     "source_hidden": true
    }
   },
   "outputs": [
    {
     "data": {
      "text/html": [
       "<div>\n",
       "<style scoped>\n",
       "    .dataframe tbody tr th:only-of-type {\n",
       "        vertical-align: middle;\n",
       "    }\n",
       "\n",
       "    .dataframe tbody tr th {\n",
       "        vertical-align: top;\n",
       "    }\n",
       "\n",
       "    .dataframe thead th {\n",
       "        text-align: right;\n",
       "    }\n",
       "</style>\n",
       "<table border=\"1\" class=\"dataframe\">\n",
       "  <thead>\n",
       "    <tr style=\"text-align: right;\">\n",
       "      <th></th>\n",
       "      <th>id</th>\n",
       "      <th>time</th>\n",
       "      <th>xgrid</th>\n",
       "      <th>ygrid</th>\n",
       "      <th>zgrid</th>\n",
       "      <th>depth</th>\n",
       "      <th>temp</th>\n",
       "      <th>X1</th>\n",
       "      <th>X2</th>\n",
       "      <th>X3</th>\n",
       "      <th>X4</th>\n",
       "      <th>X5</th>\n",
       "    </tr>\n",
       "  </thead>\n",
       "  <tbody>\n",
       "    <tr>\n",
       "      <th>0</th>\n",
       "      <td>210</td>\n",
       "      <td>1800.0</td>\n",
       "      <td>243.98787</td>\n",
       "      <td>543.59693</td>\n",
       "      <td>50.0</td>\n",
       "      <td>-0.509734</td>\n",
       "      <td>25.860048</td>\n",
       "      <td>-0.136270</td>\n",
       "      <td>0.057534</td>\n",
       "      <td>-0.000016</td>\n",
       "      <td>0.000024</td>\n",
       "      <td>-4.080048</td>\n",
       "    </tr>\n",
       "    <tr>\n",
       "      <th>1</th>\n",
       "      <td>246</td>\n",
       "      <td>1800.0</td>\n",
       "      <td>214.56437</td>\n",
       "      <td>573.55787</td>\n",
       "      <td>50.0</td>\n",
       "      <td>-0.714727</td>\n",
       "      <td>25.896471</td>\n",
       "      <td>0.200425</td>\n",
       "      <td>-0.002094</td>\n",
       "      <td>-0.000045</td>\n",
       "      <td>-0.000028</td>\n",
       "      <td>-6.089717</td>\n",
       "    </tr>\n",
       "    <tr>\n",
       "      <th>2</th>\n",
       "      <td>247</td>\n",
       "      <td>1800.0</td>\n",
       "      <td>225.18302</td>\n",
       "      <td>594.30595</td>\n",
       "      <td>50.0</td>\n",
       "      <td>-0.626867</td>\n",
       "      <td>25.894627</td>\n",
       "      <td>-0.128529</td>\n",
       "      <td>0.409933</td>\n",
       "      <td>0.000033</td>\n",
       "      <td>0.000034</td>\n",
       "      <td>-5.227857</td>\n",
       "    </tr>\n",
       "    <tr>\n",
       "      <th>3</th>\n",
       "      <td>248</td>\n",
       "      <td>1800.0</td>\n",
       "      <td>209.87796</td>\n",
       "      <td>565.87639</td>\n",
       "      <td>50.0</td>\n",
       "      <td>-0.754571</td>\n",
       "      <td>25.899651</td>\n",
       "      <td>0.013435</td>\n",
       "      <td>-0.069608</td>\n",
       "      <td>-0.000038</td>\n",
       "      <td>0.000011</td>\n",
       "      <td>-6.480475</td>\n",
       "    </tr>\n",
       "    <tr>\n",
       "      <th>4</th>\n",
       "      <td>250</td>\n",
       "      <td>1800.0</td>\n",
       "      <td>233.58084</td>\n",
       "      <td>562.28412</td>\n",
       "      <td>50.0</td>\n",
       "      <td>-0.542508</td>\n",
       "      <td>25.890562</td>\n",
       "      <td>0.322520</td>\n",
       "      <td>0.216019</td>\n",
       "      <td>0.000012</td>\n",
       "      <td>-0.000053</td>\n",
       "      <td>-4.400414</td>\n",
       "    </tr>\n",
       "  </tbody>\n",
       "</table>\n",
       "</div>"
      ],
      "text/plain": [
       "    id    time      xgrid      ygrid  zgrid     depth       temp        X1  \\\n",
       "0  210  1800.0  243.98787  543.59693   50.0 -0.509734  25.860048 -0.136270   \n",
       "1  246  1800.0  214.56437  573.55787   50.0 -0.714727  25.896471  0.200425   \n",
       "2  247  1800.0  225.18302  594.30595   50.0 -0.626867  25.894627 -0.128529   \n",
       "3  248  1800.0  209.87796  565.87639   50.0 -0.754571  25.899651  0.013435   \n",
       "4  250  1800.0  233.58084  562.28412   50.0 -0.542508  25.890562  0.322520   \n",
       "\n",
       "         X2        X3        X4        X5  \n",
       "0  0.057534 -0.000016  0.000024 -4.080048  \n",
       "1 -0.002094 -0.000045 -0.000028 -6.089717  \n",
       "2  0.409933  0.000033  0.000034 -5.227857  \n",
       "3 -0.069608 -0.000038  0.000011 -6.480475  \n",
       "4  0.216019  0.000012 -0.000053 -4.400414  "
      ]
     },
     "execution_count": 7,
     "metadata": {},
     "output_type": "execute_result"
    }
   ],
   "source": [
    "df3 = dd.read_csv(glob(root_path+run+'t4/float.????'), \n",
    "                 names=['id','time','xgrid','ygrid','zgrid','depth','temp','X1','X2','X3','X4','X5'],\n",
    "                 delim_whitespace=True).persist()\n",
    "df3.head()"
   ]
  },
  {
   "cell_type": "code",
   "execution_count": 36,
   "metadata": {
    "collapsed": true,
    "jupyter": {
     "outputs_hidden": true,
     "source_hidden": true
    }
   },
   "outputs": [
    {
     "data": {
      "text/html": [
       "<div>\n",
       "<style scoped>\n",
       "    .dataframe tbody tr th:only-of-type {\n",
       "        vertical-align: middle;\n",
       "    }\n",
       "\n",
       "    .dataframe tbody tr th {\n",
       "        vertical-align: top;\n",
       "    }\n",
       "\n",
       "    .dataframe thead th {\n",
       "        text-align: right;\n",
       "    }\n",
       "</style>\n",
       "<table border=\"1\" class=\"dataframe\">\n",
       "  <thead>\n",
       "    <tr style=\"text-align: right;\">\n",
       "      <th></th>\n",
       "      <th>id</th>\n",
       "      <th>time</th>\n",
       "      <th>xgrid</th>\n",
       "      <th>ygrid</th>\n",
       "      <th>zgrid</th>\n",
       "      <th>depth</th>\n",
       "      <th>temp</th>\n",
       "      <th>X1</th>\n",
       "      <th>X2</th>\n",
       "      <th>X3</th>\n",
       "      <th>X4</th>\n",
       "      <th>X5</th>\n",
       "    </tr>\n",
       "  </thead>\n",
       "  <tbody>\n",
       "    <tr>\n",
       "      <th>0</th>\n",
       "      <td>227</td>\n",
       "      <td>1900.0</td>\n",
       "      <td>228.12352</td>\n",
       "      <td>548.04469</td>\n",
       "      <td>50.0</td>\n",
       "      <td>-0.566864</td>\n",
       "      <td>25.902031</td>\n",
       "      <td>0.091537</td>\n",
       "      <td>-0.085989</td>\n",
       "      <td>-0.000031</td>\n",
       "      <td>0.000012</td>\n",
       "      <td>-4.638957</td>\n",
       "    </tr>\n",
       "    <tr>\n",
       "      <th>1</th>\n",
       "      <td>299</td>\n",
       "      <td>1900.0</td>\n",
       "      <td>231.81830</td>\n",
       "      <td>547.68316</td>\n",
       "      <td>50.0</td>\n",
       "      <td>-0.529797</td>\n",
       "      <td>25.885716</td>\n",
       "      <td>-0.048803</td>\n",
       "      <td>-0.077266</td>\n",
       "      <td>-0.000030</td>\n",
       "      <td>0.000024</td>\n",
       "      <td>-4.275900</td>\n",
       "    </tr>\n",
       "    <tr>\n",
       "      <th>2</th>\n",
       "      <td>552</td>\n",
       "      <td>1900.0</td>\n",
       "      <td>213.59727</td>\n",
       "      <td>541.43649</td>\n",
       "      <td>50.0</td>\n",
       "      <td>-0.559226</td>\n",
       "      <td>25.892291</td>\n",
       "      <td>0.147283</td>\n",
       "      <td>0.099978</td>\n",
       "      <td>0.000011</td>\n",
       "      <td>-0.000010</td>\n",
       "      <td>-4.564377</td>\n",
       "    </tr>\n",
       "    <tr>\n",
       "      <th>3</th>\n",
       "      <td>558</td>\n",
       "      <td>1900.0</td>\n",
       "      <td>208.16612</td>\n",
       "      <td>550.37875</td>\n",
       "      <td>50.0</td>\n",
       "      <td>-0.598986</td>\n",
       "      <td>25.887015</td>\n",
       "      <td>0.114004</td>\n",
       "      <td>0.203838</td>\n",
       "      <td>0.000040</td>\n",
       "      <td>-0.000012</td>\n",
       "      <td>-4.954609</td>\n",
       "    </tr>\n",
       "    <tr>\n",
       "      <th>4</th>\n",
       "      <td>559</td>\n",
       "      <td>1900.0</td>\n",
       "      <td>238.58575</td>\n",
       "      <td>592.01567</td>\n",
       "      <td>50.0</td>\n",
       "      <td>-0.540438</td>\n",
       "      <td>25.886667</td>\n",
       "      <td>-0.131994</td>\n",
       "      <td>0.274107</td>\n",
       "      <td>0.000011</td>\n",
       "      <td>0.000020</td>\n",
       "      <td>-4.380263</td>\n",
       "    </tr>\n",
       "  </tbody>\n",
       "</table>\n",
       "</div>"
      ],
      "text/plain": [
       "    id    time      xgrid      ygrid  zgrid     depth       temp        X1  \\\n",
       "0  227  1900.0  228.12352  548.04469   50.0 -0.566864  25.902031  0.091537   \n",
       "1  299  1900.0  231.81830  547.68316   50.0 -0.529797  25.885716 -0.048803   \n",
       "2  552  1900.0  213.59727  541.43649   50.0 -0.559226  25.892291  0.147283   \n",
       "3  558  1900.0  208.16612  550.37875   50.0 -0.598986  25.887015  0.114004   \n",
       "4  559  1900.0  238.58575  592.01567   50.0 -0.540438  25.886667 -0.131994   \n",
       "\n",
       "         X2        X3        X4        X5  \n",
       "0 -0.085989 -0.000031  0.000012 -4.638957  \n",
       "1 -0.077266 -0.000030  0.000024 -4.275900  \n",
       "2  0.099978  0.000011 -0.000010 -4.564377  \n",
       "3  0.203838  0.000040 -0.000012 -4.954609  \n",
       "4  0.274107  0.000011  0.000020 -4.380263  "
      ]
     },
     "execution_count": 36,
     "metadata": {},
     "output_type": "execute_result"
    }
   ],
   "source": [
    "df4 = dd.read_csv(glob(root_path+run+'t5/float.????'), \n",
    "                 names=['id','time','xgrid','ygrid','zgrid','depth','temp','X1','X2','X3','X4','X5'],\n",
    "                 delim_whitespace=True).persist()\n",
    "df4.head()"
   ]
  },
  {
   "cell_type": "code",
   "execution_count": 8,
   "metadata": {},
   "outputs": [],
   "source": [
    "df_pd = df.compute()"
   ]
  },
  {
   "cell_type": "code",
   "execution_count": 13,
   "metadata": {
    "jupyter": {
     "source_hidden": true
    }
   },
   "outputs": [],
   "source": [
    "df_pd1 = df1.compute()"
   ]
  },
  {
   "cell_type": "code",
   "execution_count": 21,
   "metadata": {
    "jupyter": {
     "source_hidden": true
    }
   },
   "outputs": [],
   "source": [
    "df_pd2 = df2.compute()"
   ]
  },
  {
   "cell_type": "code",
   "execution_count": 22,
   "metadata": {
    "jupyter": {
     "source_hidden": true
    }
   },
   "outputs": [],
   "source": [
    "test = df_pd2.sort_values('id').set_index('id')#.loc[id0]"
   ]
  },
  {
   "cell_type": "code",
   "execution_count": 28,
   "metadata": {
    "collapsed": true,
    "jupyter": {
     "outputs_hidden": true,
     "source_hidden": true
    }
   },
   "outputs": [
    {
     "name": "stderr",
     "output_type": "stream",
     "text": [
      "/home1/datahome/zcaspar/miniconda3/envs/croco/lib/python3.7/site-packages/ipykernel_launcher.py:1: FutureWarning: \n",
      "Passing list-likes to .loc or [] with any missing label will raise\n",
      "KeyError in the future, you can use .reindex() as an alternative.\n",
      "\n",
      "See the documentation here:\n",
      "https://pandas.pydata.org/pandas-docs/stable/user_guide/indexing.html#deprecate-loc-reindex-listlike\n",
      "  \"\"\"Entry point for launching an IPython kernel.\n"
     ]
    },
    {
     "data": {
      "text/html": [
       "<div>\n",
       "<style scoped>\n",
       "    .dataframe tbody tr th:only-of-type {\n",
       "        vertical-align: middle;\n",
       "    }\n",
       "\n",
       "    .dataframe tbody tr th {\n",
       "        vertical-align: top;\n",
       "    }\n",
       "\n",
       "    .dataframe thead th {\n",
       "        text-align: right;\n",
       "    }\n",
       "</style>\n",
       "<table border=\"1\" class=\"dataframe\">\n",
       "  <thead>\n",
       "    <tr style=\"text-align: right;\">\n",
       "      <th></th>\n",
       "      <th>time</th>\n",
       "      <th>xgrid</th>\n",
       "      <th>ygrid</th>\n",
       "      <th>zgrid</th>\n",
       "      <th>depth</th>\n",
       "      <th>temp</th>\n",
       "      <th>X1</th>\n",
       "      <th>X2</th>\n",
       "      <th>X3</th>\n",
       "      <th>X4</th>\n",
       "      <th>X5</th>\n",
       "    </tr>\n",
       "    <tr>\n",
       "      <th>id</th>\n",
       "      <th></th>\n",
       "      <th></th>\n",
       "      <th></th>\n",
       "      <th></th>\n",
       "      <th></th>\n",
       "      <th></th>\n",
       "      <th></th>\n",
       "      <th></th>\n",
       "      <th></th>\n",
       "      <th></th>\n",
       "      <th></th>\n",
       "    </tr>\n",
       "  </thead>\n",
       "  <tbody>\n",
       "    <tr>\n",
       "      <th>1</th>\n",
       "      <td>NaN</td>\n",
       "      <td>NaN</td>\n",
       "      <td>NaN</td>\n",
       "      <td>NaN</td>\n",
       "      <td>NaN</td>\n",
       "      <td>NaN</td>\n",
       "      <td>NaN</td>\n",
       "      <td>NaN</td>\n",
       "      <td>NaN</td>\n",
       "      <td>NaN</td>\n",
       "      <td>NaN</td>\n",
       "    </tr>\n",
       "    <tr>\n",
       "      <th>31</th>\n",
       "      <td>1701.0</td>\n",
       "      <td>62.087289</td>\n",
       "      <td>246.05422</td>\n",
       "      <td>50.0</td>\n",
       "      <td>0.550914</td>\n",
       "      <td>24.559725</td>\n",
       "      <td>-0.100734</td>\n",
       "      <td>-0.032057</td>\n",
       "      <td>9.000218e-08</td>\n",
       "      <td>-3.851240e-09</td>\n",
       "      <td>6.278881</td>\n",
       "    </tr>\n",
       "    <tr>\n",
       "      <th>61</th>\n",
       "      <td>1701.0</td>\n",
       "      <td>237.222760</td>\n",
       "      <td>333.98095</td>\n",
       "      <td>50.0</td>\n",
       "      <td>0.532030</td>\n",
       "      <td>24.778890</td>\n",
       "      <td>-0.386018</td>\n",
       "      <td>0.051935</td>\n",
       "      <td>6.207681e-07</td>\n",
       "      <td>-5.293818e-07</td>\n",
       "      <td>6.101346</td>\n",
       "    </tr>\n",
       "    <tr>\n",
       "      <th>91</th>\n",
       "      <td>1701.0</td>\n",
       "      <td>252.717300</td>\n",
       "      <td>370.65647</td>\n",
       "      <td>50.0</td>\n",
       "      <td>0.955495</td>\n",
       "      <td>24.837572</td>\n",
       "      <td>-0.246670</td>\n",
       "      <td>0.237436</td>\n",
       "      <td>5.284336e-07</td>\n",
       "      <td>-1.585784e-06</td>\n",
       "      <td>10.257738</td>\n",
       "    </tr>\n",
       "    <tr>\n",
       "      <th>121</th>\n",
       "      <td>1701.0</td>\n",
       "      <td>65.048574</td>\n",
       "      <td>304.95083</td>\n",
       "      <td>50.0</td>\n",
       "      <td>0.274907</td>\n",
       "      <td>24.718534</td>\n",
       "      <td>0.344934</td>\n",
       "      <td>0.154972</td>\n",
       "      <td>7.386455e-07</td>\n",
       "      <td>-1.074109e-06</td>\n",
       "      <td>3.576718</td>\n",
       "    </tr>\n",
       "    <tr>\n",
       "      <th>...</th>\n",
       "      <td>...</td>\n",
       "      <td>...</td>\n",
       "      <td>...</td>\n",
       "      <td>...</td>\n",
       "      <td>...</td>\n",
       "      <td>...</td>\n",
       "      <td>...</td>\n",
       "      <td>...</td>\n",
       "      <td>...</td>\n",
       "      <td>...</td>\n",
       "      <td>...</td>\n",
       "    </tr>\n",
       "    <tr>\n",
       "      <th>8851</th>\n",
       "      <td>NaN</td>\n",
       "      <td>NaN</td>\n",
       "      <td>NaN</td>\n",
       "      <td>NaN</td>\n",
       "      <td>NaN</td>\n",
       "      <td>NaN</td>\n",
       "      <td>NaN</td>\n",
       "      <td>NaN</td>\n",
       "      <td>NaN</td>\n",
       "      <td>NaN</td>\n",
       "      <td>NaN</td>\n",
       "    </tr>\n",
       "    <tr>\n",
       "      <th>8881</th>\n",
       "      <td>NaN</td>\n",
       "      <td>NaN</td>\n",
       "      <td>NaN</td>\n",
       "      <td>NaN</td>\n",
       "      <td>NaN</td>\n",
       "      <td>NaN</td>\n",
       "      <td>NaN</td>\n",
       "      <td>NaN</td>\n",
       "      <td>NaN</td>\n",
       "      <td>NaN</td>\n",
       "      <td>NaN</td>\n",
       "    </tr>\n",
       "    <tr>\n",
       "      <th>8911</th>\n",
       "      <td>NaN</td>\n",
       "      <td>NaN</td>\n",
       "      <td>NaN</td>\n",
       "      <td>NaN</td>\n",
       "      <td>NaN</td>\n",
       "      <td>NaN</td>\n",
       "      <td>NaN</td>\n",
       "      <td>NaN</td>\n",
       "      <td>NaN</td>\n",
       "      <td>NaN</td>\n",
       "      <td>NaN</td>\n",
       "    </tr>\n",
       "    <tr>\n",
       "      <th>8941</th>\n",
       "      <td>NaN</td>\n",
       "      <td>NaN</td>\n",
       "      <td>NaN</td>\n",
       "      <td>NaN</td>\n",
       "      <td>NaN</td>\n",
       "      <td>NaN</td>\n",
       "      <td>NaN</td>\n",
       "      <td>NaN</td>\n",
       "      <td>NaN</td>\n",
       "      <td>NaN</td>\n",
       "      <td>NaN</td>\n",
       "    </tr>\n",
       "    <tr>\n",
       "      <th>8971</th>\n",
       "      <td>NaN</td>\n",
       "      <td>NaN</td>\n",
       "      <td>NaN</td>\n",
       "      <td>NaN</td>\n",
       "      <td>NaN</td>\n",
       "      <td>NaN</td>\n",
       "      <td>NaN</td>\n",
       "      <td>NaN</td>\n",
       "      <td>NaN</td>\n",
       "      <td>NaN</td>\n",
       "      <td>NaN</td>\n",
       "    </tr>\n",
       "  </tbody>\n",
       "</table>\n",
       "<p>300 rows × 11 columns</p>\n",
       "</div>"
      ],
      "text/plain": [
       "        time       xgrid      ygrid  zgrid     depth       temp        X1  \\\n",
       "id                                                                          \n",
       "1        NaN         NaN        NaN    NaN       NaN        NaN       NaN   \n",
       "31    1701.0   62.087289  246.05422   50.0  0.550914  24.559725 -0.100734   \n",
       "61    1701.0  237.222760  333.98095   50.0  0.532030  24.778890 -0.386018   \n",
       "91    1701.0  252.717300  370.65647   50.0  0.955495  24.837572 -0.246670   \n",
       "121   1701.0   65.048574  304.95083   50.0  0.274907  24.718534  0.344934   \n",
       "...      ...         ...        ...    ...       ...        ...       ...   \n",
       "8851     NaN         NaN        NaN    NaN       NaN        NaN       NaN   \n",
       "8881     NaN         NaN        NaN    NaN       NaN        NaN       NaN   \n",
       "8911     NaN         NaN        NaN    NaN       NaN        NaN       NaN   \n",
       "8941     NaN         NaN        NaN    NaN       NaN        NaN       NaN   \n",
       "8971     NaN         NaN        NaN    NaN       NaN        NaN       NaN   \n",
       "\n",
       "            X2            X3            X4         X5  \n",
       "id                                                     \n",
       "1          NaN           NaN           NaN        NaN  \n",
       "31   -0.032057  9.000218e-08 -3.851240e-09   6.278881  \n",
       "61    0.051935  6.207681e-07 -5.293818e-07   6.101346  \n",
       "91    0.237436  5.284336e-07 -1.585784e-06  10.257738  \n",
       "121   0.154972  7.386455e-07 -1.074109e-06   3.576718  \n",
       "...        ...           ...           ...        ...  \n",
       "8851       NaN           NaN           NaN        NaN  \n",
       "8881       NaN           NaN           NaN        NaN  \n",
       "8911       NaN           NaN           NaN        NaN  \n",
       "8941       NaN           NaN           NaN        NaN  \n",
       "8971       NaN           NaN           NaN        NaN  \n",
       "\n",
       "[300 rows x 11 columns]"
      ]
     },
     "execution_count": 28,
     "metadata": {},
     "output_type": "execute_result"
    }
   ],
   "source": [
    "test[test.time==1701].loc[id0]"
   ]
  },
  {
   "cell_type": "code",
   "execution_count": 9,
   "metadata": {
    "jupyter": {
     "source_hidden": true
    }
   },
   "outputs": [],
   "source": [
    "df_pd3 = df3.compute()"
   ]
  },
  {
   "cell_type": "code",
   "execution_count": 37,
   "metadata": {
    "jupyter": {
     "source_hidden": true
    }
   },
   "outputs": [],
   "source": [
    "df_pd4 = df4.compute()"
   ]
  },
  {
   "cell_type": "code",
   "execution_count": 9,
   "metadata": {},
   "outputs": [
    {
     "name": "stdout",
     "output_type": "stream",
     "text": [
      "256.67417 0.39236113\n"
     ]
    }
   ],
   "source": [
    "print(df_pd['x'].max(),df_pd['x'].min())"
   ]
  },
  {
   "cell_type": "code",
   "execution_count": 13,
   "metadata": {
    "collapsed": true,
    "jupyter": {
     "outputs_hidden": true,
     "source_hidden": true
    }
   },
   "outputs": [
    {
     "data": {
      "text/plain": [
       "<matplotlib.axes._subplots.AxesSubplot at 0x2aab1cc2c940>"
      ]
     },
     "execution_count": 13,
     "metadata": {},
     "output_type": "execute_result"
    },
    {
     "data": {
      "image/png": "[encoded data removed]",
      "text/plain": [
       "<Figure size 432x288 with 1 Axes>"
      ]
     },
     "metadata": {
      "needs_background": "light"
     },
     "output_type": "display_data"
    }
   ],
   "source": [
    "df_pd.groupby('y')['u'].mean().to_frame(name='mean_dxdt').set_index(y_idx.mid).plot()"
   ]
  },
  {
   "cell_type": "code",
   "execution_count": 21,
   "metadata": {
    "collapsed": true,
    "jupyter": {
     "outputs_hidden": true,
     "source_hidden": true
    }
   },
   "outputs": [
    {
     "data": {
      "text/plain": [
       "<matplotlib.axes._subplots.AxesSubplot at 0x2aab494e5b38>"
      ]
     },
     "execution_count": 21,
     "metadata": {},
     "output_type": "execute_result"
    },
    {
     "data": {
      "image/png": "[encoded data removed]",
      "text/plain": [
       "<Figure size 432x288 with 1 Axes>"
      ]
     },
     "metadata": {
      "needs_background": "light"
     },
     "output_type": "display_data"
    }
   ],
   "source": [
    "df_pd.groupby('x')['v'].mean().to_frame(name='mean_dydt').set_index(x_idx.mid).plot()"
   ]
  },
  {
   "cell_type": "code",
   "execution_count": 24,
   "metadata": {},
   "outputs": [],
   "source": [
    "U2 = (df_pd['u'])**2\n",
    "V2 = (df_pd['v'])**2\n"
   ]
  },
  {
   "cell_type": "code",
   "execution_count": 35,
   "metadata": {
    "collapsed": true,
    "jupyter": {
     "outputs_hidden": true
    }
   },
   "outputs": [
    {
     "data": {
      "text/plain": [
       "x\n",
       "(1.0, 6.0]        0.033939\n",
       "(6.0, 11.0]       0.036125\n",
       "(11.0, 16.0]      0.033641\n",
       "(16.0, 21.0]      0.020593\n",
       "(21.0, 26.0]      0.011718\n",
       "(26.0, 31.0]      0.012246\n",
       "(31.0, 36.0]      0.013831\n",
       "(36.0, 41.0]      0.007766\n",
       "(41.0, 46.0]      0.004803\n",
       "(46.0, 51.0]     -0.000689\n",
       "(51.0, 56.0]     -0.010795\n",
       "(56.0, 61.0]     -0.011064\n",
       "(61.0, 66.0]     -0.019438\n",
       "(66.0, 71.0]     -0.031318\n",
       "(71.0, 76.0]     -0.025729\n",
       "(76.0, 81.0]     -0.026338\n",
       "(81.0, 86.0]     -0.031091\n",
       "(86.0, 91.0]     -0.027481\n",
       "(91.0, 96.0]     -0.016207\n",
       "(96.0, 101.0]    -0.002682\n",
       "(101.0, 106.0]    0.008901\n",
       "(106.0, 111.0]    0.021847\n",
       "(111.0, 116.0]    0.022402\n",
       "(116.0, 121.0]    0.022614\n",
       "(121.0, 126.0]    0.020643\n",
       "(126.0, 131.0]    0.021761\n",
       "(131.0, 136.0]    0.037234\n",
       "(136.0, 141.0]    0.041816\n",
       "(141.0, 146.0]    0.028987\n",
       "(146.0, 151.0]    0.015903\n",
       "(151.0, 156.0]    0.007141\n",
       "(156.0, 161.0]   -0.005525\n",
       "(161.0, 166.0]   -0.022317\n",
       "(166.0, 171.0]   -0.038101\n",
       "(171.0, 176.0]   -0.061461\n",
       "(176.0, 181.0]   -0.072227\n",
       "(181.0, 186.0]   -0.077270\n",
       "(186.0, 191.0]   -0.067339\n",
       "(191.0, 196.0]   -0.056122\n",
       "(196.0, 201.0]   -0.043591\n",
       "(201.0, 206.0]   -0.018118\n",
       "(206.0, 211.0]    0.013579\n",
       "(211.0, 216.0]    0.034976\n",
       "(216.0, 221.0]    0.035132\n",
       "(221.0, 226.0]    0.030538\n",
       "(226.0, 231.0]    0.025184\n",
       "(231.0, 236.0]    0.023263\n",
       "(236.0, 241.0]    0.027677\n",
       "(241.0, 246.0]    0.027026\n",
       "Name: X2, dtype: float64"
      ]
     },
     "execution_count": 35,
     "metadata": {},
     "output_type": "execute_result"
    }
   ],
   "source": [
    "df_pd.groupby('x')['v'].mean()"
   ]
  },
  {
   "cell_type": "code",
   "execution_count": 25,
   "metadata": {
    "collapsed": true,
    "jupyter": {
     "outputs_hidden": true
    }
   },
   "outputs": [
    {
     "ename": "KeyError",
     "evalue": "'x'",
     "output_type": "error",
     "traceback": [
      "\u001b[0;31m---------------------------------------------------------------------------\u001b[0m",
      "\u001b[0;31mKeyError\u001b[0m                                  Traceback (most recent call last)",
      "\u001b[0;32m<ipython-input-25-d7d5390de8e4>\u001b[0m in \u001b[0;36m<module>\u001b[0;34m\u001b[0m\n\u001b[0;32m----> 1\u001b[0;31m \u001b[0mV2\u001b[0m\u001b[0;34m.\u001b[0m\u001b[0mgroupby\u001b[0m\u001b[0;34m(\u001b[0m\u001b[0;34m'x'\u001b[0m\u001b[0;34m)\u001b[0m\u001b[0;34m.\u001b[0m\u001b[0mmean\u001b[0m\u001b[0;34m(\u001b[0m\u001b[0;34m)\u001b[0m\u001b[0;34m.\u001b[0m\u001b[0mto_frame\u001b[0m\u001b[0;34m(\u001b[0m\u001b[0mname\u001b[0m\u001b[0;34m=\u001b[0m\u001b[0;34m'mean_dydt'\u001b[0m\u001b[0;34m)\u001b[0m\u001b[0;34m.\u001b[0m\u001b[0mset_index\u001b[0m\u001b[0;34m(\u001b[0m\u001b[0mx_idx\u001b[0m\u001b[0;34m.\u001b[0m\u001b[0mmid\u001b[0m\u001b[0;34m)\u001b[0m\u001b[0;34m.\u001b[0m\u001b[0mplot\u001b[0m\u001b[0;34m(\u001b[0m\u001b[0;34m)\u001b[0m\u001b[0;34m\u001b[0m\u001b[0;34m\u001b[0m\u001b[0m\n\u001b[0m",
      "\u001b[0;32m~/miniconda3/envs/croco/lib/python3.7/site-packages/pandas/core/generic.py\u001b[0m in \u001b[0;36mgroupby\u001b[0;34m(self, by, axis, level, as_index, sort, group_keys, squeeze, observed, **kwargs)\u001b[0m\n\u001b[1;32m   7892\u001b[0m             \u001b[0msqueeze\u001b[0m\u001b[0;34m=\u001b[0m\u001b[0msqueeze\u001b[0m\u001b[0;34m,\u001b[0m\u001b[0;34m\u001b[0m\u001b[0;34m\u001b[0m\u001b[0m\n\u001b[1;32m   7893\u001b[0m             \u001b[0mobserved\u001b[0m\u001b[0;34m=\u001b[0m\u001b[0mobserved\u001b[0m\u001b[0;34m,\u001b[0m\u001b[0;34m\u001b[0m\u001b[0;34m\u001b[0m\u001b[0m\n\u001b[0;32m-> 7894\u001b[0;31m             \u001b[0;34m**\u001b[0m\u001b[0mkwargs\u001b[0m\u001b[0;34m\u001b[0m\u001b[0;34m\u001b[0m\u001b[0m\n\u001b[0m\u001b[1;32m   7895\u001b[0m         )\n\u001b[1;32m   7896\u001b[0m \u001b[0;34m\u001b[0m\u001b[0m\n",
      "\u001b[0;32m~/miniconda3/envs/croco/lib/python3.7/site-packages/pandas/core/groupby/groupby.py\u001b[0m in \u001b[0;36mgroupby\u001b[0;34m(obj, by, **kwds)\u001b[0m\n\u001b[1;32m   2520\u001b[0m         \u001b[0;32mraise\u001b[0m \u001b[0mTypeError\u001b[0m\u001b[0;34m(\u001b[0m\u001b[0;34m\"invalid type: {}\"\u001b[0m\u001b[0;34m.\u001b[0m\u001b[0mformat\u001b[0m\u001b[0;34m(\u001b[0m\u001b[0mobj\u001b[0m\u001b[0;34m)\u001b[0m\u001b[0;34m)\u001b[0m\u001b[0;34m\u001b[0m\u001b[0;34m\u001b[0m\u001b[0m\n\u001b[1;32m   2521\u001b[0m \u001b[0;34m\u001b[0m\u001b[0m\n\u001b[0;32m-> 2522\u001b[0;31m     \u001b[0;32mreturn\u001b[0m \u001b[0mklass\u001b[0m\u001b[0;34m(\u001b[0m\u001b[0mobj\u001b[0m\u001b[0;34m,\u001b[0m \u001b[0mby\u001b[0m\u001b[0;34m,\u001b[0m \u001b[0;34m**\u001b[0m\u001b[0mkwds\u001b[0m\u001b[0;34m)\u001b[0m\u001b[0;34m\u001b[0m\u001b[0;34m\u001b[0m\u001b[0m\n\u001b[0m",
      "\u001b[0;32m~/miniconda3/envs/croco/lib/python3.7/site-packages/pandas/core/groupby/groupby.py\u001b[0m in \u001b[0;36m__init__\u001b[0;34m(self, obj, keys, axis, level, grouper, exclusions, selection, as_index, sort, group_keys, squeeze, observed, **kwargs)\u001b[0m\n\u001b[1;32m    389\u001b[0m                 \u001b[0msort\u001b[0m\u001b[0;34m=\u001b[0m\u001b[0msort\u001b[0m\u001b[0;34m,\u001b[0m\u001b[0;34m\u001b[0m\u001b[0;34m\u001b[0m\u001b[0m\n\u001b[1;32m    390\u001b[0m                 \u001b[0mobserved\u001b[0m\u001b[0;34m=\u001b[0m\u001b[0mobserved\u001b[0m\u001b[0;34m,\u001b[0m\u001b[0;34m\u001b[0m\u001b[0;34m\u001b[0m\u001b[0m\n\u001b[0;32m--> 391\u001b[0;31m                 \u001b[0mmutated\u001b[0m\u001b[0;34m=\u001b[0m\u001b[0mself\u001b[0m\u001b[0;34m.\u001b[0m\u001b[0mmutated\u001b[0m\u001b[0;34m,\u001b[0m\u001b[0;34m\u001b[0m\u001b[0;34m\u001b[0m\u001b[0m\n\u001b[0m\u001b[1;32m    392\u001b[0m             )\n\u001b[1;32m    393\u001b[0m \u001b[0;34m\u001b[0m\u001b[0m\n",
      "\u001b[0;32m~/miniconda3/envs/croco/lib/python3.7/site-packages/pandas/core/groupby/grouper.py\u001b[0m in \u001b[0;36m_get_grouper\u001b[0;34m(obj, key, axis, level, sort, observed, mutated, validate)\u001b[0m\n\u001b[1;32m    619\u001b[0m                 \u001b[0min_axis\u001b[0m\u001b[0;34m,\u001b[0m \u001b[0mname\u001b[0m\u001b[0;34m,\u001b[0m \u001b[0mlevel\u001b[0m\u001b[0;34m,\u001b[0m \u001b[0mgpr\u001b[0m \u001b[0;34m=\u001b[0m \u001b[0;32mFalse\u001b[0m\u001b[0;34m,\u001b[0m \u001b[0;32mNone\u001b[0m\u001b[0;34m,\u001b[0m \u001b[0mgpr\u001b[0m\u001b[0;34m,\u001b[0m \u001b[0;32mNone\u001b[0m\u001b[0;34m\u001b[0m\u001b[0;34m\u001b[0m\u001b[0m\n\u001b[1;32m    620\u001b[0m             \u001b[0;32melse\u001b[0m\u001b[0;34m:\u001b[0m\u001b[0;34m\u001b[0m\u001b[0;34m\u001b[0m\u001b[0m\n\u001b[0;32m--> 621\u001b[0;31m                 \u001b[0;32mraise\u001b[0m \u001b[0mKeyError\u001b[0m\u001b[0;34m(\u001b[0m\u001b[0mgpr\u001b[0m\u001b[0;34m)\u001b[0m\u001b[0;34m\u001b[0m\u001b[0;34m\u001b[0m\u001b[0m\n\u001b[0m\u001b[1;32m    622\u001b[0m         \u001b[0;32melif\u001b[0m \u001b[0misinstance\u001b[0m\u001b[0;34m(\u001b[0m\u001b[0mgpr\u001b[0m\u001b[0;34m,\u001b[0m \u001b[0mGrouper\u001b[0m\u001b[0;34m)\u001b[0m \u001b[0;32mand\u001b[0m \u001b[0mgpr\u001b[0m\u001b[0;34m.\u001b[0m\u001b[0mkey\u001b[0m \u001b[0;32mis\u001b[0m \u001b[0;32mnot\u001b[0m \u001b[0;32mNone\u001b[0m\u001b[0;34m:\u001b[0m\u001b[0;34m\u001b[0m\u001b[0;34m\u001b[0m\u001b[0m\n\u001b[1;32m    623\u001b[0m             \u001b[0;31m# Add key to exclusions\u001b[0m\u001b[0;34m\u001b[0m\u001b[0;34m\u001b[0m\u001b[0;34m\u001b[0m\u001b[0m\n",
      "\u001b[0;31mKeyError\u001b[0m: 'x'"
     ]
    }
   ],
   "source": [
    "V2.groupby('x').mean().to_frame(name='mean_dydt').set_index(x_idx.mid).plot()"
   ]
  },
  {
   "cell_type": "markdown",
   "metadata": {},
   "source": [
    "## Déplacement des flotteurs"
   ]
  },
  {
   "cell_type": "code",
   "execution_count": 7,
   "metadata": {},
   "outputs": [],
   "source": [
    "flt_t0 = df.groupby('time').get_group(1500.0069).compute().sort_values('id').set_index(['id'])"
   ]
  },
  {
   "cell_type": "code",
   "execution_count": 8,
   "metadata": {},
   "outputs": [],
   "source": [
    "x0 = np.arange(flt_t0.index.min(),flt_t0.index.max(),5)\n",
    "         #np.arange(flt_t0.ygrid.min(),flt_t0.ygrid.max(),5)]"
   ]
  },
  {
   "cell_type": "code",
   "execution_count": 11,
   "metadata": {},
   "outputs": [
    {
     "data": {
      "image/png": "[encoded data removed]",
      "text/plain": [
       "<Figure size 432x288 with 1 Axes>"
      ]
     },
     "metadata": {
      "needs_background": "light"
     },
     "output_type": "display_data"
    }
   ],
   "source": [
    "fig,ax=plt.subplots()\n",
    "ax.scatter(flt_t0.x,flt_t0.y)\n",
    "ax.set_aspect('equal')"
   ]
  },
  {
   "cell_type": "code",
   "execution_count": 35,
   "metadata": {},
   "outputs": [
    {
     "data": {
      "text/plain": [
       "id\n",
       "301           NaN\n",
       "601     31.895048\n",
       "901     31.893688\n",
       "1201    31.892592\n",
       "1501    31.892168\n",
       "1801    31.891812\n",
       "2101    31.891888\n",
       "2401    31.891932\n",
       "2701    31.892300\n",
       "3001    31.892568\n",
       "3301    31.893380\n",
       "3601    31.894080\n",
       "3901    31.895280\n",
       "4201    31.896280\n",
       "4501    31.897120\n",
       "4801    31.897320\n",
       "5101    31.897320\n",
       "5401    31.897080\n",
       "5701    31.897240\n",
       "6001    31.897480\n",
       "6301    31.898040\n",
       "6601    31.898560\n",
       "6901    31.899360\n",
       "7201    31.899920\n",
       "7501    31.900560\n",
       "7801    31.900920\n",
       "8101    31.901320\n",
       "8401    31.901080\n",
       "8701    31.900600\n",
       "Name: x, dtype: float64"
      ]
     },
     "execution_count": 35,
     "metadata": {},
     "output_type": "execute_result"
    }
   ],
   "source": [
    "flt_t0.x[flt_t0.x.diff()>1].diff()"
   ]
  },
  {
   "cell_type": "code",
   "execution_count": 43,
   "metadata": {
    "collapsed": true,
    "jupyter": {
     "outputs_hidden": true,
     "source_hidden": true
    }
   },
   "outputs": [
    {
     "data": {
      "text/plain": [
       "array([False, False, False, ..., False, False, False])"
      ]
     },
     "execution_count": 43,
     "metadata": {},
     "output_type": "execute_result"
    }
   ],
   "source": [
    "#flt_t0.index.duplicated(keep='first')#.get_loc(50,method='backfill')\n",
    "#flt_t0.loc[flt_t0.index.min():flt_t0.index.max():5]"
   ]
  },
  {
   "cell_type": "code",
   "execution_count": 12,
   "metadata": {
    "jupyter": {
     "source_hidden": true
    }
   },
   "outputs": [],
   "source": [
    "indx = np.array([i for i, j in enumerate(flt_t0.xgrid) if j%5<1e-1])"
   ]
  },
  {
   "cell_type": "code",
   "execution_count": 19,
   "metadata": {
    "collapsed": true,
    "jupyter": {
     "outputs_hidden": true,
     "source_hidden": true
    }
   },
   "outputs": [
    {
     "name": "stderr",
     "output_type": "stream",
     "text": [
      "/home1/datahome/zcaspar/miniconda3/envs/croco/lib/python3.7/site-packages/pandas/core/series.py:1146: FutureWarning: \n",
      "Passing list-likes to .loc or [] with any missing label will raise\n",
      "KeyError in the future, you can use .reindex() as an alternative.\n",
      "\n",
      "See the documentation here:\n",
      "https://pandas.pydata.org/pandas-docs/stable/user_guide/indexing.html#deprecate-loc-reindex-listlike\n",
      "  return self.loc[key]\n"
     ]
    }
   ],
   "source": [
    "indy = np.array([iy for iy,y in enumerate(flt_t0.ygrid[indx]) if y%5<5e-1])"
   ]
  },
  {
   "cell_type": "code",
   "execution_count": 26,
   "metadata": {
    "jupyter": {
     "source_hidden": true
    }
   },
   "outputs": [
    {
     "name": "stdout",
     "output_type": "stream",
     "text": [
      "230 27\n"
     ]
    }
   ],
   "source": [
    "#indy.isin(ind)\n",
    "#print(flt_t0.index[ind], ind)\n",
    "print(indx.size,indy.size)"
   ]
  },
  {
   "cell_type": "code",
   "execution_count": 15,
   "metadata": {
    "jupyter": {
     "source_hidden": true
    }
   },
   "outputs": [
    {
     "data": {
      "text/plain": [
       "<matplotlib.collections.PathCollection at 0x2aadfd53a668>"
      ]
     },
     "execution_count": 15,
     "metadata": {},
     "output_type": "execute_result"
    },
    {
     "data": {
      "image/png": "[encoded data removed]",
      "text/plain": [
       "<Figure size 432x288 with 1 Axes>"
      ]
     },
     "metadata": {
      "needs_background": "light"
     },
     "output_type": "display_data"
    }
   ],
   "source": [
    "plt.scatter(flt_t0.xgrid[indx],flt_t0.ygrid[indx])"
   ]
  },
  {
   "cell_type": "code",
   "execution_count": 20,
   "metadata": {
    "collapsed": true,
    "jupyter": {
     "outputs_hidden": true,
     "source_hidden": true
    }
   },
   "outputs": [
    {
     "data": {
      "image/png": "[encoded data removed]",
      "text/plain": [
       "<Figure size 720x720 with 1 Axes>"
      ]
     },
     "metadata": {
      "needs_background": "light"
     },
     "output_type": "display_data"
    }
   ],
   "source": [
    "fig, ax = plt.subplots(figsize=(10,10))\n",
    "ax.scatter(flt_t0.iloc[0:-1:10].xgrid,flt_t0.iloc[0:-1:10].ygrid)\n",
    "ax.set_aspect('equal')"
   ]
  },
  {
   "cell_type": "code",
   "execution_count": 37,
   "metadata": {},
   "outputs": [],
   "source": [
    "id0=flt_t0.iloc[0:-1:30].index"
   ]
  },
  {
   "cell_type": "code",
   "execution_count": 14,
   "metadata": {},
   "outputs": [
    {
     "data": {
      "text/plain": [
       "Int64Index([   1,   31,   61,   91,  121,  151,  181,  211,  241,  271,\n",
       "            ...\n",
       "            8701, 8731, 8761, 8791, 8821, 8851, 8881, 8911, 8941, 8971],\n",
       "           dtype='int64', name='id', length=300)"
      ]
     },
     "execution_count": 14,
     "metadata": {},
     "output_type": "execute_result"
    }
   ],
   "source": [
    "id0"
   ]
  },
  {
   "cell_type": "code",
   "execution_count": 42,
   "metadata": {
    "collapsed": true,
    "jupyter": {
     "outputs_hidden": true
    }
   },
   "outputs": [
    {
     "ename": "KilledWorker",
     "evalue": "(\"('from-delayed-pandas_read_text-read-block-assign-6912bd4bb8416d1c0e2f02ff9d5a7c55', 225)\", <Worker 'tcp://127.0.0.1:55662', memory: 0, processing: 349>)",
     "output_type": "error",
     "traceback": [
      "\u001b[0;31m---------------------------------------------------------------------------\u001b[0m",
      "\u001b[0;31mKilledWorker\u001b[0m                              Traceback (most recent call last)",
      "\u001b[0;32m<ipython-input-42-03b6525541f4>\u001b[0m in \u001b[0;36m<module>\u001b[0;34m\u001b[0m\n\u001b[0;32m----> 1\u001b[0;31m \u001b[0mdfi\u001b[0m \u001b[0;34m=\u001b[0m \u001b[0mdf\u001b[0m\u001b[0;34m.\u001b[0m\u001b[0mcompute\u001b[0m\u001b[0;34m(\u001b[0m\u001b[0;34m)\u001b[0m\u001b[0;34m.\u001b[0m\u001b[0msort_values\u001b[0m\u001b[0;34m(\u001b[0m\u001b[0;34m'id'\u001b[0m\u001b[0;34m)\u001b[0m\u001b[0;34m.\u001b[0m\u001b[0mset_index\u001b[0m\u001b[0;34m(\u001b[0m\u001b[0;34m'id'\u001b[0m\u001b[0;34m)\u001b[0m\u001b[0;34m.\u001b[0m\u001b[0mloc\u001b[0m\u001b[0;34m[\u001b[0m\u001b[0mid0\u001b[0m\u001b[0;34m]\u001b[0m\u001b[0;34m\u001b[0m\u001b[0;34m\u001b[0m\u001b[0m\n\u001b[0m",
      "\u001b[0;32m~/miniconda3/envs/croco/lib/python3.7/site-packages/dask/base.py\u001b[0m in \u001b[0;36mcompute\u001b[0;34m(self, **kwargs)\u001b[0m\n\u001b[1;32m    163\u001b[0m         \u001b[0mdask\u001b[0m\u001b[0;34m.\u001b[0m\u001b[0mbase\u001b[0m\u001b[0;34m.\u001b[0m\u001b[0mcompute\u001b[0m\u001b[0;34m\u001b[0m\u001b[0;34m\u001b[0m\u001b[0m\n\u001b[1;32m    164\u001b[0m         \"\"\"\n\u001b[0;32m--> 165\u001b[0;31m         \u001b[0;34m(\u001b[0m\u001b[0mresult\u001b[0m\u001b[0;34m,\u001b[0m\u001b[0;34m)\u001b[0m \u001b[0;34m=\u001b[0m \u001b[0mcompute\u001b[0m\u001b[0;34m(\u001b[0m\u001b[0mself\u001b[0m\u001b[0;34m,\u001b[0m \u001b[0mtraverse\u001b[0m\u001b[0;34m=\u001b[0m\u001b[0;32mFalse\u001b[0m\u001b[0;34m,\u001b[0m \u001b[0;34m**\u001b[0m\u001b[0mkwargs\u001b[0m\u001b[0;34m)\u001b[0m\u001b[0;34m\u001b[0m\u001b[0;34m\u001b[0m\u001b[0m\n\u001b[0m\u001b[1;32m    166\u001b[0m         \u001b[0;32mreturn\u001b[0m \u001b[0mresult\u001b[0m\u001b[0;34m\u001b[0m\u001b[0;34m\u001b[0m\u001b[0m\n\u001b[1;32m    167\u001b[0m \u001b[0;34m\u001b[0m\u001b[0m\n",
      "\u001b[0;32m~/miniconda3/envs/croco/lib/python3.7/site-packages/dask/base.py\u001b[0m in \u001b[0;36mcompute\u001b[0;34m(*args, **kwargs)\u001b[0m\n\u001b[1;32m    434\u001b[0m     \u001b[0mkeys\u001b[0m \u001b[0;34m=\u001b[0m \u001b[0;34m[\u001b[0m\u001b[0mx\u001b[0m\u001b[0;34m.\u001b[0m\u001b[0m__dask_keys__\u001b[0m\u001b[0;34m(\u001b[0m\u001b[0;34m)\u001b[0m \u001b[0;32mfor\u001b[0m \u001b[0mx\u001b[0m \u001b[0;32min\u001b[0m \u001b[0mcollections\u001b[0m\u001b[0;34m]\u001b[0m\u001b[0;34m\u001b[0m\u001b[0;34m\u001b[0m\u001b[0m\n\u001b[1;32m    435\u001b[0m     \u001b[0mpostcomputes\u001b[0m \u001b[0;34m=\u001b[0m \u001b[0;34m[\u001b[0m\u001b[0mx\u001b[0m\u001b[0;34m.\u001b[0m\u001b[0m__dask_postcompute__\u001b[0m\u001b[0;34m(\u001b[0m\u001b[0;34m)\u001b[0m \u001b[0;32mfor\u001b[0m \u001b[0mx\u001b[0m \u001b[0;32min\u001b[0m \u001b[0mcollections\u001b[0m\u001b[0;34m]\u001b[0m\u001b[0;34m\u001b[0m\u001b[0;34m\u001b[0m\u001b[0m\n\u001b[0;32m--> 436\u001b[0;31m     \u001b[0mresults\u001b[0m \u001b[0;34m=\u001b[0m \u001b[0mschedule\u001b[0m\u001b[0;34m(\u001b[0m\u001b[0mdsk\u001b[0m\u001b[0;34m,\u001b[0m \u001b[0mkeys\u001b[0m\u001b[0;34m,\u001b[0m \u001b[0;34m**\u001b[0m\u001b[0mkwargs\u001b[0m\u001b[0;34m)\u001b[0m\u001b[0;34m\u001b[0m\u001b[0;34m\u001b[0m\u001b[0m\n\u001b[0m\u001b[1;32m    437\u001b[0m     \u001b[0;32mreturn\u001b[0m \u001b[0mrepack\u001b[0m\u001b[0;34m(\u001b[0m\u001b[0;34m[\u001b[0m\u001b[0mf\u001b[0m\u001b[0;34m(\u001b[0m\u001b[0mr\u001b[0m\u001b[0;34m,\u001b[0m \u001b[0;34m*\u001b[0m\u001b[0ma\u001b[0m\u001b[0;34m)\u001b[0m \u001b[0;32mfor\u001b[0m \u001b[0mr\u001b[0m\u001b[0;34m,\u001b[0m \u001b[0;34m(\u001b[0m\u001b[0mf\u001b[0m\u001b[0;34m,\u001b[0m \u001b[0ma\u001b[0m\u001b[0;34m)\u001b[0m \u001b[0;32min\u001b[0m \u001b[0mzip\u001b[0m\u001b[0;34m(\u001b[0m\u001b[0mresults\u001b[0m\u001b[0;34m,\u001b[0m \u001b[0mpostcomputes\u001b[0m\u001b[0;34m)\u001b[0m\u001b[0;34m]\u001b[0m\u001b[0;34m)\u001b[0m\u001b[0;34m\u001b[0m\u001b[0;34m\u001b[0m\u001b[0m\n\u001b[1;32m    438\u001b[0m \u001b[0;34m\u001b[0m\u001b[0m\n",
      "\u001b[0;32m~/miniconda3/envs/croco/lib/python3.7/site-packages/distributed/client.py\u001b[0m in \u001b[0;36mget\u001b[0;34m(self, dsk, keys, restrictions, loose_restrictions, resources, sync, asynchronous, direct, retries, priority, fifo_timeout, actors, **kwargs)\u001b[0m\n\u001b[1;32m   2543\u001b[0m                     \u001b[0mshould_rejoin\u001b[0m \u001b[0;34m=\u001b[0m \u001b[0;32mFalse\u001b[0m\u001b[0;34m\u001b[0m\u001b[0;34m\u001b[0m\u001b[0m\n\u001b[1;32m   2544\u001b[0m             \u001b[0;32mtry\u001b[0m\u001b[0;34m:\u001b[0m\u001b[0;34m\u001b[0m\u001b[0;34m\u001b[0m\u001b[0m\n\u001b[0;32m-> 2545\u001b[0;31m                 \u001b[0mresults\u001b[0m \u001b[0;34m=\u001b[0m \u001b[0mself\u001b[0m\u001b[0;34m.\u001b[0m\u001b[0mgather\u001b[0m\u001b[0;34m(\u001b[0m\u001b[0mpacked\u001b[0m\u001b[0;34m,\u001b[0m \u001b[0masynchronous\u001b[0m\u001b[0;34m=\u001b[0m\u001b[0masynchronous\u001b[0m\u001b[0;34m,\u001b[0m \u001b[0mdirect\u001b[0m\u001b[0;34m=\u001b[0m\u001b[0mdirect\u001b[0m\u001b[0;34m)\u001b[0m\u001b[0;34m\u001b[0m\u001b[0;34m\u001b[0m\u001b[0m\n\u001b[0m\u001b[1;32m   2546\u001b[0m             \u001b[0;32mfinally\u001b[0m\u001b[0;34m:\u001b[0m\u001b[0;34m\u001b[0m\u001b[0;34m\u001b[0m\u001b[0m\n\u001b[1;32m   2547\u001b[0m                 \u001b[0;32mfor\u001b[0m \u001b[0mf\u001b[0m \u001b[0;32min\u001b[0m \u001b[0mfutures\u001b[0m\u001b[0;34m.\u001b[0m\u001b[0mvalues\u001b[0m\u001b[0;34m(\u001b[0m\u001b[0;34m)\u001b[0m\u001b[0;34m:\u001b[0m\u001b[0;34m\u001b[0m\u001b[0;34m\u001b[0m\u001b[0m\n",
      "\u001b[0;32m~/miniconda3/envs/croco/lib/python3.7/site-packages/distributed/client.py\u001b[0m in \u001b[0;36mgather\u001b[0;34m(self, futures, errors, direct, asynchronous)\u001b[0m\n\u001b[1;32m   1843\u001b[0m                 \u001b[0mdirect\u001b[0m\u001b[0;34m=\u001b[0m\u001b[0mdirect\u001b[0m\u001b[0;34m,\u001b[0m\u001b[0;34m\u001b[0m\u001b[0;34m\u001b[0m\u001b[0m\n\u001b[1;32m   1844\u001b[0m                 \u001b[0mlocal_worker\u001b[0m\u001b[0;34m=\u001b[0m\u001b[0mlocal_worker\u001b[0m\u001b[0;34m,\u001b[0m\u001b[0;34m\u001b[0m\u001b[0;34m\u001b[0m\u001b[0m\n\u001b[0;32m-> 1845\u001b[0;31m                 \u001b[0masynchronous\u001b[0m\u001b[0;34m=\u001b[0m\u001b[0masynchronous\u001b[0m\u001b[0;34m,\u001b[0m\u001b[0;34m\u001b[0m\u001b[0;34m\u001b[0m\u001b[0m\n\u001b[0m\u001b[1;32m   1846\u001b[0m             )\n\u001b[1;32m   1847\u001b[0m \u001b[0;34m\u001b[0m\u001b[0m\n",
      "\u001b[0;32m~/miniconda3/envs/croco/lib/python3.7/site-packages/distributed/client.py\u001b[0m in \u001b[0;36msync\u001b[0;34m(self, func, asynchronous, callback_timeout, *args, **kwargs)\u001b[0m\n\u001b[1;32m    760\u001b[0m         \u001b[0;32melse\u001b[0m\u001b[0;34m:\u001b[0m\u001b[0;34m\u001b[0m\u001b[0;34m\u001b[0m\u001b[0m\n\u001b[1;32m    761\u001b[0m             return sync(\n\u001b[0;32m--> 762\u001b[0;31m                 \u001b[0mself\u001b[0m\u001b[0;34m.\u001b[0m\u001b[0mloop\u001b[0m\u001b[0;34m,\u001b[0m \u001b[0mfunc\u001b[0m\u001b[0;34m,\u001b[0m \u001b[0;34m*\u001b[0m\u001b[0margs\u001b[0m\u001b[0;34m,\u001b[0m \u001b[0mcallback_timeout\u001b[0m\u001b[0;34m=\u001b[0m\u001b[0mcallback_timeout\u001b[0m\u001b[0;34m,\u001b[0m \u001b[0;34m**\u001b[0m\u001b[0mkwargs\u001b[0m\u001b[0;34m\u001b[0m\u001b[0;34m\u001b[0m\u001b[0m\n\u001b[0m\u001b[1;32m    763\u001b[0m             )\n\u001b[1;32m    764\u001b[0m \u001b[0;34m\u001b[0m\u001b[0m\n",
      "\u001b[0;32m~/miniconda3/envs/croco/lib/python3.7/site-packages/distributed/utils.py\u001b[0m in \u001b[0;36msync\u001b[0;34m(loop, func, callback_timeout, *args, **kwargs)\u001b[0m\n\u001b[1;32m    331\u001b[0m     \u001b[0;32mif\u001b[0m \u001b[0merror\u001b[0m\u001b[0;34m[\u001b[0m\u001b[0;36m0\u001b[0m\u001b[0;34m]\u001b[0m\u001b[0;34m:\u001b[0m\u001b[0;34m\u001b[0m\u001b[0;34m\u001b[0m\u001b[0m\n\u001b[1;32m    332\u001b[0m         \u001b[0mtyp\u001b[0m\u001b[0;34m,\u001b[0m \u001b[0mexc\u001b[0m\u001b[0;34m,\u001b[0m \u001b[0mtb\u001b[0m \u001b[0;34m=\u001b[0m \u001b[0merror\u001b[0m\u001b[0;34m[\u001b[0m\u001b[0;36m0\u001b[0m\u001b[0;34m]\u001b[0m\u001b[0;34m\u001b[0m\u001b[0;34m\u001b[0m\u001b[0m\n\u001b[0;32m--> 333\u001b[0;31m         \u001b[0;32mraise\u001b[0m \u001b[0mexc\u001b[0m\u001b[0;34m.\u001b[0m\u001b[0mwith_traceback\u001b[0m\u001b[0;34m(\u001b[0m\u001b[0mtb\u001b[0m\u001b[0;34m)\u001b[0m\u001b[0;34m\u001b[0m\u001b[0;34m\u001b[0m\u001b[0m\n\u001b[0m\u001b[1;32m    334\u001b[0m     \u001b[0;32melse\u001b[0m\u001b[0;34m:\u001b[0m\u001b[0;34m\u001b[0m\u001b[0;34m\u001b[0m\u001b[0m\n\u001b[1;32m    335\u001b[0m         \u001b[0;32mreturn\u001b[0m \u001b[0mresult\u001b[0m\u001b[0;34m[\u001b[0m\u001b[0;36m0\u001b[0m\u001b[0;34m]\u001b[0m\u001b[0;34m\u001b[0m\u001b[0;34m\u001b[0m\u001b[0m\n",
      "\u001b[0;32m~/miniconda3/envs/croco/lib/python3.7/site-packages/distributed/utils.py\u001b[0m in \u001b[0;36mf\u001b[0;34m()\u001b[0m\n\u001b[1;32m    315\u001b[0m             \u001b[0;32mif\u001b[0m \u001b[0mcallback_timeout\u001b[0m \u001b[0;32mis\u001b[0m \u001b[0;32mnot\u001b[0m \u001b[0;32mNone\u001b[0m\u001b[0;34m:\u001b[0m\u001b[0;34m\u001b[0m\u001b[0;34m\u001b[0m\u001b[0m\n\u001b[1;32m    316\u001b[0m                 \u001b[0mfuture\u001b[0m \u001b[0;34m=\u001b[0m \u001b[0mgen\u001b[0m\u001b[0;34m.\u001b[0m\u001b[0mwith_timeout\u001b[0m\u001b[0;34m(\u001b[0m\u001b[0mtimedelta\u001b[0m\u001b[0;34m(\u001b[0m\u001b[0mseconds\u001b[0m\u001b[0;34m=\u001b[0m\u001b[0mcallback_timeout\u001b[0m\u001b[0;34m)\u001b[0m\u001b[0;34m,\u001b[0m \u001b[0mfuture\u001b[0m\u001b[0;34m)\u001b[0m\u001b[0;34m\u001b[0m\u001b[0;34m\u001b[0m\u001b[0m\n\u001b[0;32m--> 317\u001b[0;31m             \u001b[0mresult\u001b[0m\u001b[0;34m[\u001b[0m\u001b[0;36m0\u001b[0m\u001b[0;34m]\u001b[0m \u001b[0;34m=\u001b[0m \u001b[0;32myield\u001b[0m \u001b[0mfuture\u001b[0m\u001b[0;34m\u001b[0m\u001b[0;34m\u001b[0m\u001b[0m\n\u001b[0m\u001b[1;32m    318\u001b[0m         \u001b[0;32mexcept\u001b[0m \u001b[0mException\u001b[0m \u001b[0;32mas\u001b[0m \u001b[0mexc\u001b[0m\u001b[0;34m:\u001b[0m\u001b[0;34m\u001b[0m\u001b[0;34m\u001b[0m\u001b[0m\n\u001b[1;32m    319\u001b[0m             \u001b[0merror\u001b[0m\u001b[0;34m[\u001b[0m\u001b[0;36m0\u001b[0m\u001b[0;34m]\u001b[0m \u001b[0;34m=\u001b[0m \u001b[0msys\u001b[0m\u001b[0;34m.\u001b[0m\u001b[0mexc_info\u001b[0m\u001b[0;34m(\u001b[0m\u001b[0;34m)\u001b[0m\u001b[0;34m\u001b[0m\u001b[0;34m\u001b[0m\u001b[0m\n",
      "\u001b[0;32m~/miniconda3/envs/croco/lib/python3.7/site-packages/tornado/gen.py\u001b[0m in \u001b[0;36mrun\u001b[0;34m(self)\u001b[0m\n\u001b[1;32m    733\u001b[0m \u001b[0;34m\u001b[0m\u001b[0m\n\u001b[1;32m    734\u001b[0m                     \u001b[0;32mtry\u001b[0m\u001b[0;34m:\u001b[0m\u001b[0;34m\u001b[0m\u001b[0;34m\u001b[0m\u001b[0m\n\u001b[0;32m--> 735\u001b[0;31m                         \u001b[0mvalue\u001b[0m \u001b[0;34m=\u001b[0m \u001b[0mfuture\u001b[0m\u001b[0;34m.\u001b[0m\u001b[0mresult\u001b[0m\u001b[0;34m(\u001b[0m\u001b[0;34m)\u001b[0m\u001b[0;34m\u001b[0m\u001b[0;34m\u001b[0m\u001b[0m\n\u001b[0m\u001b[1;32m    736\u001b[0m                     \u001b[0;32mexcept\u001b[0m \u001b[0mException\u001b[0m\u001b[0;34m:\u001b[0m\u001b[0;34m\u001b[0m\u001b[0;34m\u001b[0m\u001b[0m\n\u001b[1;32m    737\u001b[0m                         \u001b[0mexc_info\u001b[0m \u001b[0;34m=\u001b[0m \u001b[0msys\u001b[0m\u001b[0;34m.\u001b[0m\u001b[0mexc_info\u001b[0m\u001b[0;34m(\u001b[0m\u001b[0;34m)\u001b[0m\u001b[0;34m\u001b[0m\u001b[0;34m\u001b[0m\u001b[0m\n",
      "\u001b[0;32m~/miniconda3/envs/croco/lib/python3.7/site-packages/distributed/client.py\u001b[0m in \u001b[0;36m_gather\u001b[0;34m(self, futures, errors, direct, local_worker)\u001b[0m\n\u001b[1;32m   1699\u001b[0m                             \u001b[0mexc\u001b[0m \u001b[0;34m=\u001b[0m \u001b[0mCancelledError\u001b[0m\u001b[0;34m(\u001b[0m\u001b[0mkey\u001b[0m\u001b[0;34m)\u001b[0m\u001b[0;34m\u001b[0m\u001b[0;34m\u001b[0m\u001b[0m\n\u001b[1;32m   1700\u001b[0m                         \u001b[0;32melse\u001b[0m\u001b[0;34m:\u001b[0m\u001b[0;34m\u001b[0m\u001b[0;34m\u001b[0m\u001b[0m\n\u001b[0;32m-> 1701\u001b[0;31m                             \u001b[0;32mraise\u001b[0m \u001b[0mexception\u001b[0m\u001b[0;34m.\u001b[0m\u001b[0mwith_traceback\u001b[0m\u001b[0;34m(\u001b[0m\u001b[0mtraceback\u001b[0m\u001b[0;34m)\u001b[0m\u001b[0;34m\u001b[0m\u001b[0;34m\u001b[0m\u001b[0m\n\u001b[0m\u001b[1;32m   1702\u001b[0m                         \u001b[0;32mraise\u001b[0m \u001b[0mexc\u001b[0m\u001b[0;34m\u001b[0m\u001b[0;34m\u001b[0m\u001b[0m\n\u001b[1;32m   1703\u001b[0m                     \u001b[0;32mif\u001b[0m \u001b[0merrors\u001b[0m \u001b[0;34m==\u001b[0m \u001b[0;34m\"skip\"\u001b[0m\u001b[0;34m:\u001b[0m\u001b[0;34m\u001b[0m\u001b[0;34m\u001b[0m\u001b[0m\n",
      "\u001b[0;31mKilledWorker\u001b[0m: (\"('from-delayed-pandas_read_text-read-block-assign-6912bd4bb8416d1c0e2f02ff9d5a7c55', 225)\", <Worker 'tcp://127.0.0.1:55662', memory: 0, processing: 349>)"
     ]
    }
   ],
   "source": [
    "dfi = df.compute().sort_values('id').set_index('id').loc[id0]"
   ]
  },
  {
   "cell_type": "code",
   "execution_count": 24,
   "metadata": {
    "collapsed": true,
    "jupyter": {
     "outputs_hidden": true,
     "source_hidden": true
    }
   },
   "outputs": [
    {
     "name": "stderr",
     "output_type": "stream",
     "text": [
      "/home1/datahome/zcaspar/miniconda3/envs/croco/lib/python3.7/site-packages/ipykernel_launcher.py:1: FutureWarning: \n",
      "Passing list-likes to .loc or [] with any missing label will raise\n",
      "KeyError in the future, you can use .reindex() as an alternative.\n",
      "\n",
      "See the documentation here:\n",
      "https://pandas.pydata.org/pandas-docs/stable/user_guide/indexing.html#deprecate-loc-reindex-listlike\n",
      "  \"\"\"Entry point for launching an IPython kernel.\n"
     ]
    }
   ],
   "source": [
    "dfi1 = df_pd1.sort_values('id').set_index('id').loc[id0]"
   ]
  },
  {
   "cell_type": "code",
   "execution_count": 17,
   "metadata": {
    "collapsed": true,
    "jupyter": {
     "outputs_hidden": true,
     "source_hidden": true
    }
   },
   "outputs": [
    {
     "name": "stderr",
     "output_type": "stream",
     "text": [
      "/home1/datahome/zcaspar/miniconda3/envs/croco/lib/python3.7/site-packages/ipykernel_launcher.py:1: FutureWarning: \n",
      "Passing list-likes to .loc or [] with any missing label will raise\n",
      "KeyError in the future, you can use .reindex() as an alternative.\n",
      "\n",
      "See the documentation here:\n",
      "https://pandas.pydata.org/pandas-docs/stable/user_guide/indexing.html#deprecate-loc-reindex-listlike\n",
      "  \"\"\"Entry point for launching an IPython kernel.\n"
     ]
    }
   ],
   "source": [
    "dfi2 = df_pd2.sort_values('id').set_index('id').loc[id0]"
   ]
  },
  {
   "cell_type": "code",
   "execution_count": 14,
   "metadata": {
    "collapsed": true,
    "jupyter": {
     "outputs_hidden": true,
     "source_hidden": true
    }
   },
   "outputs": [
    {
     "name": "stderr",
     "output_type": "stream",
     "text": [
      "/home1/datahome/zcaspar/miniconda3/envs/croco/lib/python3.7/site-packages/ipykernel_launcher.py:1: FutureWarning: \n",
      "Passing list-likes to .loc or [] with any missing label will raise\n",
      "KeyError in the future, you can use .reindex() as an alternative.\n",
      "\n",
      "See the documentation here:\n",
      "https://pandas.pydata.org/pandas-docs/stable/user_guide/indexing.html#deprecate-loc-reindex-listlike\n",
      "  \"\"\"Entry point for launching an IPython kernel.\n"
     ]
    }
   ],
   "source": [
    "dfi3 = df_pd3.sort_values('id').set_index('id').loc[id0]"
   ]
  },
  {
   "cell_type": "code",
   "execution_count": 38,
   "metadata": {
    "collapsed": true,
    "jupyter": {
     "outputs_hidden": true,
     "source_hidden": true
    }
   },
   "outputs": [
    {
     "name": "stderr",
     "output_type": "stream",
     "text": [
      "/home1/datahome/zcaspar/miniconda3/envs/croco/lib/python3.7/site-packages/ipykernel_launcher.py:1: FutureWarning: \n",
      "Passing list-likes to .loc or [] with any missing label will raise\n",
      "KeyError in the future, you can use .reindex() as an alternative.\n",
      "\n",
      "See the documentation here:\n",
      "https://pandas.pydata.org/pandas-docs/stable/user_guide/indexing.html#deprecate-loc-reindex-listlike\n",
      "  \"\"\"Entry point for launching an IPython kernel.\n"
     ]
    }
   ],
   "source": [
    "dfi4 = df_pd4.sort_values('id').set_index('id').loc[id0]"
   ]
  },
  {
   "cell_type": "code",
   "execution_count": 20,
   "metadata": {},
   "outputs": [],
   "source": [
    "Y0 = dfi[dfi.time==1501].ygrid\n"
   ]
  },
  {
   "cell_type": "code",
   "execution_count": 160,
   "metadata": {},
   "outputs": [],
   "source": [
    "test = dfi[dfi.time==1501].assign(y_0=Y0)"
   ]
  },
  {
   "cell_type": "code",
   "execution_count": 161,
   "metadata": {},
   "outputs": [
    {
     "data": {
      "text/html": [
       "<div>\n",
       "<style scoped>\n",
       "    .dataframe tbody tr th:only-of-type {\n",
       "        vertical-align: middle;\n",
       "    }\n",
       "\n",
       "    .dataframe tbody tr th {\n",
       "        vertical-align: top;\n",
       "    }\n",
       "\n",
       "    .dataframe thead th {\n",
       "        text-align: right;\n",
       "    }\n",
       "</style>\n",
       "<table border=\"1\" class=\"dataframe\">\n",
       "  <thead>\n",
       "    <tr style=\"text-align: right;\">\n",
       "      <th></th>\n",
       "      <th>time</th>\n",
       "      <th>xgrid</th>\n",
       "      <th>ygrid</th>\n",
       "      <th>zgrid</th>\n",
       "      <th>depth</th>\n",
       "      <th>temp</th>\n",
       "      <th>X1</th>\n",
       "      <th>X2</th>\n",
       "      <th>X3</th>\n",
       "      <th>X4</th>\n",
       "      <th>X5</th>\n",
       "      <th>y_0</th>\n",
       "    </tr>\n",
       "    <tr>\n",
       "      <th>id</th>\n",
       "      <th></th>\n",
       "      <th></th>\n",
       "      <th></th>\n",
       "      <th></th>\n",
       "      <th></th>\n",
       "      <th></th>\n",
       "      <th></th>\n",
       "      <th></th>\n",
       "      <th></th>\n",
       "      <th></th>\n",
       "      <th></th>\n",
       "      <th></th>\n",
       "    </tr>\n",
       "  </thead>\n",
       "  <tbody>\n",
       "    <tr>\n",
       "      <th>1</th>\n",
       "      <td>1501.0</td>\n",
       "      <td>15.002721</td>\n",
       "      <td>152.06570</td>\n",
       "      <td>50.0</td>\n",
       "      <td>0.553202</td>\n",
       "      <td>24.579828</td>\n",
       "      <td>0.093296</td>\n",
       "      <td>0.078887</td>\n",
       "      <td>-2.843551e-08</td>\n",
       "      <td>1.364204e-07</td>\n",
       "      <td>6.302027</td>\n",
       "      <td>152.06570</td>\n",
       "    </tr>\n",
       "    <tr>\n",
       "      <th>31</th>\n",
       "      <td>1501.0</td>\n",
       "      <td>14.957614</td>\n",
       "      <td>196.07894</td>\n",
       "      <td>50.0</td>\n",
       "      <td>0.398125</td>\n",
       "      <td>24.583169</td>\n",
       "      <td>0.094882</td>\n",
       "      <td>0.036101</td>\n",
       "      <td>4.242617e-08</td>\n",
       "      <td>3.107780e-07</td>\n",
       "      <td>4.780808</td>\n",
       "      <td>196.07894</td>\n",
       "    </tr>\n",
       "    <tr>\n",
       "      <th>61</th>\n",
       "      <td>1501.0</td>\n",
       "      <td>13.108027</td>\n",
       "      <td>237.26999</td>\n",
       "      <td>50.0</td>\n",
       "      <td>0.219845</td>\n",
       "      <td>24.714261</td>\n",
       "      <td>0.035972</td>\n",
       "      <td>-0.147643</td>\n",
       "      <td>-4.785455e-07</td>\n",
       "      <td>7.520620e-07</td>\n",
       "      <td>3.036488</td>\n",
       "      <td>237.26999</td>\n",
       "    </tr>\n",
       "    <tr>\n",
       "      <th>91</th>\n",
       "      <td>1501.0</td>\n",
       "      <td>9.282737</td>\n",
       "      <td>283.09136</td>\n",
       "      <td>50.0</td>\n",
       "      <td>0.469308</td>\n",
       "      <td>24.665004</td>\n",
       "      <td>-0.158569</td>\n",
       "      <td>-0.126536</td>\n",
       "      <td>-6.124482e-08</td>\n",
       "      <td>-1.915536e-07</td>\n",
       "      <td>5.481979</td>\n",
       "      <td>283.09136</td>\n",
       "    </tr>\n",
       "    <tr>\n",
       "      <th>121</th>\n",
       "      <td>1501.0</td>\n",
       "      <td>23.169503</td>\n",
       "      <td>337.46731</td>\n",
       "      <td>50.0</td>\n",
       "      <td>0.428183</td>\n",
       "      <td>24.749128</td>\n",
       "      <td>0.504061</td>\n",
       "      <td>0.370894</td>\n",
       "      <td>-2.480141e-07</td>\n",
       "      <td>-1.950424e-07</td>\n",
       "      <td>5.081526</td>\n",
       "      <td>337.46731</td>\n",
       "    </tr>\n",
       "    <tr>\n",
       "      <th>...</th>\n",
       "      <td>...</td>\n",
       "      <td>...</td>\n",
       "      <td>...</td>\n",
       "      <td>...</td>\n",
       "      <td>...</td>\n",
       "      <td>...</td>\n",
       "      <td>...</td>\n",
       "      <td>...</td>\n",
       "      <td>...</td>\n",
       "      <td>...</td>\n",
       "      <td>...</td>\n",
       "      <td>...</td>\n",
       "    </tr>\n",
       "    <tr>\n",
       "      <th>8851</th>\n",
       "      <td>1501.0</td>\n",
       "      <td>1.898898</td>\n",
       "      <td>371.31634</td>\n",
       "      <td>50.0</td>\n",
       "      <td>-0.599193</td>\n",
       "      <td>25.410876</td>\n",
       "      <td>0.627327</td>\n",
       "      <td>-0.197452</td>\n",
       "      <td>-8.727107e-08</td>\n",
       "      <td>1.496200e-06</td>\n",
       "      <td>-4.974289</td>\n",
       "      <td>371.31634</td>\n",
       "    </tr>\n",
       "    <tr>\n",
       "      <th>8881</th>\n",
       "      <td>1501.0</td>\n",
       "      <td>241.537570</td>\n",
       "      <td>422.92989</td>\n",
       "      <td>50.0</td>\n",
       "      <td>-0.721126</td>\n",
       "      <td>25.811939</td>\n",
       "      <td>-0.138308</td>\n",
       "      <td>0.067068</td>\n",
       "      <td>4.032240e-07</td>\n",
       "      <td>-1.215838e-07</td>\n",
       "      <td>-6.155494</td>\n",
       "      <td>422.92989</td>\n",
       "    </tr>\n",
       "    <tr>\n",
       "      <th>8911</th>\n",
       "      <td>1501.0</td>\n",
       "      <td>248.017280</td>\n",
       "      <td>465.64265</td>\n",
       "      <td>50.0</td>\n",
       "      <td>-0.614214</td>\n",
       "      <td>25.540927</td>\n",
       "      <td>0.158827</td>\n",
       "      <td>-0.029749</td>\n",
       "      <td>-9.065893e-07</td>\n",
       "      <td>1.357674e-07</td>\n",
       "      <td>-5.117010</td>\n",
       "      <td>465.64265</td>\n",
       "    </tr>\n",
       "    <tr>\n",
       "      <th>8941</th>\n",
       "      <td>1501.0</td>\n",
       "      <td>245.872750</td>\n",
       "      <td>513.19526</td>\n",
       "      <td>50.0</td>\n",
       "      <td>-0.850972</td>\n",
       "      <td>25.895499</td>\n",
       "      <td>0.067770</td>\n",
       "      <td>0.082455</td>\n",
       "      <td>-1.692315e-07</td>\n",
       "      <td>2.573615e-07</td>\n",
       "      <td>-7.426339</td>\n",
       "      <td>513.19526</td>\n",
       "    </tr>\n",
       "    <tr>\n",
       "      <th>8971</th>\n",
       "      <td>1501.0</td>\n",
       "      <td>242.656800</td>\n",
       "      <td>559.67023</td>\n",
       "      <td>50.0</td>\n",
       "      <td>-0.846137</td>\n",
       "      <td>25.886039</td>\n",
       "      <td>-0.077285</td>\n",
       "      <td>0.138227</td>\n",
       "      <td>-1.111155e-07</td>\n",
       "      <td>1.764453e-07</td>\n",
       "      <td>-7.379262</td>\n",
       "      <td>559.67023</td>\n",
       "    </tr>\n",
       "  </tbody>\n",
       "</table>\n",
       "<p>300 rows × 12 columns</p>\n",
       "</div>"
      ],
      "text/plain": [
       "        time       xgrid      ygrid  zgrid     depth       temp        X1  \\\n",
       "id                                                                          \n",
       "1     1501.0   15.002721  152.06570   50.0  0.553202  24.579828  0.093296   \n",
       "31    1501.0   14.957614  196.07894   50.0  0.398125  24.583169  0.094882   \n",
       "61    1501.0   13.108027  237.26999   50.0  0.219845  24.714261  0.035972   \n",
       "91    1501.0    9.282737  283.09136   50.0  0.469308  24.665004 -0.158569   \n",
       "121   1501.0   23.169503  337.46731   50.0  0.428183  24.749128  0.504061   \n",
       "...      ...         ...        ...    ...       ...        ...       ...   \n",
       "8851  1501.0    1.898898  371.31634   50.0 -0.599193  25.410876  0.627327   \n",
       "8881  1501.0  241.537570  422.92989   50.0 -0.721126  25.811939 -0.138308   \n",
       "8911  1501.0  248.017280  465.64265   50.0 -0.614214  25.540927  0.158827   \n",
       "8941  1501.0  245.872750  513.19526   50.0 -0.850972  25.895499  0.067770   \n",
       "8971  1501.0  242.656800  559.67023   50.0 -0.846137  25.886039 -0.077285   \n",
       "\n",
       "            X2            X3            X4        X5        y_0  \n",
       "id                                                               \n",
       "1     0.078887 -2.843551e-08  1.364204e-07  6.302027  152.06570  \n",
       "31    0.036101  4.242617e-08  3.107780e-07  4.780808  196.07894  \n",
       "61   -0.147643 -4.785455e-07  7.520620e-07  3.036488  237.26999  \n",
       "91   -0.126536 -6.124482e-08 -1.915536e-07  5.481979  283.09136  \n",
       "121   0.370894 -2.480141e-07 -1.950424e-07  5.081526  337.46731  \n",
       "...        ...           ...           ...       ...        ...  \n",
       "8851 -0.197452 -8.727107e-08  1.496200e-06 -4.974289  371.31634  \n",
       "8881  0.067068  4.032240e-07 -1.215838e-07 -6.155494  422.92989  \n",
       "8911 -0.029749 -9.065893e-07  1.357674e-07 -5.117010  465.64265  \n",
       "8941  0.082455 -1.692315e-07  2.573615e-07 -7.426339  513.19526  \n",
       "8971  0.138227 -1.111155e-07  1.764453e-07 -7.379262  559.67023  \n",
       "\n",
       "[300 rows x 12 columns]"
      ]
     },
     "execution_count": 161,
     "metadata": {},
     "output_type": "execute_result"
    }
   ],
   "source": [
    "test"
   ]
  },
  {
   "cell_type": "code",
   "execution_count": 26,
   "metadata": {},
   "outputs": [],
   "source": [
    "idn = np.where(id0.isin(dfi[dfi.time==1600].index)==True)[0]"
   ]
  },
  {
   "cell_type": "code",
   "execution_count": 22,
   "metadata": {},
   "outputs": [
    {
     "data": {
      "text/plain": [
       "289"
      ]
     },
     "execution_count": 22,
     "metadata": {},
     "output_type": "execute_result"
    }
   ],
   "source": [
    "Y0[Y0.index.isin(id0[idn])].size"
   ]
  },
  {
   "cell_type": "code",
   "execution_count": 28,
   "metadata": {},
   "outputs": [],
   "source": [
    "I = np.arange(1501,1511,1)    "
   ]
  },
  {
   "cell_type": "code",
   "execution_count": 27,
   "metadata": {},
   "outputs": [
    {
     "data": {
      "text/plain": [
       "id\n",
       "1       152.06570\n",
       "31      196.07894\n",
       "61      237.26999\n",
       "91      283.09136\n",
       "121     337.46731\n",
       "          ...    \n",
       "8851    371.31634\n",
       "8881    422.92989\n",
       "8911    465.64265\n",
       "8941    513.19526\n",
       "8971    559.67023\n",
       "Name: ygrid, Length: 300, dtype: float64"
      ]
     },
     "execution_count": 27,
     "metadata": {},
     "output_type": "execute_result"
    }
   ],
   "source": [
    "Y0.loc[id0]"
   ]
  },
  {
   "cell_type": "code",
   "execution_count": 25,
   "metadata": {},
   "outputs": [],
   "source": [
    "figdir='/home1/datahome/zcaspar/figs/'\n",
    "for i in I:\n",
    "    figname = figdir+'flt_t%05d'%i + '.png'\n",
    "    dft = dfi[dfi.time==i]\n",
    "    #dft = dft.assign(y0 = Y0)\n",
    "    non_id = np.where(id0.isin(dft.index)==True)[0]\n",
    "    #dfg = dft[dft.index.isin(id0[idn])]\n",
    "    fig,ax = plt.subplots(figsize=(10,10))\n",
    "    #if non_id.size==0:\n",
    "    cs = ax.scatter(dft.xgrid,dft.ygrid,c=Y0[Y0.index.isin(id0[non_id])],cmap='jet')\n",
    "    #if non_id.size!=0:\n",
    "    #    cs = ax.scatter(dft[dfi.index!=id0[non_id]].xgrid,dfi[dfi.time==i & dfi.index!=id0[non_id]].ygrid\n",
    "    #                    ,c=Y0[dfi.index!=id0[non_id]],cmap='jet')\n",
    "    ax.set_aspect('equal')\n",
    "    ax.set_xlabel('x'),ax.set_ylabel('y')\n",
    "    fig.colorbar(cs,label='Latitude at t0 = 1501days')\n",
    "    ax.set_title(r'$Time\\simeq%s$days'%int(i))\n",
    "    ax.set_ylim(100,650);ax.set_xlim(0,260)\n",
    "    fig.savefig(figname)\n",
    "    plt.close()"
   ]
  },
  {
   "cell_type": "code",
   "execution_count": 29,
   "metadata": {},
   "outputs": [],
   "source": [
    "I = np.arange(1601,1701,1)    "
   ]
  },
  {
   "cell_type": "code",
   "execution_count": 15,
   "metadata": {},
   "outputs": [],
   "source": [
    "gparams = {'f0': 1.0313e-4, 'beta': 1.6186e-11}\n",
    "r = pp.CROCOrun(root_path+run, prefix='file_', open_nc=['surf'], \n",
    "                chunk_time={'his': 1, 'surf': 1}, grid_params=gparams)"
   ]
  },
  {
   "cell_type": "code",
   "execution_count": 16,
   "metadata": {},
   "outputs": [],
   "source": [
    "ds = r['surf']"
   ]
  },
  {
   "cell_type": "code",
   "execution_count": 17,
   "metadata": {},
   "outputs": [],
   "source": [
    "ds = ds.assign_coords(time=ds.time_counter)"
   ]
  },
  {
   "cell_type": "code",
   "execution_count": 33,
   "metadata": {},
   "outputs": [
    {
     "data": {
      "text/plain": [
       "<xarray.DataArray 'time' (time: 72000)>\n",
       "array([1500.003472, 1500.010417, 1500.017361, ..., 1999.982639, 1999.989583,\n",
       "       1999.996528])\n",
       "Coordinates:\n",
       "    time_instant  (time) float64 dask.array<chunksize=(1,), meta=np.ndarray>\n",
       "    time_counter  (time) float64 1.5e+03 1.5e+03 1.5e+03 ... 2e+03 2e+03 2e+03\n",
       "  * time          (time) float64 1.5e+03 1.5e+03 1.5e+03 ... 2e+03 2e+03 2e+03"
      ]
     },
     "execution_count": 33,
     "metadata": {},
     "output_type": "execute_result"
    }
   ],
   "source": [
    "ds.time"
   ]
  },
  {
   "cell_type": "code",
   "execution_count": 18,
   "metadata": {},
   "outputs": [],
   "source": [
    "figdir='/home1/scratch/zcaspar/figs/'"
   ]
  },
  {
   "cell_type": "code",
   "execution_count": 67,
   "metadata": {},
   "outputs": [],
   "source": [
    "I = np.arange(1501,1601,1)\n",
    "for i in I:\n",
    "    figname = figdir+'fltu_t%05d'%i + '.png'\n",
    "    dft = dfi[dfi.time==i]\n",
    "    #dft = dft.assign(y0 = Y0)\n",
    "    non_id = np.where(id0.isin(dft.index)==True)[0]\n",
    "    #dfg = dft[dft.index.isin(id0[idn])]\n",
    "    fig,ax = plt.subplots(figsize=(10,10))\n",
    "    #if non_id.size==0:\n",
    "    ds.u.sel(time=i,s_rho_slice0=0,method='nearest').plot(ax=ax)\n",
    "    cs = ax.scatter(dft.xgrid,dft.ygrid,c=Y0[Y0.index.isin(id0[non_id])],cmap='jet')\n",
    "    #if non_id.size!=0:\n",
    "    #    cs = ax.scatter(dft[dfi.index!=id0[non_id]].xgrid,dfi[dfi.time==i & dfi.index!=id0[non_id]].ygrid\n",
    "    #                    ,c=Y0[dfi.index!=id0[non_id]],cmap='jet')\n",
    "    \n",
    "    ax.set_aspect('equal')\n",
    "    ax.set_xlabel('x'),ax.set_ylabel('y')\n",
    "    fig.colorbar(cs,label='Latitude at t0 = 1501days')\n",
    "    ax.set_title(r'$Time\\simeq%s$days'%int(i))\n",
    "    #ax.set_ylim(100,650);ax.set_xlim(0,260)\n",
    "    fig.savefig(figname)\n",
    "    plt.close()"
   ]
  },
  {
   "cell_type": "code",
   "execution_count": 36,
   "metadata": {},
   "outputs": [],
   "source": [
    "I1 = np.arange(1601,1701,1)\n",
    "for i in I1:\n",
    "    figname = figdir+'fltu_t%05d'%i + '.png'\n",
    "    dft = dfi1[dfi1.time==i]\n",
    "    #dft = dft.assign(y0 = Y0)\n",
    "    non_id = np.where(id0.isin(dft.index)==True)[0]\n",
    "    #dfg = dft[dft.index.isin(id0[idn])]\n",
    "    fig,ax = plt.subplots(figsize=(10,10))\n",
    "    #if non_id.size==0:\n",
    "    ds.u.sel(time=i,s_rho_slice0=0,method='nearest').plot(ax=ax)\n",
    "    cs = ax.scatter(dft.xgrid,dft.ygrid,c=Y0[Y0.index.isin(id0[non_id])],cmap='jet')\n",
    "    #if non_id.size!=0:\n",
    "    #    cs = ax.scatter(dft[dfi.index!=id0[non_id]].xgrid,dfi[dfi.time==i & dfi.index!=id0[non_id]].ygrid\n",
    "    #                    ,c=Y0[dfi.index!=id0[non_id]],cmap='jet')\n",
    "    \n",
    "    ax.set_aspect('equal')\n",
    "    ax.set_xlabel('x'),ax.set_ylabel('y')\n",
    "    fig.colorbar(cs,label='Latitude at t0 = 1501days')\n",
    "    ax.set_title(r'$Time\\simeq%s$days'%int(i))\n",
    "    #ax.set_ylim(100,650);ax.set_xlim(0,260)\n",
    "    fig.savefig(figname)\n",
    "    plt.close()"
   ]
  },
  {
   "cell_type": "code",
   "execution_count": 60,
   "metadata": {},
   "outputs": [],
   "source": [
    "I2 = np.arange(1701,1801,1)\n",
    "for i in I2:\n",
    "    figname = figdir+'fltu_t%05d'%i + '.png'\n",
    "    dft = dfi2[dfi2.time==i]\n",
    "    #dft = dft.assign(y0 = Y0)\n",
    "    non_id = np.where(id0.isin(dft.index)==True)[0]\n",
    "    #dfg = dft[dft.index.isin(id0[idn])]\n",
    "    fig,ax = plt.subplots(figsize=(10,10))\n",
    "    #if non_id.size==0:\n",
    "    ds.u.sel(time=i,s_rho_slice0=0,method='nearest').plot(ax=ax)\n",
    "    cs = ax.scatter(dft.xgrid.unique(),dft.ygrid.unique(),c=Y0[Y0.index.isin(id0[non_id])],cmap='jet')\n",
    "    #if non_id.size!=0:\n",
    "    #    cs = ax.scatter(dft[dfi.index!=id0[non_id]].xgrid,dfi[dfi.time==i & dfi.index!=id0[non_id]].ygrid\n",
    "    #                    ,c=Y0[dfi.index!=id0[non_id]],cmap='jet')\n",
    "    \n",
    "    ax.set_aspect('equal')\n",
    "    ax.set_xlabel('x'),ax.set_ylabel('y')\n",
    "    fig.colorbar(cs,label='Latitude at t0 = 1501days')\n",
    "    ax.set_title(r'$Time\\simeq%s$days'%int(i))\n",
    "    #ax.set_ylim(100,650);ax.set_xlim(0,260)\n",
    "    fig.savefig(figname)\n",
    "    plt.close()"
   ]
  },
  {
   "cell_type": "code",
   "execution_count": 28,
   "metadata": {},
   "outputs": [],
   "source": [
    "I3 = np.arange(1801,1901,1)\n",
    "for i in I3:\n",
    "    figname = figdir+'fltu_t%05d'%i + '.png'\n",
    "    dft = dfi3[dfi3.time==i]\n",
    "    #dft = dft.assign(y0 = Y0)\n",
    "    non_id = np.where(id0.isin(dft.index)==True)[0]\n",
    "    #dfg = dft[dft.index.isin(id0[idn])]\n",
    "    fig,ax = plt.subplots(figsize=(10,10))\n",
    "    #if non_id.size==0:\n",
    "    ds.u.sel(time=i,s_rho_slice0=0,method='nearest').plot(ax=ax)\n",
    "    cs = ax.scatter(dft.xgrid,dft.ygrid,c=Y0[Y0.index.isin(id0[non_id])],cmap='jet')\n",
    "    #if non_id.size!=0:\n",
    "    #    cs = ax.scatter(dft[dfi.index!=id0[non_id]].xgrid,dfi[dfi.time==i & dfi.index!=id0[non_id]].ygrid\n",
    "    #                    ,c=Y0[dfi.index!=id0[non_id]],cmap='jet')\n",
    "    \n",
    "    ax.set_aspect('equal')\n",
    "    ax.set_xlabel('x'),ax.set_ylabel('y')\n",
    "    fig.colorbar(cs,label='Latitude at t0 = 1501days')\n",
    "    ax.set_title(r'$Time\\simeq%s$days'%int(i))\n",
    "    #ax.set_ylim(100,650);ax.set_xlim(0,260)\n",
    "    fig.savefig(figname)\n",
    "    plt.close()"
   ]
  },
  {
   "cell_type": "code",
   "execution_count": 39,
   "metadata": {},
   "outputs": [],
   "source": [
    "I4 = np.arange(1901,2001,1)\n",
    "for i in I4:\n",
    "    figname = figdir+'fltu_t%05d'%i + '.png'\n",
    "    dft = dfi4[dfi4.time==i]\n",
    "    #dft = dft.assign(y0 = Y0)\n",
    "    non_id = np.where(id0.isin(dft.index)==True)[0]\n",
    "    #dfg = dft[dft.index.isin(id0[idn])]\n",
    "    fig,ax = plt.subplots(figsize=(10,10))\n",
    "    #if non_id.size==0:\n",
    "    ds.u.sel(time=i,s_rho_slice0=0,method='nearest').plot(ax=ax)\n",
    "    cs = ax.scatter(dft.xgrid,dft.ygrid,c=Y0[Y0.index.isin(id0[non_id])],cmap='jet')\n",
    "    #if non_id.size!=0:\n",
    "    #    cs = ax.scatter(dft[dfi.index!=id0[non_id]].xgrid,dfi[dfi.time==i & dfi.index!=id0[non_id]].ygrid\n",
    "    #                    ,c=Y0[dfi.index!=id0[non_id]],cmap='jet')\n",
    "    \n",
    "    ax.set_aspect('equal')\n",
    "    ax.set_xlabel('x'),ax.set_ylabel('y')\n",
    "    fig.colorbar(cs,label='Latitude at t0 = 1501days')\n",
    "    ax.set_title(r'$Time\\simeq%s$days'%int(i))\n",
    "    #ax.set_ylim(100,650);ax.set_xlim(0,260)\n",
    "    fig.savefig(figname)\n",
    "    plt.close()"
   ]
  },
  {
   "cell_type": "code",
   "execution_count": 27,
   "metadata": {},
   "outputs": [
    {
     "data": {
      "text/plain": [
       "id\n",
       "31      271.03992\n",
       "61      278.78334\n",
       "91      345.43230\n",
       "121     433.83838\n",
       "151     350.84766\n",
       "          ...    \n",
       "6961    248.01612\n",
       "6991    262.22078\n",
       "7021    274.13900\n",
       "7051    336.07341\n",
       "7081    394.29832\n",
       "Name: ygrid, Length: 208, dtype: float64"
      ]
     },
     "execution_count": 27,
     "metadata": {},
     "output_type": "execute_result"
    }
   ],
   "source": [
    "dfi3[dfi3.time==i].ygrid"
   ]
  },
  {
   "cell_type": "code",
   "execution_count": 59,
   "metadata": {},
   "outputs": [
    {
     "data": {
      "text/plain": [
       "array([242.70937  ,  75.926307 , 111.57082  ,  34.391586 ,  56.757206 ,\n",
       "       158.8687   ,  45.505254 , 115.24501  , 193.81227  ,  56.89202  ,\n",
       "       222.91463  , 132.23475  , 169.43631  ,  43.784933 , 244.12688  ,\n",
       "        98.111482 , 219.52173  , 127.41063  , 227.59795  ,  64.611083 ,\n",
       "       217.27503  , 201.57941  ,  46.376291 , 225.53481  ,  42.668183 ,\n",
       "         7.5234088, 175.25203  , 126.30858  , 176.22114  ,  66.682129 ,\n",
       "        60.861824 ,  51.613348 ,  36.258685 ,  18.56212  , 183.03484  ,\n",
       "       109.0285   , 133.25031  , 146.88342  , 139.1722   ,  66.485012 ,\n",
       "        80.59636  ,   5.760068 , 244.75576  ,  85.822965 ,  91.132855 ,\n",
       "        25.571268 , 208.83771  , 136.48103  ,  68.58873  , 147.24102  ,\n",
       "        36.830367 , 238.12297  ,  60.341118 , 166.82618  ,  63.3377   ,\n",
       "        37.268722 , 200.22615  , 175.21394  ,  75.153726 , 143.06964  ,\n",
       "       191.81201  ,  26.475317 , 171.2219   ,  17.835407 ,  35.295394 ,\n",
       "        25.640828 , 148.64589  , 155.16563  ,  84.5351   , 147.9195   ,\n",
       "        12.673985 ,  79.591497 , 185.93896  , 245.55327  ,  70.113532 ,\n",
       "       192.34713  , 150.83553  ,  96.725653 ,  43.708562 ,  37.832352 ,\n",
       "        14.549696 , 227.97821  , 248.71498  ,  55.195872 , 131.07199  ,\n",
       "       223.72664  , 251.31285  , 108.11909  ,   7.4900724, 151.1636   ,\n",
       "       218.7022   , 181.84976  ,  45.38187  ,  78.117719 , 164.05616  ,\n",
       "       197.19121  , 125.56197  , 118.54012  ,  61.420782 , 168.55937  ,\n",
       "         6.4080633, 212.59767  ,  28.441822 , 191.14127  , 219.78363  ,\n",
       "       148.98183  , 128.06595  ,  88.825811 , 210.91365  , 238.88222  ,\n",
       "       212.68095  ,  76.34266  , 112.28658  , 253.31111  , 175.53627  ,\n",
       "       131.22164  ,  94.212312 ,  80.881393 ,  35.093784 , 179.19394  ,\n",
       "       189.84493  ,  17.36841  , 223.88991  , 207.40796  , 130.33171  ,\n",
       "        99.578341 , 232.95644  , 192.08776  , 109.92534  ,   8.1820809,\n",
       "       220.05083  ,   5.6702813, 232.36379  , 135.82962  , 108.45611  ,\n",
       "       127.31217  , 153.73604  ,  21.708379 , 160.00374  ,  24.890845 ,\n",
       "       142.34957  , 116.31877  , 169.84209  ,   3.3490778,  57.290343 ,\n",
       "        74.671231 , 178.61907  ,  23.241206 ,  70.16471  , 151.18595  ,\n",
       "       123.67333  ,  42.567673 , 152.87919  ,  98.750089 ,  68.226737 ,\n",
       "       154.95119  ,   2.4753686, 201.85182  , 160.97782  , 128.06478  ,\n",
       "        31.543223 , 205.73637  ,  38.239585 ,  70.940369 , 161.81046  ,\n",
       "       132.91002  ,  72.193866 , 171.59476  , 131.28622  ,  30.156577 ,\n",
       "        33.81813  , 233.63231  , 250.96034  , 255.15282  ,  89.144191 ,\n",
       "       183.20948  , 137.07578  ,  40.155682 ,  34.754765 ,  10.062302 ,\n",
       "       203.55995  , 153.67035  , 105.89     ,  37.42043  ,  10.828285 ,\n",
       "       193.91334  , 201.16965  ,  43.543476 ,  33.430014 , 240.63602  ,\n",
       "       186.22349  , 235.79675  ,  81.928176 , 204.34432  , 193.92594  ,\n",
       "       155.16202  , 190.90691  , 136.67994  ,  14.446823 , 115.6025   ,\n",
       "       187.68194  , 199.1601   , 215.89     , 240.54201  , 158.56599  ,\n",
       "       127.49069  , 224.1983   , 255.84597  , 114.11462  , 221.23146  ,\n",
       "        19.458616 , 227.24689  ,  21.146823 ,  66.294326 , 153.53497  ,\n",
       "        84.500013 ,  51.297231 , 161.8395   , 160.4116   , 200.37513  ,\n",
       "        51.520709 , 239.02856  ,  71.440878 ,  30.955383 , 153.76787  ,\n",
       "        50.414935 ,  71.818127 ,  24.889848 , 164.11699  , 178.26016  ,\n",
       "         8.2249594, 248.04054  , 180.65183  , 167.71162  ,  22.80327  ,\n",
       "         8.3372756, 180.06822  , 167.44442  , 111.17172  , 161.80979  ,\n",
       "         1.5389218,  85.382146 ,  40.593595 , 173.50385  , 178.76118  ,\n",
       "       179.90736  ])"
      ]
     },
     "execution_count": 59,
     "metadata": {},
     "output_type": "execute_result"
    }
   ],
   "source": [
    "#dfi2[dfi2.time==i]\n",
    "Y0[Y0.index.isin(id0[non_id])].index\n",
    "#id0\n",
    "dfi2[dfi2.time==i].xgrid.unique()#[dfi2[dfi2.time==i].index.unique()]#.index.unique()#[dfi2[dfi2.time==i].index.isin(id0[non_id])]\n"
   ]
  },
  {
   "cell_type": "code",
   "execution_count": 43,
   "metadata": {},
   "outputs": [
    {
     "data": {
      "text/plain": [
       "Int64Index([  31,   61,   91,  121,  151,  181,  211,  241,  271,  301,\n",
       "            ...\n",
       "            7651, 7711, 7741, 7771, 7801, 7831, 7861, 7891, 7921, 7951],\n",
       "           dtype='int64', name='id', length=246)"
      ]
     },
     "execution_count": 43,
     "metadata": {},
     "output_type": "execute_result"
    }
   ],
   "source": []
  },
  {
   "cell_type": "code",
   "execution_count": 40,
   "metadata": {
    "collapsed": true,
    "jupyter": {
     "outputs_hidden": true
    }
   },
   "outputs": [
    {
     "name": "stderr",
     "output_type": "stream",
     "text": [
      "distributed.client - ERROR - Failed to reconnect to scheduler after 10.00 seconds, closing client\n",
      "distributed.utils - ERROR - \n",
      "Traceback (most recent call last):\n",
      "  File \"/home1/datahome/zcaspar/miniconda3/envs/croco/lib/python3.7/site-packages/distributed/utils.py\", line 662, in log_errors\n",
      "    yield\n",
      "  File \"/home1/datahome/zcaspar/miniconda3/envs/croco/lib/python3.7/site-packages/distributed/client.py\", line 1290, in _close\n",
      "    await gen.with_timeout(timedelta(seconds=2), list(coroutines))\n",
      "concurrent.futures._base.CancelledError\n",
      "distributed.utils - ERROR - \n",
      "Traceback (most recent call last):\n",
      "  File \"/home1/datahome/zcaspar/miniconda3/envs/croco/lib/python3.7/site-packages/distributed/utils.py\", line 662, in log_errors\n",
      "    yield\n",
      "  File \"/home1/datahome/zcaspar/miniconda3/envs/croco/lib/python3.7/site-packages/distributed/client.py\", line 1019, in _reconnect\n",
      "    await self._close()\n",
      "  File \"/home1/datahome/zcaspar/miniconda3/envs/croco/lib/python3.7/site-packages/distributed/client.py\", line 1290, in _close\n",
      "    await gen.with_timeout(timedelta(seconds=2), list(coroutines))\n",
      "concurrent.futures._base.CancelledError\n"
     ]
    }
   ],
   "source": [
    "cluster.close()"
   ]
  },
  {
   "cell_type": "code",
   "execution_count": null,
   "metadata": {},
   "outputs": [],
   "source": []
  }
 ],
 "metadata": {
  "kernelspec": {
   "display_name": "Python 3",
   "language": "python",
   "name": "python3"
  },
  "language_info": {
   "codemirror_mode": {
    "name": "ipython",
    "version": 3
   },
   "file_extension": ".py",
   "mimetype": "text/x-python",
   "name": "python",
   "nbconvert_exporter": "python",
   "pygments_lexer": "ipython3",
   "version": "3.7.3"
  }
 },
 "nbformat": 4,
 "nbformat_minor": 4
}
