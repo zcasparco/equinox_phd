{
 "cells": [
  {
   "cell_type": "code",
   "execution_count": null,
   "id": "555639c3",
   "metadata": {},
   "outputs": [],
   "source": [
    "import numpy as np\n",
    "import geopandas as gpd\n",
    "\n",
    "\n",
    "import xarray as xr\n",
    "from matplotlib import pyplot as plt\n",
    "%matplotlib inline\n",
    "\n",
    "from xhistogram.xarray import histogram\n",
    "import dask.dataframe as dd\n",
    "import cartopy.crs as ccrs\n",
    "import cartopy.feature as cfeature\n",
    "\n",
    "import mitequinox.utils as ut\n",
    "from mitequinox.plot import *\n",
    "import mitequinox.parcels as pa\n",
    "from xmitgcm import llcreader\n",
    "\n",
    "from fsspec.implementations.local import LocalFileSystem"
   ]
  },
  {
   "cell_type": "code",
   "execution_count": null,
   "id": "8c2ec283",
   "metadata": {},
   "outputs": [],
   "source": [
    "from dask.distributed import Client, LocalCluster\n",
    "#\n",
    "cluster = LocalCluster()\n",
    "#\n",
    "#from dask_jobqueue import PBSCluster\n",
    "#cluster = PBSCluster() #\n",
    "#w = cluster.scale(jobs=2\n",
    "#                )\n",
    "#\n",
    "client = Client(cluster)"
   ]
  },
  {
   "cell_type": "code",
   "execution_count": null,
   "id": "d28b08b1",
   "metadata": {},
   "outputs": [],
   "source": [
    "#Eulerian dataset\n",
    "\n",
    "ds_hf = xr.open_zarr(ut.work_data_dir+'filtered_itide/SSU_bandpassed_filtered.zarr') #filtered dataset\n",
    "#grid = xr.open_zarr(ut.work_data_dir+'rechunked/SSU_rot.zarr')[['XC','YC','Depth']]\n",
    "ds_hf"
   ]
  },
  {
   "cell_type": "code",
   "execution_count": null,
   "id": "4fffa492",
   "metadata": {},
   "outputs": [],
   "source": [
    "#Lagrangian dataset\n",
    "root_dir = '/home/datawork-lops-osi/equinox/mit4320/parcels/'\n",
    "run_name = 'global_T365j_dt1j_dij50'\n",
    "\n",
    "parcels_index = 'filtered_itide_Tw30_sd_band04'\n",
    "\n",
    "# choose to select time indexed data for now\n",
    "p = pa.parcels_output(root_dir+run_name, parquets=[parcels_index])\n",
    "df = p[parcels_index]\n",
    "df.head()"
   ]
  },
  {
   "cell_type": "code",
   "execution_count": null,
   "id": "6856ad22",
   "metadata": {},
   "outputs": [],
   "source": []
  },
  {
   "cell_type": "code",
   "execution_count": null,
   "id": "395707bb",
   "metadata": {},
   "outputs": [],
   "source": [
    "cluster.close()"
   ]
  }
 ],
 "metadata": {
  "kernelspec": {
   "display_name": "Python 3 (ipykernel)",
   "language": "python",
   "name": "python3"
  },
  "language_info": {
   "codemirror_mode": {
    "name": "ipython",
    "version": 3
   },
   "file_extension": ".py",
   "mimetype": "text/x-python",
   "name": "python",
   "nbconvert_exporter": "python",
   "pygments_lexer": "ipython3",
   "version": "3.8.12"
  }
 },
 "nbformat": 4,
 "nbformat_minor": 5
}
