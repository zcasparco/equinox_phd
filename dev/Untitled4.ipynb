{
 "cells": [
  {
   "cell_type": "code",
   "execution_count": 1,
   "id": "c291af45",
   "metadata": {},
   "outputs": [],
   "source": [
    "import numpy as np\n",
    "import matplotlib.pyplot as plt\n",
    "import xarray as xr"
   ]
  },
  {
   "cell_type": "code",
   "execution_count": 2,
   "id": "8ec749ef",
   "metadata": {},
   "outputs": [],
   "source": [
    "import matplotlib as mpl\n",
    "mpl.rcParams[\"font.size\"] = 13"
   ]
  },
  {
   "cell_type": "code",
   "execution_count": 5,
   "id": "2eeb51e3",
   "metadata": {},
   "outputs": [],
   "source": [
    "def fit_function(y,t=None,myfunc=None,first_guess='free',bounds=None,sigma=None):\n",
    "    \"\"\"Compute the best fit parameters found using scipy.optimize.curve_fit\n",
    "        Parameters\n",
    "        ----------\n",
    "        y : data to fit\n",
    "        t : timelag of the correlation function\n",
    "        myfunc : function we want to fit to our data, y\n",
    "        p0 : first guess on parameters\n",
    "        bounds : bounds of the parameters to fit \n",
    "        \n",
    "        Returns\n",
    "        ----------\n",
    "        params : parameters for which we obtain the best fit\n",
    "        error : covariance of params computed in scipy.optimize.curve_fit\n",
    "        yfit : best fit\n",
    "        \"\"\"\n",
    "    sig = signature(myfunc)\n",
    "    len_sig = len(sig.parameters.keys())\n",
    "    try : \n",
    "        if first_guess=='lag' and sigma is None:\n",
    "            _p0 = np.full(len_sig-1,1)\n",
    "            _p0[-1] = y[0]\n",
    "            params,cov = scipy.optimize.curve_fit(myfunc,t,y,p0=_p0,bounds=bounds,maxfev=1000)\n",
    "    #    try:\n",
    "        if sigma is not None:\n",
    "            if first_guess=='lag':\n",
    "                _p0 = np.full(len_sig-1,1)\n",
    "                _p0[-1] = y[0]\n",
    "                params,cov = scipy.optimize.curve_fit(myfunc,t,y,p0=_p0,bounds=bounds,maxfev=1000,\n",
    "                                                  sigma=sigma,absolute_sigma=True)\n",
    "            else:\n",
    "                params,cov = scipy.optimize.curve_fit(myfunc,t,y,bounds=bounds,maxfev=1000,\n",
    "                                                  sigma=sigma,absolute_sigma=True)\n",
    "        else:\n",
    "            params,cov = scipy.optimize.curve_fit(myfunc,t,y,bounds=bounds,maxfev=1000)\n",
    "        yfit = myfunc(t,*[p for p in params])\n",
    "        error=np.sqrt(np.diag(cov))\n",
    "    except:\n",
    "#        print(\"error\")\n",
    "        params,error = np.full(len_sig-1,np.nan),np.full(len_sig-1,np.nan)\n",
    "        yfit = np.full_like(t,np.nan)\n",
    "#        out = xr.Dataset({'params':(['lat_bins','lon_bins','param'],np.expand_dims(params, axis=0)),\n",
    "#                      'fitted':(['lat_bins','lon_bins','lags'],np.expand_dims(yfit,axis=0)),\n",
    "#                     'error' : (['lat_bins','lon_bins','param'],np.expand_dims(cov,axis=0))},\n",
    " #                    coords={'lat_bins':np.array([y.lat_bins.values]),'lon_bins':np.array([y.lon_bins.values])\n",
    " #                            ,'param':[V for V in sig.parameters.keys()][1:],\n",
    " #                            'lags':y.lags.values})\n",
    "    return params,error,yfit\n",
    "def wrapper(ds,v,myfunc,t,bounds,p0='free',sigma=None):\n",
    "    sig = signature(myfunc)\n",
    "    params_name = [V for V in sig.parameters.keys()][1:]\n",
    "    kwargs={'t':t,'myfunc':myfunc,'first_guess':p0,'bounds':bounds}\n",
    "    if sigma is not None:\n",
    "        kwargs.update({'sigma':sigma})\n",
    "        \n",
    "    print('Parameters to estimate:',params_name)\n",
    "    params,error,yfit = xr.apply_ufunc(fit_function,ds[v],input_core_dims=[['lags']],\n",
    "                                   output_core_dims=[['param'],['param'],['lags']],\n",
    "                                   vectorize=True,kwargs=kwargs)\n",
    "    params = params.rename('parameters').assign_coords({'param':params_name})\n",
    "    error = error.rename('error').assign_coords({'param':params_name})\n",
    "    ds_out = xr.merge([params,error,yfit])\n",
    "#    ds_out = ds_out.where(ds_out[v].isel(lags=0)>1e-18)\n",
    "    return ds_out"
   ]
  },
  {
   "cell_type": "code",
   "execution_count": 22,
   "id": "5f38b26f",
   "metadata": {},
   "outputs": [],
   "source": [
    "root_path = '/Users/zcaspar/codes/mit4320/'\n",
    "ds_predicted = xr.open_dataset(root_path+'ds_predicted.nc'\n",
    "                              ).rename({'lon':'lon_bins','lat':'lat_bins','tau':'lags'})\n",
    "dsV_predicted = xr.open_dataset(root_path+'dsV_predicted.nc'\n",
    "                               ).rename({'lon':'lon_bins','lat':'lat_bins','tau':'lags'})\n",
    "\n",
    "dsL = xr.open_dataset(root_path+'L_hf_fit_gauss.nc')\n",
    "dsE = xr.open_dataset(root_path+'E_hf_fit_gauss.nc')\n",
    "dsL_autocov = xr.open_dataset(root_path+'Lcov_SSU_dl2.nc')\n",
    "#dsL_autocov = xr.open_dataset(root_path+'Lcov_SSU_dl2.nc')"
   ]
  },
  {
   "cell_type": "code",
   "execution_count": 24,
   "id": "047d264e",
   "metadata": {},
   "outputs": [
    {
     "data": {
      "text/plain": [
       "[<matplotlib.lines.Line2D at 0x140aaf2b0>]"
      ]
     },
     "execution_count": 24,
     "metadata": {},
     "output_type": "execute_result"
    },
    {
     "data": {
      "image/png": "[encoded data removed]",
      "text/plain": [
       "<Figure size 432x288 with 1 Axes>"
      ]
     },
     "metadata": {
      "needs_background": "light"
     },
     "output_type": "display_data"
    }
   ],
   "source": [
    "dsL_autocov.mean(['lon_bins','lat_bins']).rr.plot()\n",
    "ds_predicted.Cl.mean(['lon_bins','lat_bins']).plot(xlim=(0,40))\n"
   ]
  },
  {
   "cell_type": "code",
   "execution_count": null,
   "id": "208fbb60",
   "metadata": {},
   "outputs": [],
   "source": []
  }
 ],
 "metadata": {
  "kernelspec": {
   "display_name": "Python 3 (ipykernel)",
   "language": "python",
   "name": "python3"
  },
  "language_info": {
   "codemirror_mode": {
    "name": "ipython",
    "version": 3
   },
   "file_extension": ".py",
   "mimetype": "text/x-python",
   "name": "python",
   "nbconvert_exporter": "python",
   "pygments_lexer": "ipython3",
   "version": "3.8.12"
  }
 },
 "nbformat": 4,
 "nbformat_minor": 5
}
