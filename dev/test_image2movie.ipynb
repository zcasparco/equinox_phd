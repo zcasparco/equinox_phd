{
 "cells": [
  {
   "cell_type": "code",
   "execution_count": 1,
   "id": "incorporate-minute",
   "metadata": {},
   "outputs": [],
   "source": [
    "import numpy as np\n",
    "import matplotlib.pyplot as plt"
   ]
  },
  {
   "cell_type": "code",
   "execution_count": 13,
   "id": "german-fifteen",
   "metadata": {},
   "outputs": [],
   "source": [
    "\n",
    "t = np.arange(0,10,1/24)"
   ]
  },
  {
   "cell_type": "code",
   "execution_count": 15,
   "id": "afraid-wayne",
   "metadata": {},
   "outputs": [],
   "source": [
    "x = np.cos(2*np.pi*2*t)"
   ]
  },
  {
   "cell_type": "code",
   "execution_count": 24,
   "id": "ecological-member",
   "metadata": {},
   "outputs": [],
   "source": [
    "\n",
    "for i in range(t.size//2):\n",
    "    name='test_%s'%i\n",
    "    fig = plt.figure()\n",
    "    plt.plot(t,x)\n",
    "    plt.scatter(t[i],x[i],c='r')\n",
    "    plt.title('Time = %s'%t[i])\n",
    "    plt.ylabel('Vitesse');plt.xlabel('Temps(jours)')\n",
    "    #plt.show()\n",
    "    fig.savefig('/Users/zcaspar/Documents/Figs/test/'+name+'.jpg')\n",
    "    plt.close()"
   ]
  },
  {
   "cell_type": "code",
   "execution_count": null,
   "id": "handled-comfort",
   "metadata": {},
   "outputs": [],
   "source": []
  }
 ],
 "metadata": {
  "kernelspec": {
   "display_name": "Python 3",
   "language": "python",
   "name": "python3"
  },
  "language_info": {
   "codemirror_mode": {
    "name": "ipython",
    "version": 3
   },
   "file_extension": ".py",
   "mimetype": "text/x-python",
   "name": "python",
   "nbconvert_exporter": "python",
   "pygments_lexer": "ipython3",
   "version": "3.7.6"
  }
 },
 "nbformat": 4,
 "nbformat_minor": 5
}
