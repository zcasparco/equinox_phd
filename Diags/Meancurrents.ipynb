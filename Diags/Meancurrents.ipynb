{
 "cells": [
  {
   "cell_type": "code",
   "execution_count": 1,
   "metadata": {},
   "outputs": [
    {
     "name": "stderr",
     "output_type": "stream",
     "text": [
      "/home1/datahome/zcaspar/miniconda3/envs/croco/lib/python3.7/site-packages/distributed/utils.py:133: RuntimeWarning: Couldn't detect a suitable IP address for reaching '8.8.8.8', defaulting to '127.0.0.1': [Errno 101] Network is unreachable\n",
      "  RuntimeWarning,\n"
     ]
    }
   ],
   "source": [
    "import os\n",
    "from glob import glob\n",
    "import threading\n",
    "\n",
    "import numpy as np\n",
    "import dask.dataframe as dd\n",
    "from dask import delayed\n",
    "import pandas as pd\n",
    "import xarray as xr\n",
    "\n",
    "%matplotlib inline\n",
    "from matplotlib import pyplot as plt\n",
    "#import matplotlib.animation as anima\n",
    "\n",
    "import crocosi.postp as pp\n",
    "from crocosi.jet import set_relevant_time"
   ]
  },
  {
   "cell_type": "code",
   "execution_count": null,
   "metadata": {},
   "outputs": [],
   "source": []
  },
  {
   "cell_type": "code",
   "execution_count": 86,
   "metadata": {},
   "outputs": [],
   "source": [
    "from dask_jobqueue import PBSCluster\n",
    "cluster = PBSCluster()\n",
    "w = cluster.scale(28*2)"
   ]
  },
  {
   "cell_type": "code",
   "execution_count": 87,
   "metadata": {},
   "outputs": [],
   "source": [
    "from dask.distributed import Client\n",
    "#client = Client()  # set up local cluster on your laptop\n",
    "client = Client(cluster) # with distributed cluster"
   ]
  },
  {
   "cell_type": "code",
   "execution_count": 6,
   "metadata": {},
   "outputs": [
    {
     "data": {
      "text/html": [
       "<table style=\"border: 2px solid white;\">\n",
       "<tr>\n",
       "<td style=\"vertical-align: top; border: 0px solid white\">\n",
       "<h3 style=\"text-align: left;\">Client</h3>\n",
       "<ul style=\"text-align: left; list-style: none; margin: 0; padding: 0;\">\n",
       "  <li><b>Scheduler: </b>tcp://10.148.1.93:45050</li>\n",
       "  <li><b>Dashboard: </b><a href='http://10.148.1.93:8787/status' target='_blank'>http://10.148.1.93:8787/status</a>\n",
       "</ul>\n",
       "</td>\n",
       "<td style=\"vertical-align: top; border: 0px solid white\">\n",
       "<h3 style=\"text-align: left;\">Cluster</h3>\n",
       "<ul style=\"text-align: left; list-style:none; margin: 0; padding: 0;\">\n",
       "  <li><b>Workers: </b>0</li>\n",
       "  <li><b>Cores: </b>0</li>\n",
       "  <li><b>Memory: </b>0 B</li>\n",
       "</ul>\n",
       "</td>\n",
       "</tr>\n",
       "</table>"
      ],
      "text/plain": [
       "<Client: 'tcp://10.148.1.93:45050' processes=0 threads=0, memory=0 B>"
      ]
     },
     "execution_count": 6,
     "metadata": {},
     "output_type": "execute_result"
    }
   ],
   "source": [
    "client"
   ]
  },
  {
   "cell_type": "code",
   "execution_count": 2,
   "metadata": {},
   "outputs": [],
   "source": [
    "root_path = '/home/datawork-lops-osi/slgentil/croco/jetn/'\n",
    "#root_path = '/home1/datawork/slgentil/'#jet_cfg1_wp75_4km_1500a2000j_floats_lev50\n",
    "run = 'jet_cfg1_wp75_4km_1500a2000j_floats_lev50_itide/'"
   ]
  },
  {
   "cell_type": "code",
   "execution_count": 83,
   "metadata": {},
   "outputs": [
    {
     "data": {
      "text/plain": [
       "15"
      ]
     },
     "execution_count": 83,
     "metadata": {},
     "output_type": "execute_result"
    }
   ],
   "source": [
    "run.find('km')"
   ]
  },
  {
   "cell_type": "code",
   "execution_count": 84,
   "metadata": {},
   "outputs": [
    {
     "data": {
      "text/plain": [
       "'4'"
      ]
     },
     "execution_count": 84,
     "metadata": {},
     "output_type": "execute_result"
    }
   ],
   "source": [
    "run[run.find('km')-1]"
   ]
  },
  {
   "cell_type": "code",
   "execution_count": 3,
   "metadata": {},
   "outputs": [
    {
     "data": {
      "text/html": [
       "<div>\n",
       "<style scoped>\n",
       "    .dataframe tbody tr th:only-of-type {\n",
       "        vertical-align: middle;\n",
       "    }\n",
       "\n",
       "    .dataframe tbody tr th {\n",
       "        vertical-align: top;\n",
       "    }\n",
       "\n",
       "    .dataframe thead th {\n",
       "        text-align: right;\n",
       "    }\n",
       "</style>\n",
       "<table border=\"1\" class=\"dataframe\">\n",
       "  <thead>\n",
       "    <tr style=\"text-align: right;\">\n",
       "      <th></th>\n",
       "      <th>id</th>\n",
       "      <th>time</th>\n",
       "      <th>xgrid</th>\n",
       "      <th>ygrid</th>\n",
       "      <th>zgrid</th>\n",
       "      <th>depth</th>\n",
       "      <th>temp</th>\n",
       "      <th>u</th>\n",
       "      <th>v</th>\n",
       "      <th>dudt</th>\n",
       "      <th>dvdt</th>\n",
       "      <th>pres</th>\n",
       "    </tr>\n",
       "  </thead>\n",
       "  <tbody>\n",
       "    <tr>\n",
       "      <th>0</th>\n",
       "      <td>7161</td>\n",
       "      <td>1500.0069</td>\n",
       "      <td>196.40944</td>\n",
       "      <td>541.79652</td>\n",
       "      <td>50.0</td>\n",
       "      <td>-0.935944</td>\n",
       "      <td>25.886666</td>\n",
       "      <td>0.058079</td>\n",
       "      <td>-0.105506</td>\n",
       "      <td>-5.820925e-08</td>\n",
       "      <td>3.420817e-07</td>\n",
       "      <td>-8.260263</td>\n",
       "    </tr>\n",
       "    <tr>\n",
       "      <th>1</th>\n",
       "      <td>7162</td>\n",
       "      <td>1500.0069</td>\n",
       "      <td>196.40937</td>\n",
       "      <td>543.30184</td>\n",
       "      <td>50.0</td>\n",
       "      <td>-0.940022</td>\n",
       "      <td>25.885229</td>\n",
       "      <td>0.057283</td>\n",
       "      <td>-0.101750</td>\n",
       "      <td>-2.034746e-08</td>\n",
       "      <td>3.515808e-07</td>\n",
       "      <td>-8.300321</td>\n",
       "    </tr>\n",
       "    <tr>\n",
       "      <th>2</th>\n",
       "      <td>7163</td>\n",
       "      <td>1500.0069</td>\n",
       "      <td>196.40946</td>\n",
       "      <td>544.80716</td>\n",
       "      <td>50.0</td>\n",
       "      <td>-0.944117</td>\n",
       "      <td>25.884374</td>\n",
       "      <td>0.058512</td>\n",
       "      <td>-0.097537</td>\n",
       "      <td>-1.201106e-09</td>\n",
       "      <td>3.599363e-07</td>\n",
       "      <td>-8.340519</td>\n",
       "    </tr>\n",
       "    <tr>\n",
       "      <th>3</th>\n",
       "      <td>7164</td>\n",
       "      <td>1500.0069</td>\n",
       "      <td>196.40961</td>\n",
       "      <td>546.31250</td>\n",
       "      <td>50.0</td>\n",
       "      <td>-0.948345</td>\n",
       "      <td>25.884627</td>\n",
       "      <td>0.060480</td>\n",
       "      <td>-0.093268</td>\n",
       "      <td>-1.958836e-08</td>\n",
       "      <td>3.627984e-07</td>\n",
       "      <td>-8.381996</td>\n",
       "    </tr>\n",
       "    <tr>\n",
       "      <th>4</th>\n",
       "      <td>7165</td>\n",
       "      <td>1500.0069</td>\n",
       "      <td>196.40971</td>\n",
       "      <td>547.81780</td>\n",
       "      <td>50.0</td>\n",
       "      <td>-0.952706</td>\n",
       "      <td>25.885603</td>\n",
       "      <td>0.061626</td>\n",
       "      <td>-0.089432</td>\n",
       "      <td>-6.096121e-08</td>\n",
       "      <td>3.575484e-07</td>\n",
       "      <td>-8.424740</td>\n",
       "    </tr>\n",
       "  </tbody>\n",
       "</table>\n",
       "</div>"
      ],
      "text/plain": [
       "     id       time      xgrid      ygrid  zgrid     depth       temp  \\\n",
       "0  7161  1500.0069  196.40944  541.79652   50.0 -0.935944  25.886666   \n",
       "1  7162  1500.0069  196.40937  543.30184   50.0 -0.940022  25.885229   \n",
       "2  7163  1500.0069  196.40946  544.80716   50.0 -0.944117  25.884374   \n",
       "3  7164  1500.0069  196.40961  546.31250   50.0 -0.948345  25.884627   \n",
       "4  7165  1500.0069  196.40971  547.81780   50.0 -0.952706  25.885603   \n",
       "\n",
       "          u         v          dudt          dvdt      pres  \n",
       "0  0.058079 -0.105506 -5.820925e-08  3.420817e-07 -8.260263  \n",
       "1  0.057283 -0.101750 -2.034746e-08  3.515808e-07 -8.300321  \n",
       "2  0.058512 -0.097537 -1.201106e-09  3.599363e-07 -8.340519  \n",
       "3  0.060480 -0.093268 -1.958836e-08  3.627984e-07 -8.381996  \n",
       "4  0.061626 -0.089432 -6.096121e-08  3.575484e-07 -8.424740  "
      ]
     },
     "execution_count": 3,
     "metadata": {},
     "output_type": "execute_result"
    }
   ],
   "source": [
    "df = dd.read_csv(glob(root_path+run+'t1/float.????'), \n",
    "                 names=['id','time','xgrid','ygrid','zgrid','depth','temp','u','v','dudt','dvdt','pres'],\n",
    "                 delim_whitespace=True).persist()\n",
    "df.head()"
   ]
  },
  {
   "cell_type": "code",
   "execution_count": 4,
   "metadata": {},
   "outputs": [],
   "source": [
    "df_pd = df.compute()"
   ]
  },
  {
   "cell_type": "markdown",
   "metadata": {},
   "source": [
    "### Mean currents with floats"
   ]
  },
  {
   "cell_type": "code",
   "execution_count": 5,
   "metadata": {},
   "outputs": [],
   "source": [
    "y_bins = np.arange(0., 600., 10.)\n",
    "y_idx = pd.IntervalIndex.from_breaks(y_bins)\n",
    "df_pd['y'] = pd.cut(df_pd.ygrid, bins=y_bins)"
   ]
  },
  {
   "cell_type": "code",
   "execution_count": 6,
   "metadata": {},
   "outputs": [],
   "source": [
    "x_bins = np.arange(1., 260., 10.)\n",
    "x_idy = pd.IntervalIndex.from_breaks(x_bins)\n",
    "df_pd['x'] = pd.cut(df_pd.xgrid, bins=x_bins)"
   ]
  },
  {
   "cell_type": "code",
   "execution_count": 34,
   "metadata": {
    "jupyter": {
     "source_hidden": true
    }
   },
   "outputs": [],
   "source": [
    "dfi = df_pd[df_pd.time==df_pd.time.min()]"
   ]
  },
  {
   "cell_type": "code",
   "execution_count": 35,
   "metadata": {
    "jupyter": {
     "source_hidden": true
    }
   },
   "outputs": [],
   "source": [
    "test1 = dfi.groupby(['x','y'])['u'].mean()"
   ]
  },
  {
   "cell_type": "code",
   "execution_count": 9,
   "metadata": {
    "collapsed": true,
    "jupyter": {
     "outputs_hidden": true,
     "source_hidden": true
    }
   },
   "outputs": [
    {
     "data": {
      "text/plain": [
       "(897,)"
      ]
     },
     "execution_count": 9,
     "metadata": {},
     "output_type": "execute_result"
    }
   ],
   "source": [
    "test1.values[np.isnan(test1.values)==False].shape"
   ]
  },
  {
   "cell_type": "code",
   "execution_count": 10,
   "metadata": {
    "collapsed": true,
    "jupyter": {
     "outputs_hidden": true,
     "source_hidden": true
    }
   },
   "outputs": [
    {
     "data": {
      "image/png": "[encoded data removed]",
      "text/plain": [
       "<Figure size 432x288 with 1 Axes>"
      ]
     },
     "metadata": {
      "needs_background": "light"
     },
     "output_type": "display_data"
    }
   ],
   "source": [
    "fig,ax=plt.subplots()\n",
    "ax.scatter(dfi.xgrid,dfi.ygrid)\n",
    "ax.grid()\n",
    "ax.set_ylim(150,550);ax.set_xlim(1,150);"
   ]
  },
  {
   "cell_type": "code",
   "execution_count": 11,
   "metadata": {
    "collapsed": true,
    "jupyter": {
     "outputs_hidden": true,
     "source_hidden": true
    }
   },
   "outputs": [
    {
     "name": "stdout",
     "output_type": "stream",
     "text": [
      "(936,) 1000\n"
     ]
    }
   ],
   "source": [
    "print(test1.values.shape,x_bins.size*y_bins.size)"
   ]
  },
  {
   "cell_type": "code",
   "execution_count": 40,
   "metadata": {
    "jupyter": {
     "source_hidden": true
    }
   },
   "outputs": [],
   "source": [
    "Test1 = test1.values.reshape(x_bins.size-1,y_bins.size-1)"
   ]
  },
  {
   "cell_type": "code",
   "execution_count": 41,
   "metadata": {
    "collapsed": true,
    "jupyter": {
     "outputs_hidden": true,
     "source_hidden": true
    }
   },
   "outputs": [
    {
     "data": {
      "text/plain": [
       "<matplotlib.image.AxesImage at 0x2aab069de6d8>"
      ]
     },
     "execution_count": 41,
     "metadata": {},
     "output_type": "execute_result"
    },
    {
     "data": {
      "image/png": "[encoded data removed]",
      "text/plain": [
       "<Figure size 432x288 with 1 Axes>"
      ]
     },
     "metadata": {
      "needs_background": "light"
     },
     "output_type": "display_data"
    }
   ],
   "source": [
    "plt.imshow(Test1)"
   ]
  },
  {
   "cell_type": "code",
   "execution_count": 7,
   "metadata": {},
   "outputs": [],
   "source": [
    "df_pd['U'] = np.sqrt(df_pd['u']**2+df_pd['v']**2)"
   ]
  },
  {
   "cell_type": "code",
   "execution_count": 55,
   "metadata": {},
   "outputs": [
    {
     "name": "stdout",
     "output_type": "stream",
     "text": [
      "127168457 127168457\n"
     ]
    }
   ],
   "source": [
    "print(df_pd.u.size,df_pd.U.size)"
   ]
  },
  {
   "cell_type": "code",
   "execution_count": 36,
   "metadata": {},
   "outputs": [
    {
     "data": {
      "text/plain": [
       "<matplotlib.axes._subplots.AxesSubplot at 0x2aab2fe37198>"
      ]
     },
     "execution_count": 36,
     "metadata": {},
     "output_type": "execute_result"
    },
    {
     "data": {
      "image/png": "[encoded data removed]",
      "text/plain": [
       "<Figure size 432x288 with 1 Axes>"
      ]
     },
     "metadata": {
      "needs_background": "light"
     },
     "output_type": "display_data"
    }
   ],
   "source": [
    "df_pd.groupby('y')['u'].mean().to_frame(name='mean_dxdt').set_index(y_idx.mid).plot()"
   ]
  },
  {
   "cell_type": "code",
   "execution_count": 37,
   "metadata": {},
   "outputs": [
    {
     "data": {
      "text/plain": [
       "<matplotlib.axes._subplots.AxesSubplot at 0x2aab06844908>"
      ]
     },
     "execution_count": 37,
     "metadata": {},
     "output_type": "execute_result"
    },
    {
     "data": {
      "image/png": "[encoded data removed]",
      "text/plain": [
       "<Figure size 432x288 with 1 Axes>"
      ]
     },
     "metadata": {
      "needs_background": "light"
     },
     "output_type": "display_data"
    }
   ],
   "source": [
    "df_pd.groupby('x')['v'].mean().to_frame(name='mean_dydt').set_index(x_idy.mid).plot()"
   ]
  },
  {
   "cell_type": "code",
   "execution_count": 8,
   "metadata": {},
   "outputs": [],
   "source": [
    "u_mean = df_pd.groupby(['x','y'])['u'].mean()"
   ]
  },
  {
   "cell_type": "code",
   "execution_count": 9,
   "metadata": {},
   "outputs": [],
   "source": [
    "v_mean = df_pd.groupby(['x','y'])['v'].mean()"
   ]
  },
  {
   "cell_type": "code",
   "execution_count": 10,
   "metadata": {},
   "outputs": [],
   "source": [
    "U_mean = df_pd.groupby(['x','y'])['U'].mean()"
   ]
  },
  {
   "cell_type": "code",
   "execution_count": 11,
   "metadata": {
    "collapsed": true,
    "jupyter": {
     "outputs_hidden": true,
     "source_hidden": true
    }
   },
   "outputs": [
    {
     "ename": "NameError",
     "evalue": "name 'test' is not defined",
     "output_type": "error",
     "traceback": [
      "\u001b[0;31m---------------------------------------------------------------------------\u001b[0m",
      "\u001b[0;31mNameError\u001b[0m                                 Traceback (most recent call last)",
      "\u001b[0;32m<ipython-input-11-2802e22f9301>\u001b[0m in \u001b[0;36m<module>\u001b[0;34m\u001b[0m\n\u001b[1;32m      1\u001b[0m \u001b[0;31m#test.plot()\u001b[0m\u001b[0;34m\u001b[0m\u001b[0;34m\u001b[0m\u001b[0;34m\u001b[0m\u001b[0m\n\u001b[0;32m----> 2\u001b[0;31m \u001b[0mprint\u001b[0m\u001b[0;34m(\u001b[0m\u001b[0mtest\u001b[0m\u001b[0;34m.\u001b[0m\u001b[0msize\u001b[0m\u001b[0;34m,\u001b[0m\u001b[0mx_bins\u001b[0m\u001b[0;34m.\u001b[0m\u001b[0msize\u001b[0m\u001b[0;34m*\u001b[0m\u001b[0my_bins\u001b[0m\u001b[0;34m.\u001b[0m\u001b[0msize\u001b[0m\u001b[0;34m)\u001b[0m\u001b[0;34m\u001b[0m\u001b[0;34m\u001b[0m\u001b[0m\n\u001b[0m",
      "\u001b[0;31mNameError\u001b[0m: name 'test' is not defined"
     ]
    }
   ],
   "source": [
    "#test.plot()\n",
    "print(test.size,x_bins.size*y_bins.size)"
   ]
  },
  {
   "cell_type": "code",
   "execution_count": 12,
   "metadata": {},
   "outputs": [],
   "source": [
    "Umean = U_mean.values.reshape(x_bins.size-1,y_bins.size-1)\n",
    "umean = u_mean.values.reshape(x_bins.size-1,y_bins.size-1)\n",
    "vmean = v_mean.values.reshape(x_bins.size-1,y_bins.size-1)"
   ]
  },
  {
   "cell_type": "code",
   "execution_count": 13,
   "metadata": {},
   "outputs": [],
   "source": [
    "X,Y = np.meshgrid(x_bins[:-1],y_bins[:-1])"
   ]
  },
  {
   "cell_type": "code",
   "execution_count": 110,
   "metadata": {},
   "outputs": [
    {
     "data": {
      "text/plain": [
       "(59, 25)"
      ]
     },
     "execution_count": 110,
     "metadata": {},
     "output_type": "execute_result"
    }
   ],
   "source": [
    "X.shape"
   ]
  },
  {
   "cell_type": "code",
   "execution_count": 21,
   "metadata": {},
   "outputs": [
    {
     "data": {
      "text/plain": [
       "<matplotlib.colorbar.Colorbar at 0x2aabaffc8b38>"
      ]
     },
     "execution_count": 21,
     "metadata": {},
     "output_type": "execute_result"
    },
    {
     "data": {
      "image/png": "[encoded data removed]",
      "text/plain": [
       "<Figure size 1080x720 with 6 Axes>"
      ]
     },
     "metadata": {
      "needs_background": "light"
     },
     "output_type": "display_data"
    }
   ],
   "source": [
    "fig =plt.figure(figsize=(15,10))\n",
    "ax = fig.add_subplot(1,3,1)\n",
    "cs = ax.pcolor(X,Y,Umean.T,vmax=1.2,vmin=0)\n",
    "ax.set_aspect('equal')\n",
    "plt.colorbar(cs)\n",
    "ax1 = fig.add_subplot(1,3,2)\n",
    "cs1 = ax1.pcolor(X,Y,umean.T,vmax=1.,vmin=-0.5)\n",
    "ax1.set_aspect('equal')\n",
    "plt.colorbar(cs1)\n",
    "ax2 = fig.add_subplot(1,3,3)\n",
    "cs2 = ax2.pcolor(X,Y,vmean.T,vmax=1.,vmin=-0.5)\n",
    "ax2.set_aspect('equal')\n",
    "plt.colorbar(cs2)"
   ]
  },
  {
   "cell_type": "code",
   "execution_count": 22,
   "metadata": {},
   "outputs": [],
   "source": [
    "def s2day(s):\n",
    "    return np.around(s/(24*3600),decimals=4)"
   ]
  },
  {
   "cell_type": "code",
   "execution_count": 23,
   "metadata": {},
   "outputs": [],
   "source": [
    "idini = df_pd.groupby('time').get_group(1500.0069).sort_values('id').id"
   ]
  },
  {
   "cell_type": "code",
   "execution_count": 24,
   "metadata": {},
   "outputs": [],
   "source": [
    "idmid = df_pd.groupby('time').get_group(1500+s2day(600*6*24*50)).sort_values('id').id"
   ]
  },
  {
   "cell_type": "code",
   "execution_count": 25,
   "metadata": {},
   "outputs": [],
   "source": [
    "idfin = df_pd.groupby('time').get_group(1600).sort_values('id').id"
   ]
  },
  {
   "cell_type": "code",
   "execution_count": 26,
   "metadata": {},
   "outputs": [],
   "source": [
    "lost = idini[np.isin(idini,idfin)==False]"
   ]
  },
  {
   "cell_type": "code",
   "execution_count": 155,
   "metadata": {},
   "outputs": [
    {
     "data": {
      "text/plain": [
       "0         1\n",
       "16       77\n",
       "8       269\n",
       "55      456\n",
       "93      674\n",
       "       ... \n",
       "226    8607\n",
       "275    8836\n",
       "241    8842\n",
       "243    8844\n",
       "240    8881\n",
       "Name: id, Length: 162, dtype: int64"
      ]
     },
     "execution_count": 155,
     "metadata": {},
     "output_type": "execute_result"
    }
   ],
   "source": [
    "idini[np.isin(idini,idmid)==False]"
   ]
  },
  {
   "cell_type": "code",
   "execution_count": 163,
   "metadata": {
    "collapsed": true,
    "jupyter": {
     "outputs_hidden": true
    }
   },
   "outputs": [
    {
     "data": {
      "text/plain": [
       "array([   1,   77,  269,  456,  674,  756,  965, 1001, 1012, 1045, 1046,\n",
       "       1068, 1187, 1191, 1297, 1360, 1425, 1497, 1563, 1686, 1709, 1739,\n",
       "       1896, 1959, 1963, 2154, 2174, 2221, 2252, 2276, 2287, 2293, 2309,\n",
       "       2355, 2357, 2361, 2465, 2472, 2476, 2483, 2577, 2603, 2612, 2790,\n",
       "       2794, 2808, 2876, 2903, 2920, 2934, 3068, 3090, 3135, 3160, 3180,\n",
       "       3198, 3212, 3217, 3222, 3247, 3277, 3325, 3363, 3383, 3388, 3394,\n",
       "       3399, 3403, 3407, 3442, 3475, 3479, 3482, 3485, 3498, 3499, 3504,\n",
       "       3505, 3518, 3578, 3678, 3679, 3742, 3749, 3784, 3811, 3831, 3985,\n",
       "       3998, 4003, 4011, 4019, 4036, 4060, 4076, 4122, 4129, 4160, 4272,\n",
       "       4278, 4291, 4322, 4344, 4411, 4537, 4538, 4543, 4545, 4580, 4599,\n",
       "       4600, 4603, 4648, 4662, 4668, 4719, 4742, 4755, 4841, 4883, 4907,\n",
       "       4922, 4928, 4944, 4949, 4953, 4963, 4964, 4974, 4990, 5014, 5145,\n",
       "       5150, 5164, 5180, 5188, 5210, 5228, 5236, 5241, 5266, 5283, 5316,\n",
       "       5325, 5332, 5504, 5507, 5521, 5528, 5530, 5532, 5534, 5545, 5558,\n",
       "       5560, 5563, 5564, 5565, 5567, 5571, 5581, 5587, 5595, 5619, 5631,\n",
       "       5649, 5660, 5664, 5718, 5754, 5768, 5787, 5824, 5825, 5829, 5832,\n",
       "       5834, 5862, 5863, 5870, 5887, 5893, 5895, 5904, 5906, 5912, 5953,\n",
       "       6058, 6063, 6091, 6095, 6100, 6106, 6130, 6141, 6147, 6155, 6162,\n",
       "       6177, 6179, 6183, 6184, 6192, 6203, 6214, 6414, 6431, 6434, 6437,\n",
       "       6441, 6443, 6455, 6460, 6476, 6483, 6495, 6500, 6507, 6521, 6523,\n",
       "       6706, 6729, 6731, 6733, 6746, 6748, 6751, 6759, 6760, 6782, 6784,\n",
       "       6802, 6812, 6814, 6885, 6888, 6891, 6892, 6904, 6951, 6967, 6989,\n",
       "       7016, 7029, 7030, 7038, 7042, 7047, 7048, 7059, 7061, 7063, 7064,\n",
       "       7065, 7093, 7108, 7139, 7152, 7181, 7187, 7189, 7276, 7278, 7326,\n",
       "       7333, 7336, 7341, 7342, 7359, 7378, 7379, 7395, 7410, 7412, 7488,\n",
       "       7496, 7597, 7623, 7626, 7635, 7638, 7641, 7655, 7669, 7670, 7671,\n",
       "       7676, 7696, 7713, 7890, 7893, 7894, 7902, 7904, 7910, 7916, 7923,\n",
       "       7973, 7975, 7976, 7997, 8008, 8030, 8098, 8182, 8199, 8219, 8222,\n",
       "       8226, 8227, 8229, 8230, 8236, 8238, 8240, 8242, 8244, 8247, 8252,\n",
       "       8255, 8271, 8278, 8314, 8464, 8519, 8525, 8532, 8535, 8536, 8538,\n",
       "       8547, 8551, 8558, 8573, 8580, 8598, 8603, 8607, 8621, 8647, 8767,\n",
       "       8768, 8779, 8782, 8798, 8812, 8820, 8836, 8842, 8844, 8856, 8879,\n",
       "       8881, 8885, 8889])"
      ]
     },
     "execution_count": 163,
     "metadata": {},
     "output_type": "execute_result"
    }
   ],
   "source": [
    "np.array(lost)"
   ]
  },
  {
   "cell_type": "code",
   "execution_count": 167,
   "metadata": {},
   "outputs": [],
   "source": [
    "idini2 = df_pd.groupby('time').get_group(1500.0069).sort_values('id').id"
   ]
  },
  {
   "cell_type": "code",
   "execution_count": 168,
   "metadata": {},
   "outputs": [],
   "source": [
    "idfin2 = df_pd.groupby('time').get_group(1600).sort_values('id').id"
   ]
  },
  {
   "cell_type": "code",
   "execution_count": 169,
   "metadata": {},
   "outputs": [],
   "source": [
    "lost2 = idini2[np.isin(idini2,idfin2)==False]"
   ]
  },
  {
   "cell_type": "code",
   "execution_count": 171,
   "metadata": {
    "collapsed": true,
    "jupyter": {
     "outputs_hidden": true
    }
   },
   "outputs": [
    {
     "data": {
      "text/plain": [
       "array([0, 0, 0, 0, 0, 0, 0, 0, 0, 0, 0, 0, 0, 0, 0, 0, 0, 0, 0, 0, 0, 0,\n",
       "       0, 0, 0, 0, 0, 0, 0, 0, 0, 0, 0, 0, 0, 0, 0, 0, 0, 0, 0, 0, 0, 0,\n",
       "       0, 0, 0, 0, 0, 0, 0, 0, 0, 0, 0, 0, 0, 0, 0, 0, 0, 0, 0, 0, 0, 0,\n",
       "       0, 0, 0, 0, 0, 0, 0, 0, 0, 0, 0, 0, 0, 0, 0, 0, 0, 0, 0, 0, 0, 0,\n",
       "       0, 0, 0, 0, 0, 0, 0, 0, 0, 0, 0, 0, 0, 0, 0, 0, 0, 0, 0, 0, 0, 0,\n",
       "       0, 0, 0, 0, 0, 0, 0, 0, 0, 0, 0, 0, 0, 0, 0, 0, 0, 0, 0, 0, 0, 0,\n",
       "       0, 0, 0, 0, 0, 0, 0, 0, 0, 0, 0, 0, 0, 0, 0, 0, 0, 0, 0, 0, 0, 0,\n",
       "       0, 0, 0, 0, 0, 0, 0, 0, 0, 0, 0, 0, 0, 0, 0, 0, 0, 0, 0, 0, 0, 0,\n",
       "       0, 0, 0, 0, 0, 0, 0, 0, 0, 0, 0, 0, 0, 0, 0, 0, 0, 0, 0, 0, 0, 0,\n",
       "       0, 0, 0, 0, 0, 0, 0, 0, 0, 0, 0, 0, 0, 0, 0, 0, 0, 0, 0, 0, 0, 0,\n",
       "       0, 0, 0, 0, 0, 0, 0, 0, 0, 0, 0, 0, 0, 0, 0, 0, 0, 0, 0, 0, 0, 0,\n",
       "       0, 0, 0, 0, 0, 0, 0, 0, 0, 0, 0, 0, 0, 0, 0, 0, 0, 0, 0, 0, 0, 0,\n",
       "       0, 0, 0, 0, 0, 0, 0, 0, 0, 0, 0, 0, 0, 0, 0, 0, 0, 0, 0, 0, 0, 0,\n",
       "       0, 0, 0, 0, 0, 0, 0, 0, 0, 0, 0, 0, 0, 0, 0, 0, 0, 0, 0, 0, 0, 0,\n",
       "       0, 0, 0, 0, 0, 0, 0, 0, 0, 0, 0, 0, 0, 0, 0, 0, 0, 0, 0, 0, 0, 0,\n",
       "       0, 0, 0, 0, 0, 0, 0, 0, 0, 0, 0, 0, 0, 0, 0, 0, 0, 0, 0, 0, 0, 0,\n",
       "       0, 0, 0])"
      ]
     },
     "execution_count": 171,
     "metadata": {},
     "output_type": "execute_result"
    }
   ],
   "source": [
    "np.array(lost)-np.array(lost2)"
   ]
  },
  {
   "cell_type": "markdown",
   "metadata": {},
   "source": [
    "### Nombre de flotteurs par bins (et pas de temps): "
   ]
  },
  {
   "cell_type": "code",
   "execution_count": 74,
   "metadata": {},
   "outputs": [],
   "source": [
    "def flt_mean(t,var):\n",
    "    dfi = df_pd.groupby('time').get_group(t)\n",
    "    dfi['Usq'] = dfi.U**2\n",
    "    groups = dfi.groupby(['x','y'])\n",
    "    mean = groups[var].mean()\n",
    "    meansq = groups['Usq'].mean()\n",
    "    te = mean.copy()\n",
    "    count = te.fillna(0)\n",
    "    count[np.isnan(te)==False] = groups.id.count()    \n",
    "    return count, mean, meansq\n",
    "def err(t,var,Mean):\n",
    "    count,mean,meansq = flt_mean(t,var)\n",
    "    error = np.sqrt(np.abs(meansq-Mean**2)/count)\n",
    "    return error"
   ]
  },
  {
   "cell_type": "code",
   "execution_count": 28,
   "metadata": {},
   "outputs": [],
   "source": [
    "dfi = df_pd.groupby('time').get_group(1500+s2day(600*6*24))"
   ]
  },
  {
   "cell_type": "code",
   "execution_count": 36,
   "metadata": {},
   "outputs": [
    {
     "data": {
      "text/plain": [
       "39140    0.007561\n",
       "39141    0.006894\n",
       "39142    0.006311\n",
       "39143    0.005756\n",
       "39144    0.005261\n",
       "           ...   \n",
       "40060    0.037336\n",
       "40061    0.053413\n",
       "40062    0.048651\n",
       "40063    0.031393\n",
       "40064    0.019129\n",
       "Name: U, Length: 9000, dtype: float64"
      ]
     },
     "execution_count": 36,
     "metadata": {},
     "output_type": "execute_result"
    }
   ],
   "source": [
    "dfi.U**2"
   ]
  },
  {
   "cell_type": "code",
   "execution_count": 38,
   "metadata": {},
   "outputs": [
    {
     "name": "stderr",
     "output_type": "stream",
     "text": [
      "/home1/datahome/zcaspar/miniconda3/envs/croco/lib/python3.7/site-packages/ipykernel_launcher.py:3: SettingWithCopyWarning: \n",
      "A value is trying to be set on a copy of a slice from a DataFrame.\n",
      "Try using .loc[row_indexer,col_indexer] = value instead\n",
      "\n",
      "See the caveats in the documentation: http://pandas.pydata.org/pandas-docs/stable/user_guide/indexing.html#returning-a-view-versus-a-copy\n",
      "  This is separate from the ipykernel package so we can avoid doing imports until\n"
     ]
    }
   ],
   "source": [
    "count,mean,meansq = flt_mean(1500+s2day(600*6*24*10),'U')\n"
   ]
  },
  {
   "cell_type": "code",
   "execution_count": 60,
   "metadata": {},
   "outputs": [
    {
     "data": {
      "text/plain": [
       "x               y             \n",
       "(1.0, 11.0]     (170.0, 180.0]    0.021622\n",
       "                (180.0, 190.0]    0.063231\n",
       "                (190.0, 200.0]    0.055340\n",
       "                (200.0, 210.0]    0.019864\n",
       "                (210.0, 220.0]    0.017017\n",
       "                                    ...   \n",
       "(241.0, 251.0]  (500.0, 510.0]    0.013787\n",
       "                (510.0, 520.0]    0.017748\n",
       "                (520.0, 530.0]    0.020258\n",
       "                (530.0, 540.0]    0.019838\n",
       "                (540.0, 550.0]    0.023954\n",
       "Name: Usq, Length: 1082, dtype: float64"
      ]
     },
     "execution_count": 60,
     "metadata": {},
     "output_type": "execute_result"
    }
   ],
   "source": [
    "meansq[np.isnan(meansq/count)==False]"
   ]
  },
  {
   "cell_type": "code",
   "execution_count": 73,
   "metadata": {},
   "outputs": [
    {
     "data": {
      "text/plain": [
       "x               y             \n",
       "(1.0, 11.0]     (0.0, 10.0]      NaN\n",
       "                (10.0, 20.0]     NaN\n",
       "                (20.0, 30.0]     NaN\n",
       "                (30.0, 40.0]     NaN\n",
       "                (40.0, 50.0]     NaN\n",
       "                                  ..\n",
       "(241.0, 251.0]  (540.0, 550.0]   NaN\n",
       "                (550.0, 560.0]   NaN\n",
       "                (560.0, 570.0]   NaN\n",
       "                (570.0, 580.0]   NaN\n",
       "                (580.0, 590.0]   NaN\n",
       "Name: Usq, Length: 1475, dtype: float64"
      ]
     },
     "execution_count": 73,
     "metadata": {},
     "output_type": "execute_result"
    }
   ],
   "source": [
    "Me = 1\n",
    "np.sqrt(meansq-1)"
   ]
  },
  {
   "cell_type": "code",
   "execution_count": 75,
   "metadata": {},
   "outputs": [
    {
     "name": "stderr",
     "output_type": "stream",
     "text": [
      "/home1/datahome/zcaspar/miniconda3/envs/croco/lib/python3.7/site-packages/ipykernel_launcher.py:3: SettingWithCopyWarning: \n",
      "A value is trying to be set on a copy of a slice from a DataFrame.\n",
      "Try using .loc[row_indexer,col_indexer] = value instead\n",
      "\n",
      "See the caveats in the documentation: http://pandas.pydata.org/pandas-docs/stable/user_guide/indexing.html#returning-a-view-versus-a-copy\n",
      "  This is separate from the ipykernel package so we can avoid doing imports until\n"
     ]
    }
   ],
   "source": [
    "error = err(1500+s2day(600*6*24*10),'U',1)"
   ]
  },
  {
   "cell_type": "code",
   "execution_count": 77,
   "metadata": {},
   "outputs": [
    {
     "data": {
      "text/plain": [
       "x               y             \n",
       "(1.0, 11.0]     (170.0, 180.0]    0.373856\n",
       "                (180.0, 190.0]    0.342193\n",
       "                (190.0, 200.0]    0.323979\n",
       "                (200.0, 210.0]    0.404173\n",
       "                (210.0, 220.0]    0.298935\n",
       "                                    ...   \n",
       "(241.0, 251.0]  (500.0, 510.0]    0.299426\n",
       "                (510.0, 520.0]    0.374595\n",
       "                (520.0, 530.0]    0.349954\n",
       "                (530.0, 540.0]    0.350029\n",
       "                (540.0, 550.0]    0.493975\n",
       "Length: 1082, dtype: float64"
      ]
     },
     "execution_count": 77,
     "metadata": {},
     "output_type": "execute_result"
    }
   ],
   "source": [
    "error[np.isnan(error)==False]"
   ]
  },
  {
   "cell_type": "code",
   "execution_count": 58,
   "metadata": {
    "jupyter": {
     "source_hidden": true
    }
   },
   "outputs": [],
   "source": [
    "te = mean.copy()"
   ]
  },
  {
   "cell_type": "code",
   "execution_count": 59,
   "metadata": {
    "jupyter": {
     "source_hidden": true
    }
   },
   "outputs": [],
   "source": [
    "co = te.fillna(0)"
   ]
  },
  {
   "cell_type": "code",
   "execution_count": 72,
   "metadata": {
    "jupyter": {
     "source_hidden": true
    }
   },
   "outputs": [],
   "source": [
    "co[np.isnan(te)==False] = count"
   ]
  },
  {
   "cell_type": "code",
   "execution_count": 79,
   "metadata": {},
   "outputs": [],
   "source": [
    "Count = count.values.reshape(x_bins.size-1,y_bins.size-1)\n",
    "Mean = mean.values.reshape(x_bins.size-1,y_bins.size-1)\n",
    "Err = error.values.reshape(x_bins.size-1,y_bins.size-1)"
   ]
  },
  {
   "cell_type": "code",
   "execution_count": 18,
   "metadata": {},
   "outputs": [
    {
     "data": {
      "text/plain": [
       "(25, 59)"
      ]
     },
     "execution_count": 18,
     "metadata": {},
     "output_type": "execute_result"
    }
   ],
   "source": [
    "Count.shape"
   ]
  },
  {
   "cell_type": "code",
   "execution_count": 81,
   "metadata": {},
   "outputs": [
    {
     "data": {
      "text/plain": [
       "<matplotlib.colorbar.Colorbar at 0x2aabfff505f8>"
      ]
     },
     "execution_count": 81,
     "metadata": {},
     "output_type": "execute_result"
    },
    {
     "data": {
      "image/png": "[encoded data removed]",
      "text/plain": [
       "<Figure size 1080x720 with 6 Axes>"
      ]
     },
     "metadata": {
      "needs_background": "light"
     },
     "output_type": "display_data"
    }
   ],
   "source": [
    "fig = plt.figure(figsize=(15,10))\n",
    "ax = fig.add_subplot(1,3,1)\n",
    "cs = ax.pcolor(X,Y,Count.T)\n",
    "ax.set_aspect('equal')\n",
    "plt.colorbar(cs)\n",
    "ax1 = fig.add_subplot(1,3,2)\n",
    "cs1 = ax1.pcolor(X,Y,Mean.T)\n",
    "ax1.set_aspect('equal')\n",
    "plt.colorbar(cs1)\n",
    "ax2 = fig.add_subplot(1,3,3)\n",
    "cs2 = ax2.pcolor(X,Y,Err.T)\n",
    "ax2.set_aspect('equal')\n",
    "plt.colorbar(cs2)"
   ]
  },
  {
   "cell_type": "code",
   "execution_count": null,
   "metadata": {},
   "outputs": [],
   "source": [
    "count, meansq = "
   ]
  },
  {
   "cell_type": "markdown",
   "metadata": {},
   "source": [
    "### residual velocity:"
   ]
  },
  {
   "cell_type": "code",
   "execution_count": 85,
   "metadata": {
    "jupyter": {
     "source_hidden": true
    }
   },
   "outputs": [],
   "source": [
    "UU = np.repeat(U_mean.values,df_pd.time.unique().size)"
   ]
  },
  {
   "cell_type": "code",
   "execution_count": 99,
   "metadata": {
    "jupyter": {
     "source_hidden": true
    }
   },
   "outputs": [],
   "source": [
    "df_pd = df_pd.sort_values('id').set_index('id')"
   ]
  },
  {
   "cell_type": "code",
   "execution_count": null,
   "metadata": {
    "jupyter": {
     "source_hidden": true
    }
   },
   "outputs": [],
   "source": []
  },
  {
   "cell_type": "markdown",
   "metadata": {},
   "source": [
    "### Mean currents model"
   ]
  },
  {
   "cell_type": "code",
   "execution_count": 82,
   "metadata": {},
   "outputs": [],
   "source": [
    "gparams = {'f0': 1.0313e-4, 'beta': 1.6186e-11}\n",
    "r = pp.CROCOrun(root_path+run, prefix='file_', open_nc=['surf'], \n",
    "                chunk_time={'his': 1, 'surf': 1}, grid_params=gparams)"
   ]
  },
  {
   "cell_type": "code",
   "execution_count": 75,
   "metadata": {},
   "outputs": [],
   "source": [
    "ds = r['surf'].assign_coords(time=ds.time_counter)"
   ]
  },
  {
   "cell_type": "code",
   "execution_count": 76,
   "metadata": {},
   "outputs": [],
   "source": [
    "dsi = ds.sel(time=slice(1500,1600))"
   ]
  },
  {
   "cell_type": "code",
   "execution_count": 84,
   "metadata": {},
   "outputs": [
    {
     "data": {
      "text/plain": [
       "(14400, 1, 722, 257)"
      ]
     },
     "execution_count": 84,
     "metadata": {},
     "output_type": "execute_result"
    }
   ],
   "source": [
    "dsi.u.shape"
   ]
  },
  {
   "cell_type": "code",
   "execution_count": 78,
   "metadata": {},
   "outputs": [],
   "source": [
    "def u2rho(var_u):\n",
    "    [Tp,Mp,L] = var_u.shape\n",
    "    Lp = L+1\n",
    "    Lm = L-1\n",
    "    u_rho = np.zeros((Tp,Mp,Lp))\n",
    "    u_rho[:,:,1:L]=0.5*(var_u[:,:,0:Lm]+var_u[:,:,1:L])\n",
    "    u_rho[:,:,0]=u_rho[:,:,1]\n",
    "    u_rho[:,:,Lp-1]=u_rho[:,:,L-1]\n",
    "    return u_rho\n",
    "def v2rho(var_v):\n",
    "    [Tp,M,Lp] = var_v.shape\n",
    "    Mp = M+1\n",
    "    Mm = M-1\n",
    "    v_rho = np.zeros((Tp,Mp,Lp))\n",
    "    v_rho[:,1:M,:]=0.5*(var_v[:,0:Mm,:]+var_v[:,1:M,:])\n",
    "    v_rho[:,0,:]=v_rho[:,1,:]\n",
    "    v_rho[:,Mp-1,:]=v_rho[:,M-1,:]\n",
    "    return v_rho"
   ]
  },
  {
   "cell_type": "code",
   "execution_count": null,
   "metadata": {},
   "outputs": [],
   "source": [
    "v_rho = v2rho(dsi.v[:,0,:,:].values)"
   ]
  },
  {
   "cell_type": "code",
   "execution_count": null,
   "metadata": {},
   "outputs": [],
   "source": [
    "u_rho = u2rho(dsi.u[:,0,:,:].values)"
   ]
  },
  {
   "cell_type": "code",
   "execution_count": null,
   "metadata": {},
   "outputs": [],
   "source": [
    "U_rho = np.sqrt(u_rho**2+v_rho**2)"
   ]
  },
  {
   "cell_type": "code",
   "execution_count": 64,
   "metadata": {},
   "outputs": [
    {
     "data": {
      "text/plain": [
       "array([[[-0.00111934, -0.00111934, -0.00111861, ..., -0.00115353,\n",
       "         -0.00112403, -0.00112403],\n",
       "        [-0.0020523 , -0.0020523 , -0.00204775, ..., -0.00208602,\n",
       "         -0.00206088, -0.00206088],\n",
       "        [-0.0030516 , -0.0030516 , -0.00304153, ..., -0.00308267,\n",
       "         -0.00306402, -0.00306402],\n",
       "        ...,\n",
       "        [ 0.00232081,  0.00232081,  0.00214107, ...,  0.00267431,\n",
       "          0.00249855,  0.00249855],\n",
       "        [ 0.00232446,  0.00232446,  0.00214411, ...,  0.0026786 ,\n",
       "          0.00250263,  0.00250263],\n",
       "        [ 0.00072376,  0.00072376,  0.00060366, ...,  0.00095653,\n",
       "          0.00084117,  0.00084117]],\n",
       "\n",
       "       [[-0.00167006, -0.00167006, -0.00167052, ..., -0.00170822,\n",
       "         -0.00167516, -0.00167516],\n",
       "        [-0.00262603, -0.00262603, -0.00262221, ..., -0.00266308,\n",
       "         -0.00263504, -0.00263504],\n",
       "        [-0.00363864, -0.00363864, -0.00362932, ..., -0.00367262,\n",
       "         -0.00365144, -0.00365144],\n",
       "        ...,\n",
       "        [ 0.00231158,  0.00231158,  0.00213145, ...,  0.00266622,\n",
       "          0.00248993,  0.00248993],\n",
       "        [ 0.00231502,  0.00231502,  0.0021342 , ...,  0.00267047,\n",
       "          0.00249389,  0.00249389],\n",
       "        [ 0.00072042,  0.00072042,  0.00060079, ...,  0.00095236,\n",
       "          0.00083741,  0.00083741]],\n",
       "\n",
       "       [[-0.00222597, -0.00222597, -0.00222612, ..., -0.00226908,\n",
       "         -0.00223212, -0.00223212],\n",
       "        [-0.00319867, -0.00319867, -0.00319432, ..., -0.00324004,\n",
       "         -0.00320869, -0.00320869],\n",
       "        [-0.00421696, -0.00421696, -0.00420744, ..., -0.00425477,\n",
       "         -0.00423057, -0.00423057],\n",
       "        ...,\n",
       "        [ 0.00230011,  0.00230011,  0.00211965, ...,  0.00265585,\n",
       "          0.00247904,  0.00247904],\n",
       "        [ 0.00230331,  0.00230331,  0.00212209, ...,  0.00266002,\n",
       "          0.00248285,  0.00248285],\n",
       "        [ 0.00071659,  0.00071659,  0.00059743, ...,  0.00094768,\n",
       "          0.00083313,  0.00083313]],\n",
       "\n",
       "       ...,\n",
       "\n",
       "       [[-0.0067519 , -0.0067519 , -0.00668145, ..., -0.00687174,\n",
       "         -0.00681864, -0.00681864],\n",
       "        [-0.00621771, -0.00621771, -0.00614302, ..., -0.00633755,\n",
       "         -0.0062858 , -0.0062858 ],\n",
       "        [-0.00549658, -0.00549658, -0.00542424, ..., -0.00561596,\n",
       "         -0.00556325, -0.00556325],\n",
       "        ...,\n",
       "        [ 0.00125296,  0.00125296,  0.00107484, ...,  0.00160991,\n",
       "          0.0014315 ,  0.0014315 ],\n",
       "        [ 0.00124371,  0.00124371,  0.00106599, ...,  0.00160067,\n",
       "          0.00142219,  0.00142219],\n",
       "        [ 0.0004138 ,  0.0004138 ,  0.00025329, ...,  0.00073142,\n",
       "          0.00057445,  0.00057445]],\n",
       "\n",
       "       [[-0.00633043, -0.00633043, -0.00626149, ..., -0.00643665,\n",
       "         -0.00639093, -0.00639093],\n",
       "        [-0.00570878, -0.00570878, -0.00563811, ..., -0.00581437,\n",
       "         -0.00576974, -0.00576974],\n",
       "        [-0.00492337, -0.00492337, -0.00485453, ..., -0.0050299 ,\n",
       "         -0.00498364, -0.00498364],\n",
       "        ...,\n",
       "        [ 0.001235  ,  0.001235  ,  0.00105745, ...,  0.00159178,\n",
       "          0.00141327,  0.00141327],\n",
       "        [ 0.00122575,  0.00122575,  0.00104869, ...,  0.00158247,\n",
       "          0.00140391,  0.00140391],\n",
       "        [ 0.00040067,  0.00040067,  0.00024   , ...,  0.00071867,\n",
       "          0.0005615 ,  0.0005615 ]],\n",
       "\n",
       "       [[-0.00585658, -0.00585658, -0.00579102, ..., -0.0059505 ,\n",
       "         -0.00591001, -0.00591001],\n",
       "        [-0.00515886, -0.00515886, -0.00509303, ..., -0.00525267,\n",
       "         -0.00521255, -0.00521255],\n",
       "        [-0.00431999, -0.00431999, -0.0042556 , ..., -0.00441541,\n",
       "         -0.00437344, -0.00437344],\n",
       "        ...,\n",
       "        [ 0.00121705,  0.00121705,  0.00104007, ...,  0.00157357,\n",
       "          0.00139501,  0.00139501],\n",
       "        [ 0.00120783,  0.00120783,  0.00103143, ...,  0.0015642 ,\n",
       "          0.00138561,  0.00138561],\n",
       "        [ 0.00038739,  0.00038739,  0.00022655, ...,  0.00070576,\n",
       "          0.00054838,  0.00054838]]])"
      ]
     },
     "execution_count": 64,
     "metadata": {},
     "output_type": "execute_result"
    }
   ],
   "source": [
    "u_rho"
   ]
  },
  {
   "cell_type": "code",
   "execution_count": 95,
   "metadata": {},
   "outputs": [
    {
     "data": {
      "text/plain": [
       "slice(0, 4, 2)"
      ]
     },
     "execution_count": 95,
     "metadata": {},
     "output_type": "execute_result"
    }
   ],
   "source": [
    "slice(0,4,2)"
   ]
  },
  {
   "cell_type": "code",
   "execution_count": null,
   "metadata": {},
   "outputs": [],
   "source": [
    "umt = u_rho.mean(axis=0).mean(axis=1)#slice(0,2,2))\n",
    "vmt = v_rho.mean(axis=0).mean(axis=0)"
   ]
  },
  {
   "cell_type": "code",
   "execution_count": 107,
   "metadata": {
    "collapsed": true,
    "jupyter": {
     "outputs_hidden": true,
     "source_hidden": true
    }
   },
   "outputs": [
    {
     "data": {
      "text/plain": [
       "(1, 250)"
      ]
     },
     "execution_count": 107,
     "metadata": {},
     "output_type": "execute_result"
    },
    {
     "data": {
      "image/png": "[encoded data removed]",
      "text/plain": [
       "<Figure size 720x360 with 2 Axes>"
      ]
     },
     "metadata": {
      "needs_background": "light"
     },
     "output_type": "display_data"
    }
   ],
   "source": [
    "fig = plt.figure(figsize=(10,5))\n",
    "plt.subplot(1,2,1)\n",
    "plt.plot(umt)\n",
    "plt.xlim(150,550)\n",
    "plt.subplot(1,2,2)\n",
    "plt.plot(vmt)\n",
    "plt.xlim(1,250)"
   ]
  },
  {
   "cell_type": "code",
   "execution_count": null,
   "metadata": {},
   "outputs": [],
   "source": [
    "umean_rho = u_rho.mean(axis=0)\n",
    "vmean_rho = v_rho.mean(axis=0)\n",
    "Umean_rho = U_rho.mean(axis=0)"
   ]
  },
  {
   "cell_type": "code",
   "execution_count": null,
   "metadata": {},
   "outputs": [],
   "source": [
    "fig = plt.figure(figsize=(15,10))\n",
    "ax = fig.add_subplot(1,3,1)\n",
    "cs = ax.pcolor(Umean_rho,vmax=2,vmin=0)\n",
    "plt.colorbar(cs)\n",
    "ax.set_aspect('equal')\n",
    "ax1 = fig.add_subplot(1,3,2)\n",
    "cs1 = ax1.pcolor(umean_rho,vmax=1.5,vmin=-1.)\n",
    "ax1.set_aspect('equal')\n",
    "plt.colorbar(cs1)\n",
    "ax2 = fig.add_subplot(1,3,3)\n",
    "cs2 = ax2.pcolor(vmean_rho,vmax=1.5,vmin=-1.5)\n",
    "ax2.set_aspect('equal')\n",
    "plt.colorbar(cs2)"
   ]
  },
  {
   "cell_type": "code",
   "execution_count": 63,
   "metadata": {},
   "outputs": [
    {
     "data": {
      "image/png": "[encoded data removed]",
      "text/plain": [
       "<Figure size 504x504 with 2 Axes>"
      ]
     },
     "metadata": {
      "needs_background": "light"
     },
     "output_type": "display_data"
    }
   ],
   "source": [
    "fig,ax = plt.subplots(figsize=(7,7))\n",
    "cs = ax.pcolor(0.5*(Umean_rho**2))\n",
    "plt.colorbar(cs)\n",
    "ax.set_aspect('equal')"
   ]
  },
  {
   "cell_type": "code",
   "execution_count": 68,
   "metadata": {},
   "outputs": [],
   "source": [
    "time = dsi.time_counter   "
   ]
  },
  {
   "cell_type": "code",
   "execution_count": 69,
   "metadata": {},
   "outputs": [
    {
     "data": {
      "text/plain": [
       "<xarray.DataArray 'time_counter' (time: 100)>\n",
       "array([1510.420139, 1510.427083, 1510.434028, 1510.440972, 1510.447917,\n",
       "       1510.454861, 1510.461806, 1510.46875 , 1510.475694, 1510.482639,\n",
       "       1510.489583, 1510.496528, 1510.503472, 1510.510417, 1510.517361,\n",
       "       1510.524306, 1510.53125 , 1510.538194, 1510.545139, 1510.552083,\n",
       "       1510.559028, 1510.565972, 1510.572917, 1510.579861, 1510.586806,\n",
       "       1510.59375 , 1510.600694, 1510.607639, 1510.614583, 1510.621528,\n",
       "       1510.628472, 1510.635417, 1510.642361, 1510.649306, 1510.65625 ,\n",
       "       1510.663194, 1510.670139, 1510.677083, 1510.684028, 1510.690972,\n",
       "       1510.697917, 1510.704861, 1510.711806, 1510.71875 , 1510.725694,\n",
       "       1510.732639, 1510.739583, 1510.746528, 1510.753472, 1510.760417,\n",
       "       1510.767361, 1510.774306, 1510.78125 , 1510.788194, 1510.795139,\n",
       "       1510.802083, 1510.809028, 1510.815972, 1510.822917, 1510.829861,\n",
       "       1510.836806, 1510.84375 , 1510.850694, 1510.857639, 1510.864583,\n",
       "       1510.871528, 1510.878472, 1510.885417, 1510.892361, 1510.899306,\n",
       "       1510.90625 , 1510.913194, 1510.920139, 1510.927083, 1510.934028,\n",
       "       1510.940972, 1510.947917, 1510.954861, 1510.961806, 1510.96875 ,\n",
       "       1510.975694, 1510.982639, 1510.989583, 1510.996528, 1511.003472,\n",
       "       1511.010417, 1511.017361, 1511.024306, 1511.03125 , 1511.038194,\n",
       "       1511.045139, 1511.052083, 1511.059028, 1511.065972, 1511.072917,\n",
       "       1511.079861, 1511.086806, 1511.09375 , 1511.100694, 1511.107639])\n",
       "Coordinates:\n",
       "    time_instant  (time) float64 dask.array<chunksize=(1,), meta=np.ndarray>\n",
       "    time_counter  (time) float64 1.51e+03 1.51e+03 ... 1.511e+03 1.511e+03\n",
       "Dimensions without coordinates: time"
      ]
     },
     "execution_count": 69,
     "metadata": {},
     "output_type": "execute_result"
    }
   ],
   "source": [
    "time"
   ]
  },
  {
   "cell_type": "code",
   "execution_count": null,
   "metadata": {},
   "outputs": [],
   "source": []
  },
  {
   "cell_type": "code",
   "execution_count": null,
   "metadata": {},
   "outputs": [],
   "source": []
  },
  {
   "cell_type": "code",
   "execution_count": 25,
   "metadata": {},
   "outputs": [],
   "source": [
    "umean_surf = dsi.u[:,0,:,:].mean(axis=0)"
   ]
  },
  {
   "cell_type": "code",
   "execution_count": 26,
   "metadata": {},
   "outputs": [],
   "source": [
    "vmean_surf = dsi.v[:,0,:,:].mean(axis=0)"
   ]
  },
  {
   "cell_type": "code",
   "execution_count": null,
   "metadata": {},
   "outputs": [],
   "source": [
    "v_mean = ds.v[:,0,:,:].mean(axis=0)"
   ]
  },
  {
   "cell_type": "code",
   "execution_count": 24,
   "metadata": {},
   "outputs": [
    {
     "data": {
      "text/plain": [
       "<matplotlib.collections.QuadMesh at 0x2aac31868ba8>"
      ]
     },
     "execution_count": 24,
     "metadata": {},
     "output_type": "execute_result"
    },
    {
     "data": {
      "image/png": "[encoded data removed]",
      "text/plain": [
       "<Figure size 432x288 with 2 Axes>"
      ]
     },
     "metadata": {
      "needs_background": "light"
     },
     "output_type": "display_data"
    }
   ],
   "source": [
    "u_mean.plot()"
   ]
  },
  {
   "cell_type": "code",
   "execution_count": 27,
   "metadata": {
    "collapsed": true,
    "jupyter": {
     "outputs_hidden": true
    }
   },
   "outputs": [
    {
     "ename": "AttributeError",
     "evalue": "'Dataset' object has no attribute 'stats'",
     "output_type": "error",
     "traceback": [
      "\u001b[0;31m---------------------------------------------------------------------------\u001b[0m",
      "\u001b[0;31mAttributeError\u001b[0m                            Traceback (most recent call last)",
      "\u001b[0;32m<ipython-input-27-e15ca5dfdb78>\u001b[0m in \u001b[0;36m<module>\u001b[0;34m\u001b[0m\n\u001b[0;32m----> 1\u001b[0;31m \u001b[0mdsi\u001b[0m\u001b[0;34m.\u001b[0m\u001b[0mstats\u001b[0m\u001b[0;34m\u001b[0m\u001b[0;34m\u001b[0m\u001b[0m\n\u001b[0m",
      "\u001b[0;32m~/miniconda3/envs/croco/lib/python3.7/site-packages/xarray/core/common.py\u001b[0m in \u001b[0;36m__getattr__\u001b[0;34m(self, name)\u001b[0m\n\u001b[1;32m    226\u001b[0m                     \u001b[0;32mreturn\u001b[0m \u001b[0msource\u001b[0m\u001b[0;34m[\u001b[0m\u001b[0mname\u001b[0m\u001b[0;34m]\u001b[0m\u001b[0;34m\u001b[0m\u001b[0;34m\u001b[0m\u001b[0m\n\u001b[1;32m    227\u001b[0m         raise AttributeError(\n\u001b[0;32m--> 228\u001b[0;31m             \u001b[0;34m\"%r object has no attribute %r\"\u001b[0m \u001b[0;34m%\u001b[0m \u001b[0;34m(\u001b[0m\u001b[0mtype\u001b[0m\u001b[0;34m(\u001b[0m\u001b[0mself\u001b[0m\u001b[0;34m)\u001b[0m\u001b[0;34m.\u001b[0m\u001b[0m__name__\u001b[0m\u001b[0;34m,\u001b[0m \u001b[0mname\u001b[0m\u001b[0;34m)\u001b[0m\u001b[0;34m\u001b[0m\u001b[0;34m\u001b[0m\u001b[0m\n\u001b[0m\u001b[1;32m    229\u001b[0m         )\n\u001b[1;32m    230\u001b[0m \u001b[0;34m\u001b[0m\u001b[0m\n",
      "\u001b[0;31mAttributeError\u001b[0m: 'Dataset' object has no attribute 'stats'"
     ]
    }
   ],
   "source": [
    "dsi."
   ]
  },
  {
   "cell_type": "code",
   "execution_count": null,
   "metadata": {},
   "outputs": [],
   "source": [
    "cluster.close()"
   ]
  }
 ],
 "metadata": {
  "kernelspec": {
   "display_name": "Python 3",
   "language": "python",
   "name": "python3"
  },
  "language_info": {
   "codemirror_mode": {
    "name": "ipython",
    "version": 3
   },
   "file_extension": ".py",
   "mimetype": "text/x-python",
   "name": "python",
   "nbconvert_exporter": "python",
   "pygments_lexer": "ipython3",
   "version": "3.7.3"
  }
 },
 "nbformat": 4,
 "nbformat_minor": 4
}
