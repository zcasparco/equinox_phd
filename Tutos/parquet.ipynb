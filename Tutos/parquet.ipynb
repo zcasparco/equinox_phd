{
 "cells": [
  {
   "cell_type": "markdown",
   "metadata": {},
   "source": [
    "# store float data under parquet format"
   ]
  },
  {
   "cell_type": "code",
   "execution_count": 1,
   "metadata": {},
   "outputs": [],
   "source": [
    "import phdequinox.croco_drifter as cdr"
   ]
  },
  {
   "cell_type": "code",
   "execution_count": 3,
   "metadata": {},
   "outputs": [],
   "source": [
    "from dask.distributed import Client\n",
    "#\n",
    "#client = Client()  # set up local cluster on your laptop\n",
    "#\n",
    "from dask_jobqueue import PBSCluster\n",
    "cluster = PBSCluster()\n",
    "w = cluster.scale(jobs=6)\n",
    "#\n",
    "client = Client(cluster) # with distributed cluster"
   ]
  },
  {
   "cell_type": "code",
   "execution_count": 18,
   "metadata": {},
   "outputs": [
    {
     "data": {
      "text/html": [
       "<table style=\"border: 2px solid white;\">\n",
       "<tr>\n",
       "<td style=\"vertical-align: top; border: 0px solid white\">\n",
       "<h3 style=\"text-align: left;\">Client</h3>\n",
       "<ul style=\"text-align: left; list-style: none; margin: 0; padding: 0;\">\n",
       "  <li><b>Scheduler: </b>tcp://10.148.0.76:50543</li>\n",
       "  <li><b>Dashboard: </b><a href='http://10.148.0.76:8787/status' target='_blank'>http://10.148.0.76:8787/status</a>\n",
       "</ul>\n",
       "</td>\n",
       "<td style=\"vertical-align: top; border: 0px solid white\">\n",
       "<h3 style=\"text-align: left;\">Cluster</h3>\n",
       "<ul style=\"text-align: left; list-style:none; margin: 0; padding: 0;\">\n",
       "  <li><b>Workers: </b>84</li>\n",
       "  <li><b>Cores: </b>84</li>\n",
       "  <li><b>Memory: </b>360.36 GB</li>\n",
       "</ul>\n",
       "</td>\n",
       "</tr>\n",
       "</table>"
      ],
      "text/plain": [
       "<Client: 'tcp://10.148.0.76:50543' processes=84 threads=84, memory=360.36 GB>"
      ]
     },
     "execution_count": 18,
     "metadata": {},
     "output_type": "execute_result"
    }
   ],
   "source": [
    "client"
   ]
  },
  {
   "cell_type": "markdown",
   "metadata": {},
   "source": [
    "---\n",
    "\n",
    "## load data"
   ]
  },
  {
   "cell_type": "code",
   "execution_count": 5,
   "metadata": {},
   "outputs": [],
   "source": [
    "#root_path = '/home/datawork-lops-osi/slgentil/croco/jetn/'\n",
    "#root_path = '/home/c11-data/Test_aponte/jetn/old/'\n",
    "root_path = '/home/datawork-lops-osi/equinox/jetn/old/'\n",
    "\n",
    "run = 'jet_cfg1_wp75_4km_1500a2000j_itide/'\n",
    "#run = 'jet_cfg1_wp6_m2_4km_500a1000j/'"
   ]
  },
  {
   "cell_type": "code",
   "execution_count": 17,
   "metadata": {},
   "outputs": [
    {
     "data": {
      "text/plain": [
       "     id    time      xgrid      ygrid  zgrid     depth       temp         u  \\\n",
       "0  2392  1600.0  202.45459  555.30114   50.0 -0.441719  25.880693 -0.043582   \n",
       "1  2393  1600.0  203.35704  556.39832   50.0 -0.447484  25.882115 -0.021729   \n",
       "2  2394  1600.0  200.82907  556.26515   50.0 -0.451100  25.883482 -0.091803   \n",
       "3  2395  1600.0  196.52656  555.71030   50.0 -0.447494  25.885577 -0.135628   \n",
       "4  2692  1600.0  195.98028  551.61897   50.0 -0.420034  25.881794 -0.108055   \n",
       "\n",
       "          v      dudt      dvdt      pres          x           y  \n",
       "0  0.085333  0.000006  0.000015 -3.412012  809.81836  2221.20456  \n",
       "1  0.028096 -0.000005  0.000017 -3.468518  813.42816  2225.59328  \n",
       "2  0.068287  0.000003  0.000030 -3.503944  803.31628  2225.06060  \n",
       "3  0.122027  0.000010  0.000038 -3.468491  786.10624  2222.84120  \n",
       "4  0.283380  0.000037  0.000018 -3.199236  783.92112  2206.47588  "
      ]
     },
     "execution_count": 17,
     "metadata": {},
     "output_type": "execute_result"
    }
   ],
   "source": [
    "dr = cdr.drifter_dataframe(root_path+run, parquet=False, persist=False)\n",
    "dr"
   ]
  },
  {
   "cell_type": "markdown",
   "metadata": {},
   "source": [
    "---\n",
    "### store as is\n",
    "\n",
    "Good for binning data spatially"
   ]
  },
  {
   "cell_type": "code",
   "execution_count": 12,
   "metadata": {},
   "outputs": [
    {
     "name": "stdout",
     "output_type": "stream",
     "text": [
      "CPU times: user 25.8 s, sys: 952 ms, total: 26.7 s\n",
      "Wall time: 1min 25s\n"
     ]
    }
   ],
   "source": [
    "%time dr.store_parquet()"
   ]
  },
  {
   "cell_type": "markdown",
   "metadata": {},
   "source": [
    "---\n",
    "\n",
    "### store with id as index\n",
    "\n",
    "Good processing one drifter at a time\n"
   ]
  },
  {
   "cell_type": "code",
   "execution_count": 21,
   "metadata": {},
   "outputs": [
    {
     "name": "stdout",
     "output_type": "stream",
     "text": [
      "CPU times: user 2min 31s, sys: 3.68 s, total: 2min 35s\n",
      "Wall time: 4min 25s\n"
     ]
    }
   ],
   "source": [
    "%time dr.store_parquet(index='id')"
   ]
  },
  {
   "cell_type": "markdown",
   "metadata": {},
   "source": [
    "---"
   ]
  },
  {
   "cell_type": "code",
   "execution_count": 23,
   "metadata": {},
   "outputs": [
    {
     "name": "stderr",
     "output_type": "stream",
     "text": [
      "distributed.client - ERROR - Failed to reconnect to scheduler after 10.00 seconds, closing client\n",
      "_GatheringFuture exception was never retrieved\n",
      "future: <_GatheringFuture finished exception=CancelledError()>\n",
      "concurrent.futures._base.CancelledError\n"
     ]
    }
   ],
   "source": [
    "cluster.close()"
   ]
  },
  {
   "cell_type": "code",
   "execution_count": null,
   "metadata": {},
   "outputs": [],
   "source": []
  }
 ],
 "metadata": {
  "kernelspec": {
   "display_name": "Python 3",
   "language": "python",
   "name": "python3"
  },
  "language_info": {
   "codemirror_mode": {
    "name": "ipython",
    "version": 3
   },
   "file_extension": ".py",
   "mimetype": "text/x-python",
   "name": "python",
   "nbconvert_exporter": "python",
   "pygments_lexer": "ipython3",
   "version": "3.7.6"
  }
 },
 "nbformat": 4,
 "nbformat_minor": 4
}
